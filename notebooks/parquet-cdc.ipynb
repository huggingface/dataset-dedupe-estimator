{
 "cells": [
  {
   "cell_type": "markdown",
   "id": "3590a7c8",
   "metadata": {},
   "source": [
    "# Parquet Content-Defined Chunking\n",
    "\n",
    "Apache Parquet is a columnar storage format that is widely used in the data engineering community. \n",
    "\n",
    "As Hugging Face hosts nearly 11PB of datasets with Parquet files alone accounting for over 2.2PB of that storage, optimizing Parquet storage is of high priority.\n",
    "Hugging Face has introduced a new storage layer called [Xet](https://huggingface.co/blog/xet-on-the-hub) that leverages content-defined chunking to efficiently deduplicate chunks of data reducing storage costs and improving download/upload speeds.\n",
    "\n",
    "While Xet is format agnostic, Parquet's layout and column-chunk (data page) based compression can produce entirely different byte-level representations for data with minor changes, leading to suboptimal deduplication performance. To address this, the Parquet files should be written in a way that minimizes the byte-level differences between similar data, which is where content-defined chunking (CDC) comes into play.\n",
    "\n",
    "Let's explore the performance benefits of the new Parquet CDC feature used alongside Hugging Face's Xet storage layer."
   ]
  },
  {
   "cell_type": "markdown",
   "id": "2d1690b7",
   "metadata": {},
   "source": [
    "## Prepare the data to experiment with\n",
    "\n",
    "For demonstration purposes, we will use a manageable sized subset of [OpenOrca](https://huggingface.co/datasets/Open-Orca/OpenOrca) dataset."
   ]
  },
  {
   "cell_type": "code",
   "execution_count": 5,
   "id": "e2f540fe",
   "metadata": {},
   "outputs": [
    {
     "data": {
      "text/html": [
       "<div>\n",
       "<style scoped>\n",
       "    .dataframe tbody tr th:only-of-type {\n",
       "        vertical-align: middle;\n",
       "    }\n",
       "\n",
       "    .dataframe tbody tr th {\n",
       "        vertical-align: top;\n",
       "    }\n",
       "\n",
       "    .dataframe thead th {\n",
       "        text-align: right;\n",
       "    }\n",
       "</style>\n",
       "<table border=\"1\" class=\"dataframe\">\n",
       "  <thead>\n",
       "    <tr style=\"text-align: right;\">\n",
       "      <th></th>\n",
       "      <th>id</th>\n",
       "      <th>system_prompt</th>\n",
       "      <th>question_length</th>\n",
       "      <th>question</th>\n",
       "      <th>response_length</th>\n",
       "      <th>response</th>\n",
       "    </tr>\n",
       "  </thead>\n",
       "  <tbody>\n",
       "    <tr>\n",
       "      <th>0</th>\n",
       "      <td>t0.1096615</td>\n",
       "      <td>You are an AI assistant that follows instructi...</td>\n",
       "      <td>234</td>\n",
       "      <td>What is the missing first step of the followin...</td>\n",
       "      <td>70</td>\n",
       "      <td>The missing first step of the process is \"The ...</td>\n",
       "    </tr>\n",
       "    <tr>\n",
       "      <th>1</th>\n",
       "      <td>t0.748882</td>\n",
       "      <td>You are an AI assistant. You will be given a t...</td>\n",
       "      <td>143</td>\n",
       "      <td>Generate a 5-star review (1 being lowest and 5...</td>\n",
       "      <td>1522</td>\n",
       "      <td>I am happy to provide a 5-star review for the ...</td>\n",
       "    </tr>\n",
       "    <tr>\n",
       "      <th>2</th>\n",
       "      <td>flan.1898879</td>\n",
       "      <td>You are an AI assistant. User will you give yo...</td>\n",
       "      <td>2919</td>\n",
       "      <td>Article:Of the 56% who admitted sleeping, 29% ...</td>\n",
       "      <td>828</td>\n",
       "      <td>A survey conducted by the British Airline Pilo...</td>\n",
       "    </tr>\n",
       "    <tr>\n",
       "      <th>3</th>\n",
       "      <td>flan.454241</td>\n",
       "      <td>You are an AI assistant. User will you give yo...</td>\n",
       "      <td>52</td>\n",
       "      <td>Translate to French:\\n\\n60-77 and A/CN.9/487, ...</td>\n",
       "      <td>94</td>\n",
       "      <td>\"60-77 et A/CN.9/487, paragraphes\" translates ...</td>\n",
       "    </tr>\n",
       "    <tr>\n",
       "      <th>4</th>\n",
       "      <td>t0.81427</td>\n",
       "      <td>You are an AI assistant. You will be given a t...</td>\n",
       "      <td>350</td>\n",
       "      <td>Please answer the following question: Two team...</td>\n",
       "      <td>518</td>\n",
       "      <td>Based on the information provided in the parag...</td>\n",
       "    </tr>\n",
       "  </tbody>\n",
       "</table>\n",
       "</div>"
      ],
      "text/plain": [
       "             id                                      system_prompt  \\\n",
       "0    t0.1096615  You are an AI assistant that follows instructi...   \n",
       "1     t0.748882  You are an AI assistant. You will be given a t...   \n",
       "2  flan.1898879  You are an AI assistant. User will you give yo...   \n",
       "3   flan.454241  You are an AI assistant. User will you give yo...   \n",
       "4      t0.81427  You are an AI assistant. You will be given a t...   \n",
       "\n",
       "   question_length                                           question  \\\n",
       "0              234  What is the missing first step of the followin...   \n",
       "1              143  Generate a 5-star review (1 being lowest and 5...   \n",
       "2             2919  Article:Of the 56% who admitted sleeping, 29% ...   \n",
       "3               52  Translate to French:\\n\\n60-77 and A/CN.9/487, ...   \n",
       "4              350  Please answer the following question: Two team...   \n",
       "\n",
       "   response_length                                           response  \n",
       "0               70  The missing first step of the process is \"The ...  \n",
       "1             1522  I am happy to provide a 5-star review for the ...  \n",
       "2              828  A survey conducted by the British Airline Pilo...  \n",
       "3               94  \"60-77 et A/CN.9/487, paragraphes\" translates ...  \n",
       "4              518  Based on the information provided in the parag...  "
      ]
     },
     "execution_count": 5,
     "metadata": {},
     "output_type": "execute_result"
    }
   ],
   "source": [
    "import numpy as np\n",
    "import pyarrow as pa\n",
    "import pyarrow.compute as pc\n",
    "import pyarrow.parquet as pq\n",
    "from huggingface_hub import hf_hub_download\n",
    "\n",
    "\n",
    "# download the dataset from Hugging Face Hub into local cache\n",
    "path = hf_hub_download(\n",
    "    repo_id=\"Open-Orca/OpenOrca\", \n",
    "    filename=\"3_5M-GPT3_5-Augmented.parquet\", \n",
    "    repo_type=\"dataset\"\n",
    ")\n",
    "\n",
    "# read the cached parquet file into a PyArrow table \n",
    "orca = pq.read_table(path, schema=pa.schema([\n",
    "    pa.field(\"id\", pa.string()),\n",
    "    pa.field(\"system_prompt\", pa.string()),\n",
    "    pa.field(\"question\", pa.large_string()),\n",
    "    pa.field(\"response\", pa.large_string()),\n",
    "]))\n",
    "\n",
    "# augment the table some additional columns\n",
    "orca = orca.add_column(\n",
    "    orca.schema.get_field_index(\"question\"),\n",
    "    \"question_length\",\n",
    "    pc.utf8_length(orca[\"question\"])\n",
    ")\n",
    "orca = orca.add_column(\n",
    "    orca.schema.get_field_index(\"response\"),\n",
    "    \"response_length\",\n",
    "    pc.utf8_length(orca[\"response\"])\n",
    ")\n",
    "\n",
    "# shuffle the table to make it unique to the Xet storage\n",
    "seed = 5\n",
    "rng = np.random.default_rng(seed)\n",
    "indices = rng.permutation(orca.num_rows)\n",
    "orca = orca.take(indices)\n",
    "\n",
    "# limit the table to the first 100,000 rows \n",
    "table = orca[:100_000]\n",
    "\n",
    "# take a look at the first 5 rows of the table\n",
    "table[:5].to_pandas()"
   ]
  },
  {
   "cell_type": "markdown",
   "id": "d4449fe3",
   "metadata": {},
   "source": [
    "### Upload the table as a Parquet file to Hugging Face Hub\n",
    "\n",
    "Since [pyarrow>=21.0.0](https://github.com/apache/arrow/pull/45089) we can use Hugging Face URIs in the `pyarrow` functions to directly read and write parquet (and other file formats) files to the Hub using the `hf://` URI scheme."
   ]
  },
  {
   "cell_type": "code",
   "execution_count": 6,
   "id": "8d23b316",
   "metadata": {},
   "outputs": [
    {
     "data": {
      "application/vnd.jupyter.widget-view+json": {
       "model_id": "7b99f193b80740609a8f5afea01b53f0",
       "version_major": 2,
       "version_minor": 0
      },
      "text/plain": [
       "Processing Files (0 / 0)                : |          |  0.00B /  0.00B            "
      ]
     },
     "metadata": {},
     "output_type": "display_data"
    },
    {
     "data": {
      "application/vnd.jupyter.widget-view+json": {
       "model_id": "8edb23c435e54089bf47fcb41460cec3",
       "version_major": 2,
       "version_minor": 0
      },
      "text/plain": [
       "New Data Upload                         : |          |  0.00B /  0.00B            "
      ]
     },
     "metadata": {},
     "output_type": "display_data"
    },
    {
     "data": {
      "application/vnd.jupyter.widget-view+json": {
       "model_id": "bff6fc079e124a8cbd8a97199d37c830",
       "version_major": 2,
       "version_minor": 0
      },
      "text/plain": [
       "  ..._mlhlq2kgrd_m0000gn/T/hffs-lv_5d4e9:   0%|          | 19.1kB / 96.4MB            "
      ]
     },
     "metadata": {},
     "output_type": "display_data"
    }
   ],
   "source": [
    "# Write the table directly to the Hugging Face Hub\n",
    "pq.write_table(table, \"hf://datasets/kszucs/pq/orca.parquet\")"
   ]
  },
  {
   "cell_type": "markdown",
   "id": "1177c022",
   "metadata": {},
   "source": [
    "We can see that the table has been uploaded entirely (new data uploaded equals to the total data) as new data because it is not known to the Xet storage layer yet. Now read it back as a `pyarrow` table:"
   ]
  },
  {
   "cell_type": "code",
   "execution_count": 7,
   "id": "170d8bf6",
   "metadata": {},
   "outputs": [],
   "source": [
    "downloaded_table = pq.read_table(\"hf://datasets/kszucs/pq/orca.parquet\")\n",
    "assert downloaded_table.equals(table)"
   ]
  },
  {
   "cell_type": "markdown",
   "id": "d64928ef",
   "metadata": {},
   "source": [
    "Note that all `pyarrow` functions that accept a file path also accept a Hugging Face URI, like [pyarrow datasets](https://arrow.apache.org/docs/python/dataset.html), \n",
    "[CSV functions](https://arrow.apache.org/docs/python/generated/pyarrow.csv.read_csv.html), [incremental Parquet writer](https://arrow.apache.org/docs/python/generated/pyarrow.parquet.ParquetWriter.html) or reading only the parquet metadata:"
   ]
  },
  {
   "cell_type": "code",
   "execution_count": 8,
   "id": "a4cd2d26",
   "metadata": {},
   "outputs": [
    {
     "data": {
      "text/plain": [
       "<pyarrow._parquet.FileMetaData object at 0x1342597b0>\n",
       "  created_by: parquet-cpp-arrow version 21.0.0-SNAPSHOT\n",
       "  num_columns: 6\n",
       "  num_rows: 100000\n",
       "  num_row_groups: 1\n",
       "  format_version: 2.6\n",
       "  serialized_size: 3979"
      ]
     },
     "execution_count": 8,
     "metadata": {},
     "output_type": "execute_result"
    }
   ],
   "source": [
    "pq.read_metadata(\"hf://datasets/kszucs/pq/orca.parquet\")"
   ]
  },
  {
   "cell_type": "markdown",
   "id": "af1d8b79",
   "metadata": {},
   "source": [
    "## Different Use Cases for Parquet Deduplication\n",
    "\n",
    "To demonstrate the effectiveness of the content-defined chunking feature, we will try out how it performs in case of:\n",
    "1. Re-uploading exact copies of the table\n",
    "2. Adding/removing columns from the table\n",
    "3. Changing column types in the table\n",
    "4. Appending new rows and concatenating tables\n",
    "5. Inserting / deleting rows in the table\n",
    "6. Change row-group size of the table\n",
    "7. Using Varying File-Level Splits\n"
   ]
  },
  {
   "cell_type": "markdown",
   "id": "a2db4bfc",
   "metadata": {},
   "source": [
    "### 1. Re-uploading an Exact Copies of the Table\n",
    "\n",
    "While this use case sounds trivial, traditional file systems do not deduplicate files resulting in full re-upload and re-download of the data. In contrast, a system utilizing content-defined chunking can recognize that the file content is identical and avoid unnecessary data transfer."
   ]
  },
  {
   "cell_type": "code",
   "execution_count": 9,
   "id": "7feb1c4f",
   "metadata": {},
   "outputs": [
    {
     "data": {
      "application/vnd.jupyter.widget-view+json": {
       "model_id": "4393acd1587b480f81357ad8d7aef94b",
       "version_major": 2,
       "version_minor": 0
      },
      "text/plain": [
       "Processing Files (0 / 0)                : |          |  0.00B /  0.00B            "
      ]
     },
     "metadata": {},
     "output_type": "display_data"
    },
    {
     "data": {
      "application/vnd.jupyter.widget-view+json": {
       "model_id": "1851c326c5204eeaa047fdf27fd01c0b",
       "version_major": 2,
       "version_minor": 0
      },
      "text/plain": [
       "New Data Upload                         : |          |  0.00B /  0.00B            "
      ]
     },
     "metadata": {},
     "output_type": "display_data"
    },
    {
     "data": {
      "application/vnd.jupyter.widget-view+json": {
       "model_id": "e57cf3894012428cb65cf3b9caafd48c",
       "version_major": 2,
       "version_minor": 0
      },
      "text/plain": [
       "  ..._mlhlq2kgrd_m0000gn/T/hffs-m497zyof: 100%|##########| 96.4MB / 96.4MB            "
      ]
     },
     "metadata": {},
     "output_type": "display_data"
    }
   ],
   "source": [
    "pq.write_table(table, \"hf://datasets/kszucs/pq/orca-copy.parquet\")"
   ]
  },
  {
   "cell_type": "markdown",
   "id": "731a1db4",
   "metadata": {},
   "source": [
    "We can see that no new data has been uploaded, and the operation was instantaneous. Now let's see what happens if we upload the the same file again but to a different repository:\n"
   ]
  },
  {
   "cell_type": "code",
   "execution_count": 10,
   "id": "774993c8",
   "metadata": {},
   "outputs": [
    {
     "data": {
      "application/vnd.jupyter.widget-view+json": {
       "model_id": "c4fb84119b5d4cadb55889c4421ad892",
       "version_major": 2,
       "version_minor": 0
      },
      "text/plain": [
       "Processing Files (0 / 0)                : |          |  0.00B /  0.00B            "
      ]
     },
     "metadata": {},
     "output_type": "display_data"
    },
    {
     "data": {
      "application/vnd.jupyter.widget-view+json": {
       "model_id": "a27161f84ca54a5e94ee00baa2e2a54e",
       "version_major": 2,
       "version_minor": 0
      },
      "text/plain": [
       "New Data Upload                         : |          |  0.00B /  0.00B            "
      ]
     },
     "metadata": {},
     "output_type": "display_data"
    },
    {
     "data": {
      "application/vnd.jupyter.widget-view+json": {
       "model_id": "c95fac1918834911bd2f5083e92d7b01",
       "version_major": 2,
       "version_minor": 0
      },
      "text/plain": [
       "  ..._mlhlq2kgrd_m0000gn/T/hffs-q8u1gjr_: 100%|##########| 96.4MB / 96.4MB            "
      ]
     },
     "metadata": {},
     "output_type": "display_data"
    }
   ],
   "source": [
    "pq.write_table(table, \"hf://datasets/kszucs/pq-copy/orca-copy-again.parquet\")"
   ]
  },
  {
   "cell_type": "markdown",
   "id": "9b3b9d9b",
   "metadata": {},
   "source": [
    "The upload was instantaneous again since deduplication works across repositories as well. This is a key feature of the Xet storage layer, allowing efficient data sharing and collaboration. "
   ]
  },
  {
   "cell_type": "markdown",
   "id": "ade03fca",
   "metadata": {},
   "source": [
    "### 2. Adding and Removing Columns from the Table\n",
    "\n",
    "First write out the original and changed tables to local parquet files to see their sizes:"
   ]
  },
  {
   "cell_type": "code",
   "execution_count": 11,
   "id": "c1248891",
   "metadata": {},
   "outputs": [],
   "source": [
    "table_with_new_columns = table.add_column(\n",
    "    table.schema.get_field_index(\"response\"),\n",
    "    \"response_short\",\n",
    "    pc.utf8_slice_codeunits(table[\"response\"], 0, 10)\n",
    ")\n",
    "table_with_removed_columns = table.drop([\"response\"])\n",
    "    \n",
    "pq.write_table(table, \"/tmp/original.parquet\")\n",
    "pq.write_table(table_with_new_columns, \"/tmp/with-new-columns.parquet\")\n",
    "pq.write_table(table_with_removed_columns, \"/tmp/with-removed-columns.parquet\")"
   ]
  },
  {
   "cell_type": "code",
   "execution_count": 12,
   "id": "ebe9fb5a",
   "metadata": {},
   "outputs": [
    {
     "name": "stdout",
     "output_type": "stream",
     "text": [
      "-rw-r--r--  1 kszucs  wheel    92M Jul 20 22:17 /tmp/original.parquet\n",
      "-rw-r--r--  1 kszucs  wheel    92M Jul 20 22:18 /tmp/with-new-columns.parquet\n",
      "-rw-r--r--  1 kszucs  wheel    68M Jul 20 22:18 /tmp/with-removed-columns.parquet\n"
     ]
    }
   ],
   "source": [
    "!ls -lah /tmp/*.parquet"
   ]
  },
  {
   "cell_type": "markdown",
   "id": "1b8f7782",
   "metadata": {},
   "source": [
    "Now upload them to Hugging Face to see how much data is actually transferred:"
   ]
  },
  {
   "cell_type": "code",
   "execution_count": 13,
   "id": "ba11dd54",
   "metadata": {},
   "outputs": [
    {
     "data": {
      "application/vnd.jupyter.widget-view+json": {
       "model_id": "3ad2099aabe6446da95aee6d7dbe429d",
       "version_major": 2,
       "version_minor": 0
      },
      "text/plain": [
       "Processing Files (0 / 0)                : |          |  0.00B /  0.00B            "
      ]
     },
     "metadata": {},
     "output_type": "display_data"
    },
    {
     "data": {
      "application/vnd.jupyter.widget-view+json": {
       "model_id": "4be2bd467d6248dbb063f3d8fc33d84d",
       "version_major": 2,
       "version_minor": 0
      },
      "text/plain": [
       "New Data Upload                         : |          |  0.00B /  0.00B            "
      ]
     },
     "metadata": {},
     "output_type": "display_data"
    },
    {
     "data": {
      "application/vnd.jupyter.widget-view+json": {
       "model_id": "e3801f79d92a4a1ab21591a1ba42d41f",
       "version_major": 2,
       "version_minor": 0
      },
      "text/plain": [
       "  ..._mlhlq2kgrd_m0000gn/T/hffs-1m23rhv4:  99%|#########9| 96.2MB / 96.9MB            "
      ]
     },
     "metadata": {},
     "output_type": "display_data"
    }
   ],
   "source": [
    "pq.write_table(table_with_new_columns, \"hf://datasets/kszucs/pq/orca-added-columns.parquet\")"
   ]
  },
  {
   "cell_type": "markdown",
   "id": "0b411122",
   "metadata": {},
   "source": [
    "We can see that only the new columns and the new parquet metadata placed in the file's footer were uploaded, while the original data was not transferred again. This is a huge benefit of the Xet storage layer, as it allows us to efficiently add new columns without transferring the entire dataset again.\n",
    "\n",
    "Same applies to removing columns, as we can see below:"
   ]
  },
  {
   "cell_type": "code",
   "execution_count": 14,
   "id": "8ea5f76b",
   "metadata": {},
   "outputs": [
    {
     "data": {
      "application/vnd.jupyter.widget-view+json": {
       "model_id": "1a0e05290f9649e28494566f582e05ed",
       "version_major": 2,
       "version_minor": 0
      },
      "text/plain": [
       "Processing Files (0 / 0)                : |          |  0.00B /  0.00B            "
      ]
     },
     "metadata": {},
     "output_type": "display_data"
    },
    {
     "data": {
      "application/vnd.jupyter.widget-view+json": {
       "model_id": "101dfd01930c49a9898927a1efb896ba",
       "version_major": 2,
       "version_minor": 0
      },
      "text/plain": [
       "New Data Upload                         : |          |  0.00B /  0.00B            "
      ]
     },
     "metadata": {},
     "output_type": "display_data"
    },
    {
     "data": {
      "application/vnd.jupyter.widget-view+json": {
       "model_id": "616519cffba647d4b1a989f07eb67006",
       "version_major": 2,
       "version_minor": 0
      },
      "text/plain": [
       "  ..._mlhlq2kgrd_m0000gn/T/hffs-b6eoqycz: 100%|#########9| 71.0MB / 71.1MB            "
      ]
     },
     "metadata": {},
     "output_type": "display_data"
    }
   ],
   "source": [
    "pq.write_table(table_with_removed_columns, \"hf://datasets/kszucs/pq/orca-removed-columns.parquet\")"
   ]
  },
  {
   "cell_type": "markdown",
   "id": "cd510aaa",
   "metadata": {},
   "source": [
    "To have a better understanding of what has been uploaded, we can visualize the differences between the two parquet files using the deduplication estimation tool:"
   ]
  },
  {
   "cell_type": "code",
   "execution_count": 15,
   "id": "74b77dc0",
   "metadata": {},
   "outputs": [
    {
     "data": {
      "text/markdown": [
       "\n",
       "#### Parquet Deduplication for With-new-columns\n",
       "    \n",
       "| Variant | No Compression | Zstd Compression  | Snappy Compression |\n",
       "|---------|----------------|-------------------|--------------------|\n",
       "| Vanilla Parquet | ![with-new-columns Vanilla](temp-none-with-new-columns-nocdc.parquet.png) | ![with-new-columns Vanilla](temp-zstd-with-new-columns-nocdc.parquet.png) | ![with-new-columns Vanilla](temp-snappy-with-new-columns-nocdc.parquet.png) |\n",
       "\n"
      ],
      "text/plain": [
       "<IPython.core.display.Markdown object>"
      ]
     },
     "metadata": {},
     "output_type": "display_data"
    },
    {
     "data": {
      "text/html": [
       "<pre style=\"white-space:pre;overflow-x:auto;line-height:normal;font-family:Menlo,'DejaVu Sans Mono',consolas,'Courier New',monospace\">┏━━━━━━━━━━━━━━┳━━━━━━━━━━━━━┳━━━━━━━━━━━━━┳━━━━━━━━━━━━┳━━━━━━━━━━━━┳━━━━━━━━━━━━━━┳━━━━━━━━━━━━━┳━━━━━━━━━━━━━━━┓\n",
       "┃<span style=\"color: #800080; text-decoration-color: #800080; font-weight: bold\">              </span>┃<span style=\"color: #800080; text-decoration-color: #800080; font-weight: bold\">             </span>┃<span style=\"color: #800080; text-decoration-color: #800080; font-weight: bold\">             </span>┃<span style=\"color: #800080; text-decoration-color: #800080; font-weight: bold\">            </span>┃<span style=\"color: #800080; text-decoration-color: #800080; font-weight: bold\">            </span>┃<span style=\"color: #800080; text-decoration-color: #800080; font-weight: bold\">   Compressed </span>┃<span style=\"color: #800080; text-decoration-color: #800080; font-weight: bold\">             </span>┃<span style=\"color: #800080; text-decoration-color: #800080; font-weight: bold\">    Compressed </span>┃\n",
       "┃<span style=\"color: #800080; text-decoration-color: #800080; font-weight: bold\"> Title        </span>┃<span style=\"color: #800080; text-decoration-color: #800080; font-weight: bold\"> Compression </span>┃<span style=\"color: #800080; text-decoration-color: #800080; font-weight: bold\"> Parquet CDC </span>┃<span style=\"color: #800080; text-decoration-color: #800080; font-weight: bold\"> Total Size </span>┃<span style=\"color: #800080; text-decoration-color: #800080; font-weight: bold\"> Chunk Size </span>┃<span style=\"color: #800080; text-decoration-color: #800080; font-weight: bold\">   Chunk Size </span>┃<span style=\"color: #800080; text-decoration-color: #800080; font-weight: bold\"> Dedup Ratio </span>┃<span style=\"color: #800080; text-decoration-color: #800080; font-weight: bold\">   Dedup Ratio </span>┃\n",
       "┡━━━━━━━━━━━━━━╇━━━━━━━━━━━━━╇━━━━━━━━━━━━━╇━━━━━━━━━━━━╇━━━━━━━━━━━━╇━━━━━━━━━━━━━━╇━━━━━━━━━━━━━╇━━━━━━━━━━━━━━━┩\n",
       "│ with-new-co… │ none        │ nocdc       │  300.4 MiB │  150.7 MiB │     95.8 MiB │         50% │           32% │\n",
       "├──────────────┼─────────────┼─────────────┼────────────┼────────────┼──────────────┼─────────────┼───────────────┤\n",
       "│ with-new-co… │ snappy      │ nocdc       │  184.3 MiB │   92.6 MiB │     93.0 MiB │         50% │           50% │\n",
       "├──────────────┼─────────────┼─────────────┼────────────┼────────────┼──────────────┼─────────────┼───────────────┤\n",
       "│ with-new-co… │ zstd        │ nocdc       │  127.8 MiB │   64.3 MiB │     64.6 MiB │         50% │           51% │\n",
       "└──────────────┴─────────────┴─────────────┴────────────┴────────────┴──────────────┴─────────────┴───────────────┘\n",
       "</pre>\n"
      ],
      "text/plain": [
       "┏━━━━━━━━━━━━━━┳━━━━━━━━━━━━━┳━━━━━━━━━━━━━┳━━━━━━━━━━━━┳━━━━━━━━━━━━┳━━━━━━━━━━━━━━┳━━━━━━━━━━━━━┳━━━━━━━━━━━━━━━┓\n",
       "┃\u001b[1;35m              \u001b[0m┃\u001b[1;35m             \u001b[0m┃\u001b[1;35m             \u001b[0m┃\u001b[1;35m            \u001b[0m┃\u001b[1;35m            \u001b[0m┃\u001b[1;35m \u001b[0m\u001b[1;35m  Compressed\u001b[0m\u001b[1;35m \u001b[0m┃\u001b[1;35m             \u001b[0m┃\u001b[1;35m \u001b[0m\u001b[1;35m   Compressed\u001b[0m\u001b[1;35m \u001b[0m┃\n",
       "┃\u001b[1;35m \u001b[0m\u001b[1;35mTitle       \u001b[0m\u001b[1;35m \u001b[0m┃\u001b[1;35m \u001b[0m\u001b[1;35mCompression\u001b[0m\u001b[1;35m \u001b[0m┃\u001b[1;35m \u001b[0m\u001b[1;35mParquet CDC\u001b[0m\u001b[1;35m \u001b[0m┃\u001b[1;35m \u001b[0m\u001b[1;35mTotal Size\u001b[0m\u001b[1;35m \u001b[0m┃\u001b[1;35m \u001b[0m\u001b[1;35mChunk Size\u001b[0m\u001b[1;35m \u001b[0m┃\u001b[1;35m \u001b[0m\u001b[1;35m  Chunk Size\u001b[0m\u001b[1;35m \u001b[0m┃\u001b[1;35m \u001b[0m\u001b[1;35mDedup Ratio\u001b[0m\u001b[1;35m \u001b[0m┃\u001b[1;35m \u001b[0m\u001b[1;35m  Dedup Ratio\u001b[0m\u001b[1;35m \u001b[0m┃\n",
       "┡━━━━━━━━━━━━━━╇━━━━━━━━━━━━━╇━━━━━━━━━━━━━╇━━━━━━━━━━━━╇━━━━━━━━━━━━╇━━━━━━━━━━━━━━╇━━━━━━━━━━━━━╇━━━━━━━━━━━━━━━┩\n",
       "│ with-new-co… │ none        │ nocdc       │  300.4 MiB │  150.7 MiB │     95.8 MiB │         50% │           32% │\n",
       "├──────────────┼─────────────┼─────────────┼────────────┼────────────┼──────────────┼─────────────┼───────────────┤\n",
       "│ with-new-co… │ snappy      │ nocdc       │  184.3 MiB │   92.6 MiB │     93.0 MiB │         50% │           50% │\n",
       "├──────────────┼─────────────┼─────────────┼────────────┼────────────┼──────────────┼─────────────┼───────────────┤\n",
       "│ with-new-co… │ zstd        │ nocdc       │  127.8 MiB │   64.3 MiB │     64.6 MiB │         50% │           51% │\n",
       "└──────────────┴─────────────┴─────────────┴────────────┴────────────┴──────────────┴─────────────┴───────────────┘\n"
      ]
     },
     "metadata": {},
     "output_type": "display_data"
    }
   ],
   "source": [
    "from de import visualize\n",
    "\n",
    "visualize(table, {\"with-new-columns\": table_with_new_columns})"
   ]
  },
  {
   "cell_type": "markdown",
   "id": "d2d15def",
   "metadata": {},
   "source": [
    "Adding two new columns mean that we have unseen data pages which must be transferred (highlighted in red), but the rest of the data remains unchanged (highlighted in green), so it is not transferred again. Note the small red area in the footer metadata which almost always changes as we modify the parquet file."
   ]
  },
  {
   "cell_type": "code",
   "execution_count": 16,
   "id": "b692d314",
   "metadata": {},
   "outputs": [
    {
     "data": {
      "text/markdown": [
       "\n",
       "#### Parquet Deduplication for With-removed-columns\n",
       "    \n",
       "| Variant | No Compression | Zstd Compression  | Snappy Compression |\n",
       "|---------|----------------|-------------------|--------------------|\n",
       "| Vanilla Parquet | ![with-removed-columns Vanilla](temp-none-with-removed-columns-nocdc.parquet.png) | ![with-removed-columns Vanilla](temp-zstd-with-removed-columns-nocdc.parquet.png) | ![with-removed-columns Vanilla](temp-snappy-with-removed-columns-nocdc.parquet.png) |\n",
       "\n"
      ],
      "text/plain": [
       "<IPython.core.display.Markdown object>"
      ]
     },
     "metadata": {},
     "output_type": "display_data"
    },
    {
     "data": {
      "text/html": [
       "<pre style=\"white-space:pre;overflow-x:auto;line-height:normal;font-family:Menlo,'DejaVu Sans Mono',consolas,'Courier New',monospace\">┏━━━━━━━━━━━━━━┳━━━━━━━━━━━━━┳━━━━━━━━━━━━━┳━━━━━━━━━━━━┳━━━━━━━━━━━━┳━━━━━━━━━━━━━━┳━━━━━━━━━━━━━┳━━━━━━━━━━━━━━━┓\n",
       "┃<span style=\"color: #800080; text-decoration-color: #800080; font-weight: bold\">              </span>┃<span style=\"color: #800080; text-decoration-color: #800080; font-weight: bold\">             </span>┃<span style=\"color: #800080; text-decoration-color: #800080; font-weight: bold\">             </span>┃<span style=\"color: #800080; text-decoration-color: #800080; font-weight: bold\">            </span>┃<span style=\"color: #800080; text-decoration-color: #800080; font-weight: bold\">            </span>┃<span style=\"color: #800080; text-decoration-color: #800080; font-weight: bold\">   Compressed </span>┃<span style=\"color: #800080; text-decoration-color: #800080; font-weight: bold\">             </span>┃<span style=\"color: #800080; text-decoration-color: #800080; font-weight: bold\">    Compressed </span>┃\n",
       "┃<span style=\"color: #800080; text-decoration-color: #800080; font-weight: bold\"> Title        </span>┃<span style=\"color: #800080; text-decoration-color: #800080; font-weight: bold\"> Compression </span>┃<span style=\"color: #800080; text-decoration-color: #800080; font-weight: bold\"> Parquet CDC </span>┃<span style=\"color: #800080; text-decoration-color: #800080; font-weight: bold\"> Total Size </span>┃<span style=\"color: #800080; text-decoration-color: #800080; font-weight: bold\"> Chunk Size </span>┃<span style=\"color: #800080; text-decoration-color: #800080; font-weight: bold\">   Chunk Size </span>┃<span style=\"color: #800080; text-decoration-color: #800080; font-weight: bold\"> Dedup Ratio </span>┃<span style=\"color: #800080; text-decoration-color: #800080; font-weight: bold\">   Dedup Ratio </span>┃\n",
       "┡━━━━━━━━━━━━━━╇━━━━━━━━━━━━━╇━━━━━━━━━━━━━╇━━━━━━━━━━━━╇━━━━━━━━━━━━╇━━━━━━━━━━━━━━╇━━━━━━━━━━━━━╇━━━━━━━━━━━━━━━┩\n",
       "│ with-remove… │ none        │ nocdc       │  258.2 MiB │  149.9 MiB │     95.2 MiB │         58% │           37% │\n",
       "├──────────────┼─────────────┼─────────────┼────────────┼────────────┼──────────────┼─────────────┼───────────────┤\n",
       "│ with-remove… │ snappy      │ nocdc       │  159.7 MiB │   92.0 MiB │     92.3 MiB │         58% │           58% │\n",
       "├──────────────┼─────────────┼─────────────┼────────────┼────────────┼──────────────┼─────────────┼───────────────┤\n",
       "│ with-remove… │ zstd        │ nocdc       │  110.9 MiB │   63.7 MiB │     64.0 MiB │         57% │           58% │\n",
       "└──────────────┴─────────────┴─────────────┴────────────┴────────────┴──────────────┴─────────────┴───────────────┘\n",
       "</pre>\n"
      ],
      "text/plain": [
       "┏━━━━━━━━━━━━━━┳━━━━━━━━━━━━━┳━━━━━━━━━━━━━┳━━━━━━━━━━━━┳━━━━━━━━━━━━┳━━━━━━━━━━━━━━┳━━━━━━━━━━━━━┳━━━━━━━━━━━━━━━┓\n",
       "┃\u001b[1;35m              \u001b[0m┃\u001b[1;35m             \u001b[0m┃\u001b[1;35m             \u001b[0m┃\u001b[1;35m            \u001b[0m┃\u001b[1;35m            \u001b[0m┃\u001b[1;35m \u001b[0m\u001b[1;35m  Compressed\u001b[0m\u001b[1;35m \u001b[0m┃\u001b[1;35m             \u001b[0m┃\u001b[1;35m \u001b[0m\u001b[1;35m   Compressed\u001b[0m\u001b[1;35m \u001b[0m┃\n",
       "┃\u001b[1;35m \u001b[0m\u001b[1;35mTitle       \u001b[0m\u001b[1;35m \u001b[0m┃\u001b[1;35m \u001b[0m\u001b[1;35mCompression\u001b[0m\u001b[1;35m \u001b[0m┃\u001b[1;35m \u001b[0m\u001b[1;35mParquet CDC\u001b[0m\u001b[1;35m \u001b[0m┃\u001b[1;35m \u001b[0m\u001b[1;35mTotal Size\u001b[0m\u001b[1;35m \u001b[0m┃\u001b[1;35m \u001b[0m\u001b[1;35mChunk Size\u001b[0m\u001b[1;35m \u001b[0m┃\u001b[1;35m \u001b[0m\u001b[1;35m  Chunk Size\u001b[0m\u001b[1;35m \u001b[0m┃\u001b[1;35m \u001b[0m\u001b[1;35mDedup Ratio\u001b[0m\u001b[1;35m \u001b[0m┃\u001b[1;35m \u001b[0m\u001b[1;35m  Dedup Ratio\u001b[0m\u001b[1;35m \u001b[0m┃\n",
       "┡━━━━━━━━━━━━━━╇━━━━━━━━━━━━━╇━━━━━━━━━━━━━╇━━━━━━━━━━━━╇━━━━━━━━━━━━╇━━━━━━━━━━━━━━╇━━━━━━━━━━━━━╇━━━━━━━━━━━━━━━┩\n",
       "│ with-remove… │ none        │ nocdc       │  258.2 MiB │  149.9 MiB │     95.2 MiB │         58% │           37% │\n",
       "├──────────────┼─────────────┼─────────────┼────────────┼────────────┼──────────────┼─────────────┼───────────────┤\n",
       "│ with-remove… │ snappy      │ nocdc       │  159.7 MiB │   92.0 MiB │     92.3 MiB │         58% │           58% │\n",
       "├──────────────┼─────────────┼─────────────┼────────────┼────────────┼──────────────┼─────────────┼───────────────┤\n",
       "│ with-remove… │ zstd        │ nocdc       │  110.9 MiB │   63.7 MiB │     64.0 MiB │         57% │           58% │\n",
       "└──────────────┴─────────────┴─────────────┴────────────┴────────────┴──────────────┴─────────────┴───────────────┘\n"
      ]
     },
     "metadata": {},
     "output_type": "display_data"
    }
   ],
   "source": [
    "visualize(table, {\"with-removed-columns\": table_with_removed_columns})"
   ]
  },
  {
   "cell_type": "markdown",
   "id": "890ed6e0",
   "metadata": {},
   "source": [
    "Since we are removing entire columns we can only see changes in the footer metadata, all the other columns remain unchanged and already existing in the storage layer, so they are not transferred again."
   ]
  },
  {
   "cell_type": "markdown",
   "id": "3213d050",
   "metadata": {},
   "source": [
    "### 3. Changing Column Types in the Table\n",
    "\n",
    "Another common use case is changing the column types in the table e.g. to reduce the storage size or to optimize the data for specific queries. Let's change the `question_length` column from `int64` data type to `int32` and see how much data is transferred:"
   ]
  },
  {
   "cell_type": "code",
   "execution_count": 19,
   "id": "a0b5fc2e",
   "metadata": {},
   "outputs": [
    {
     "data": {
      "application/vnd.jupyter.widget-view+json": {
       "model_id": "b5e2a82927a3429e9e580941e3d41ffb",
       "version_major": 2,
       "version_minor": 0
      },
      "text/plain": [
       "Processing Files (0 / 0)                : |          |  0.00B /  0.00B            "
      ]
     },
     "metadata": {},
     "output_type": "display_data"
    },
    {
     "data": {
      "application/vnd.jupyter.widget-view+json": {
       "model_id": "154a252f635b40c6b27ac0a9620dcdf0",
       "version_major": 2,
       "version_minor": 0
      },
      "text/plain": [
       "New Data Upload                         : |          |  0.00B /  0.00B            "
      ]
     },
     "metadata": {},
     "output_type": "display_data"
    },
    {
     "data": {
      "application/vnd.jupyter.widget-view+json": {
       "model_id": "5e709d58106b4d10b8b3e6f26d2fa92b",
       "version_major": 2,
       "version_minor": 0
      },
      "text/plain": [
       "  ..._mlhlq2kgrd_m0000gn/T/hffs-zery87oy:  88%|########8 | 1.58MB / 1.80MB            "
      ]
     },
     "metadata": {},
     "output_type": "display_data"
    }
   ],
   "source": [
    "# first make the table much smaller by removing the large string columns\n",
    "# to highlight the differences better\n",
    "table_without_text = table_with_new_columns.drop([\"question\", \"response\"])\n",
    "\n",
    "# cast the question_length column to int64\n",
    "table_with_casted_column = table_without_text.set_column(\n",
    "    table_without_text.schema.get_field_index(\"question_length\"),\n",
    "    \"question_length\",\n",
    "    table_without_text[\"question_length\"].cast(\"int32\")\n",
    ")\n",
    "\n",
    "# upload the table with the casted column\n",
    "pq.write_table(table_with_casted_column, \"hf://datasets/kszucs/pq/orca-casted-column.parquet\")"
   ]
  },
  {
   "cell_type": "markdown",
   "id": "31844261",
   "metadata": {},
   "source": [
    "Again, we can see that only the new column and the updated parquet metadata were uploaded. Now visualize the deduplication heatmap:"
   ]
  },
  {
   "cell_type": "code",
   "execution_count": 18,
   "id": "0d5ad33f",
   "metadata": {},
   "outputs": [
    {
     "data": {
      "text/markdown": [
       "\n",
       "#### Parquet Deduplication for With-casted-column\n",
       "    \n",
       "| Variant | No Compression | Zstd Compression  | Snappy Compression |\n",
       "|---------|----------------|-------------------|--------------------|\n",
       "| Vanilla Parquet | ![with-casted-column Vanilla](temp-none-with-casted-column-nocdc.parquet.png) | ![with-casted-column Vanilla](temp-zstd-with-casted-column-nocdc.parquet.png) | ![with-casted-column Vanilla](temp-snappy-with-casted-column-nocdc.parquet.png) |\n",
       "\n"
      ],
      "text/plain": [
       "<IPython.core.display.Markdown object>"
      ]
     },
     "metadata": {},
     "output_type": "display_data"
    },
    {
     "data": {
      "text/html": [
       "<pre style=\"white-space:pre;overflow-x:auto;line-height:normal;font-family:Menlo,'DejaVu Sans Mono',consolas,'Courier New',monospace\">┏━━━━━━━━━━━━━━┳━━━━━━━━━━━━━┳━━━━━━━━━━━━━┳━━━━━━━━━━━━┳━━━━━━━━━━━━┳━━━━━━━━━━━━━━┳━━━━━━━━━━━━━┳━━━━━━━━━━━━━━━┓\n",
       "┃<span style=\"color: #800080; text-decoration-color: #800080; font-weight: bold\">              </span>┃<span style=\"color: #800080; text-decoration-color: #800080; font-weight: bold\">             </span>┃<span style=\"color: #800080; text-decoration-color: #800080; font-weight: bold\">             </span>┃<span style=\"color: #800080; text-decoration-color: #800080; font-weight: bold\">            </span>┃<span style=\"color: #800080; text-decoration-color: #800080; font-weight: bold\">            </span>┃<span style=\"color: #800080; text-decoration-color: #800080; font-weight: bold\">   Compressed </span>┃<span style=\"color: #800080; text-decoration-color: #800080; font-weight: bold\">             </span>┃<span style=\"color: #800080; text-decoration-color: #800080; font-weight: bold\">    Compressed </span>┃\n",
       "┃<span style=\"color: #800080; text-decoration-color: #800080; font-weight: bold\"> Title        </span>┃<span style=\"color: #800080; text-decoration-color: #800080; font-weight: bold\"> Compression </span>┃<span style=\"color: #800080; text-decoration-color: #800080; font-weight: bold\"> Parquet CDC </span>┃<span style=\"color: #800080; text-decoration-color: #800080; font-weight: bold\"> Total Size </span>┃<span style=\"color: #800080; text-decoration-color: #800080; font-weight: bold\"> Chunk Size </span>┃<span style=\"color: #800080; text-decoration-color: #800080; font-weight: bold\">   Chunk Size </span>┃<span style=\"color: #800080; text-decoration-color: #800080; font-weight: bold\"> Dedup Ratio </span>┃<span style=\"color: #800080; text-decoration-color: #800080; font-weight: bold\">   Dedup Ratio </span>┃\n",
       "┡━━━━━━━━━━━━━━╇━━━━━━━━━━━━━╇━━━━━━━━━━━━━╇━━━━━━━━━━━━╇━━━━━━━━━━━━╇━━━━━━━━━━━━━━╇━━━━━━━━━━━━━╇━━━━━━━━━━━━━━━┩\n",
       "│ with-casted… │ none        │ nocdc       │    5.1 MiB │    2.8 MiB │      2.0 MiB │         56% │           40% │\n",
       "├──────────────┼─────────────┼─────────────┼────────────┼────────────┼──────────────┼─────────────┼───────────────┤\n",
       "│ with-casted… │ snappy      │ nocdc       │    3.4 MiB │    2.0 MiB │      2.0 MiB │         59% │           59% │\n",
       "├──────────────┼─────────────┼─────────────┼────────────┼────────────┼──────────────┼─────────────┼───────────────┤\n",
       "│ with-casted… │ zstd        │ nocdc       │    2.6 MiB │    1.6 MiB │      1.6 MiB │         61% │           61% │\n",
       "└──────────────┴─────────────┴─────────────┴────────────┴────────────┴──────────────┴─────────────┴───────────────┘\n",
       "</pre>\n"
      ],
      "text/plain": [
       "┏━━━━━━━━━━━━━━┳━━━━━━━━━━━━━┳━━━━━━━━━━━━━┳━━━━━━━━━━━━┳━━━━━━━━━━━━┳━━━━━━━━━━━━━━┳━━━━━━━━━━━━━┳━━━━━━━━━━━━━━━┓\n",
       "┃\u001b[1;35m              \u001b[0m┃\u001b[1;35m             \u001b[0m┃\u001b[1;35m             \u001b[0m┃\u001b[1;35m            \u001b[0m┃\u001b[1;35m            \u001b[0m┃\u001b[1;35m \u001b[0m\u001b[1;35m  Compressed\u001b[0m\u001b[1;35m \u001b[0m┃\u001b[1;35m             \u001b[0m┃\u001b[1;35m \u001b[0m\u001b[1;35m   Compressed\u001b[0m\u001b[1;35m \u001b[0m┃\n",
       "┃\u001b[1;35m \u001b[0m\u001b[1;35mTitle       \u001b[0m\u001b[1;35m \u001b[0m┃\u001b[1;35m \u001b[0m\u001b[1;35mCompression\u001b[0m\u001b[1;35m \u001b[0m┃\u001b[1;35m \u001b[0m\u001b[1;35mParquet CDC\u001b[0m\u001b[1;35m \u001b[0m┃\u001b[1;35m \u001b[0m\u001b[1;35mTotal Size\u001b[0m\u001b[1;35m \u001b[0m┃\u001b[1;35m \u001b[0m\u001b[1;35mChunk Size\u001b[0m\u001b[1;35m \u001b[0m┃\u001b[1;35m \u001b[0m\u001b[1;35m  Chunk Size\u001b[0m\u001b[1;35m \u001b[0m┃\u001b[1;35m \u001b[0m\u001b[1;35mDedup Ratio\u001b[0m\u001b[1;35m \u001b[0m┃\u001b[1;35m \u001b[0m\u001b[1;35m  Dedup Ratio\u001b[0m\u001b[1;35m \u001b[0m┃\n",
       "┡━━━━━━━━━━━━━━╇━━━━━━━━━━━━━╇━━━━━━━━━━━━━╇━━━━━━━━━━━━╇━━━━━━━━━━━━╇━━━━━━━━━━━━━━╇━━━━━━━━━━━━━╇━━━━━━━━━━━━━━━┩\n",
       "│ with-casted… │ none        │ nocdc       │    5.1 MiB │    2.8 MiB │      2.0 MiB │         56% │           40% │\n",
       "├──────────────┼─────────────┼─────────────┼────────────┼────────────┼──────────────┼─────────────┼───────────────┤\n",
       "│ with-casted… │ snappy      │ nocdc       │    3.4 MiB │    2.0 MiB │      2.0 MiB │         59% │           59% │\n",
       "├──────────────┼─────────────┼─────────────┼────────────┼────────────┼──────────────┼─────────────┼───────────────┤\n",
       "│ with-casted… │ zstd        │ nocdc       │    2.6 MiB │    1.6 MiB │      1.6 MiB │         61% │           61% │\n",
       "└──────────────┴─────────────┴─────────────┴────────────┴────────────┴──────────────┴─────────────┴───────────────┘\n"
      ]
     },
     "metadata": {},
     "output_type": "display_data"
    }
   ],
   "source": [
    "visualize(table_without_text, {\"with-casted-column\": table_with_casted_column})"
   ]
  },
  {
   "cell_type": "markdown",
   "id": "c733f327",
   "metadata": {},
   "source": [
    "The first red block indicates the new column that was added, while the second red block indicates the updated metadata in the footer. The rest of the data remains unchanged and is not transferred again."
   ]
  },
  {
   "cell_type": "markdown",
   "id": "8eb37a7e",
   "metadata": {},
   "source": [
    "### 4. Appending New Rows and Concatenating Tables\n",
    "\n",
    "We are going to append new rows by concatenating another slice of the original dataset to the table. "
   ]
  },
  {
   "cell_type": "code",
   "execution_count": 21,
   "id": "4b15a087",
   "metadata": {},
   "outputs": [],
   "source": [
    "table = orca[:100_000]\n",
    "next_10k_rows = orca[100_000:110_000]\n",
    "table_with_appended_rows = pa.concat_tables([table, next_10k_rows])\n",
    "\n",
    "assert len(table_with_appended_rows) == 110_000"
   ]
  },
  {
   "cell_type": "markdown",
   "id": "94c8ae18",
   "metadata": {},
   "source": [
    "Now check that only the new rows are being uploaded since the original data is already known to the Xet storage layer:"
   ]
  },
  {
   "cell_type": "code",
   "execution_count": 22,
   "id": "e7886c66",
   "metadata": {},
   "outputs": [
    {
     "data": {
      "application/vnd.jupyter.widget-view+json": {
       "model_id": "b9536fb35af647dfa73f53c217189857",
       "version_major": 2,
       "version_minor": 0
      },
      "text/plain": [
       "Processing Files (0 / 0)                : |          |  0.00B /  0.00B            "
      ]
     },
     "metadata": {},
     "output_type": "display_data"
    },
    {
     "data": {
      "application/vnd.jupyter.widget-view+json": {
       "model_id": "45d5e9644ff746e6ad26bfc77ba60fa3",
       "version_major": 2,
       "version_minor": 0
      },
      "text/plain": [
       "New Data Upload                         : |          |  0.00B /  0.00B            "
      ]
     },
     "metadata": {},
     "output_type": "display_data"
    },
    {
     "data": {
      "application/vnd.jupyter.widget-view+json": {
       "model_id": "dfadfaeb3c384d42804ea4108f12f7a0",
       "version_major": 2,
       "version_minor": 0
      },
      "text/plain": [
       "  ..._mlhlq2kgrd_m0000gn/T/hffs-b0176x2c:  90%|######### | 95.7MB /  106MB            "
      ]
     },
     "metadata": {},
     "output_type": "display_data"
    }
   ],
   "source": [
    "pq.write_table(table_with_appended_rows, \"hf://datasets/kszucs/pq/orca-appended-rows.parquet\")"
   ]
  },
  {
   "cell_type": "code",
   "execution_count": 24,
   "id": "3ebc9823",
   "metadata": {},
   "outputs": [
    {
     "data": {
      "text/markdown": [
       "\n",
       "#### Parquet Deduplication for With-appended-rows\n",
       "    \n",
       "| Variant | No Compression | Zstd Compression  | Snappy Compression |\n",
       "|---------|----------------|-------------------|--------------------|\n",
       "| Vanilla Parquet | ![with-appended-rows Vanilla](temp-none-with-appended-rows-nocdc.parquet.png) | ![with-appended-rows Vanilla](temp-zstd-with-appended-rows-nocdc.parquet.png) | ![with-appended-rows Vanilla](temp-snappy-with-appended-rows-nocdc.parquet.png) |\n",
       "\n"
      ],
      "text/plain": [
       "<IPython.core.display.Markdown object>"
      ]
     },
     "metadata": {},
     "output_type": "display_data"
    },
    {
     "data": {
      "text/html": [
       "<pre style=\"white-space:pre;overflow-x:auto;line-height:normal;font-family:Menlo,'DejaVu Sans Mono',consolas,'Courier New',monospace\">┏━━━━━━━━━━━━━━┳━━━━━━━━━━━━━┳━━━━━━━━━━━━━┳━━━━━━━━━━━━┳━━━━━━━━━━━━┳━━━━━━━━━━━━━━┳━━━━━━━━━━━━━┳━━━━━━━━━━━━━━━┓\n",
       "┃<span style=\"color: #800080; text-decoration-color: #800080; font-weight: bold\">              </span>┃<span style=\"color: #800080; text-decoration-color: #800080; font-weight: bold\">             </span>┃<span style=\"color: #800080; text-decoration-color: #800080; font-weight: bold\">             </span>┃<span style=\"color: #800080; text-decoration-color: #800080; font-weight: bold\">            </span>┃<span style=\"color: #800080; text-decoration-color: #800080; font-weight: bold\">            </span>┃<span style=\"color: #800080; text-decoration-color: #800080; font-weight: bold\">   Compressed </span>┃<span style=\"color: #800080; text-decoration-color: #800080; font-weight: bold\">             </span>┃<span style=\"color: #800080; text-decoration-color: #800080; font-weight: bold\">    Compressed </span>┃\n",
       "┃<span style=\"color: #800080; text-decoration-color: #800080; font-weight: bold\"> Title        </span>┃<span style=\"color: #800080; text-decoration-color: #800080; font-weight: bold\"> Compression </span>┃<span style=\"color: #800080; text-decoration-color: #800080; font-weight: bold\"> Parquet CDC </span>┃<span style=\"color: #800080; text-decoration-color: #800080; font-weight: bold\"> Total Size </span>┃<span style=\"color: #800080; text-decoration-color: #800080; font-weight: bold\"> Chunk Size </span>┃<span style=\"color: #800080; text-decoration-color: #800080; font-weight: bold\">   Chunk Size </span>┃<span style=\"color: #800080; text-decoration-color: #800080; font-weight: bold\"> Dedup Ratio </span>┃<span style=\"color: #800080; text-decoration-color: #800080; font-weight: bold\">   Dedup Ratio </span>┃\n",
       "┡━━━━━━━━━━━━━━╇━━━━━━━━━━━━━╇━━━━━━━━━━━━━╇━━━━━━━━━━━━╇━━━━━━━━━━━━╇━━━━━━━━━━━━━━╇━━━━━━━━━━━━━╇━━━━━━━━━━━━━━━┩\n",
       "│ with-append… │ none        │ nocdc       │  314.6 MiB │  165.9 MiB │    105.4 MiB │         53% │           33% │\n",
       "├──────────────┼─────────────┼─────────────┼────────────┼────────────┼──────────────┼─────────────┼───────────────┤\n",
       "│ with-append… │ snappy      │ nocdc       │  192.9 MiB │  101.8 MiB │    102.1 MiB │         53% │           53% │\n",
       "├──────────────┼─────────────┼─────────────┼────────────┼────────────┼──────────────┼─────────────┼───────────────┤\n",
       "│ with-append… │ zstd        │ nocdc       │  133.7 MiB │   70.9 MiB │     71.2 MiB │         53% │           53% │\n",
       "└──────────────┴─────────────┴─────────────┴────────────┴────────────┴──────────────┴─────────────┴───────────────┘\n",
       "</pre>\n"
      ],
      "text/plain": [
       "┏━━━━━━━━━━━━━━┳━━━━━━━━━━━━━┳━━━━━━━━━━━━━┳━━━━━━━━━━━━┳━━━━━━━━━━━━┳━━━━━━━━━━━━━━┳━━━━━━━━━━━━━┳━━━━━━━━━━━━━━━┓\n",
       "┃\u001b[1;35m              \u001b[0m┃\u001b[1;35m             \u001b[0m┃\u001b[1;35m             \u001b[0m┃\u001b[1;35m            \u001b[0m┃\u001b[1;35m            \u001b[0m┃\u001b[1;35m \u001b[0m\u001b[1;35m  Compressed\u001b[0m\u001b[1;35m \u001b[0m┃\u001b[1;35m             \u001b[0m┃\u001b[1;35m \u001b[0m\u001b[1;35m   Compressed\u001b[0m\u001b[1;35m \u001b[0m┃\n",
       "┃\u001b[1;35m \u001b[0m\u001b[1;35mTitle       \u001b[0m\u001b[1;35m \u001b[0m┃\u001b[1;35m \u001b[0m\u001b[1;35mCompression\u001b[0m\u001b[1;35m \u001b[0m┃\u001b[1;35m \u001b[0m\u001b[1;35mParquet CDC\u001b[0m\u001b[1;35m \u001b[0m┃\u001b[1;35m \u001b[0m\u001b[1;35mTotal Size\u001b[0m\u001b[1;35m \u001b[0m┃\u001b[1;35m \u001b[0m\u001b[1;35mChunk Size\u001b[0m\u001b[1;35m \u001b[0m┃\u001b[1;35m \u001b[0m\u001b[1;35m  Chunk Size\u001b[0m\u001b[1;35m \u001b[0m┃\u001b[1;35m \u001b[0m\u001b[1;35mDedup Ratio\u001b[0m\u001b[1;35m \u001b[0m┃\u001b[1;35m \u001b[0m\u001b[1;35m  Dedup Ratio\u001b[0m\u001b[1;35m \u001b[0m┃\n",
       "┡━━━━━━━━━━━━━━╇━━━━━━━━━━━━━╇━━━━━━━━━━━━━╇━━━━━━━━━━━━╇━━━━━━━━━━━━╇━━━━━━━━━━━━━━╇━━━━━━━━━━━━━╇━━━━━━━━━━━━━━━┩\n",
       "│ with-append… │ none        │ nocdc       │  314.6 MiB │  165.9 MiB │    105.4 MiB │         53% │           33% │\n",
       "├──────────────┼─────────────┼─────────────┼────────────┼────────────┼──────────────┼─────────────┼───────────────┤\n",
       "│ with-append… │ snappy      │ nocdc       │  192.9 MiB │  101.8 MiB │    102.1 MiB │         53% │           53% │\n",
       "├──────────────┼─────────────┼─────────────┼────────────┼────────────┼──────────────┼─────────────┼───────────────┤\n",
       "│ with-append… │ zstd        │ nocdc       │  133.7 MiB │   70.9 MiB │     71.2 MiB │         53% │           53% │\n",
       "└──────────────┴─────────────┴─────────────┴────────────┴────────────┴──────────────┴─────────────┴───────────────┘\n"
      ]
     },
     "metadata": {},
     "output_type": "display_data"
    }
   ],
   "source": [
    "visualize(table, {\"with-appended-rows\": table_with_appended_rows})"
   ]
  },
  {
   "cell_type": "markdown",
   "id": "bc6ea95c",
   "metadata": {},
   "source": [
    "Since each column gets new data, we can see multiple red strides. This is due to the actual parquet file specification where whole columns are layed out after each other (within each row group). Note the larger red areas at the bottom which account for the large string columns."
   ]
  },
  {
   "cell_type": "markdown",
   "id": "66b3eb8d",
   "metadata": {},
   "source": [
    "### 5. Inserting / Deleting Rows in the Table\n",
    "\n",
    "Here comes the difficult part as insertions and deletions are shifting the existing rows which lead to different columns chunks or data pages in the parquet nomenclature. Since each data page is compressed separately, even a single row insertion or deletion can lead to a completely different byte-level representation starting from the edited row(s) to the end of the parquet file. \n",
    "\n",
    "This parquet specific problem cannot be solved by the Xet storage layer alone, the parquet file itself needs to be written in a way that minimizes the data page differences even if there are inserted or deleted rows. \n",
    "\n",
    "Let's try to use the existing mechanism and see how it performs."
   ]
  },
  {
   "cell_type": "code",
   "execution_count": 25,
   "id": "504014a1",
   "metadata": {},
   "outputs": [],
   "source": [
    "table = orca[:100_000]\n",
    "\n",
    "# remove 4k rows from two places \n",
    "table_with_deleted_rows = pa.concat_tables([\n",
    "    orca[:15_000], \n",
    "    orca[18_000:60_000],\n",
    "    orca[61_000:100_000]\n",
    "])\n",
    "\n",
    "# add 1k rows at the first third of the table\n",
    "table_with_inserted_rows = pa.concat_tables([\n",
    "    orca[:10_000],\n",
    "    orca[100_000:101_000],\n",
    "    orca[10_000:50_000],\n",
    "    orca[101_000:103_000],\n",
    "    orca[50_000:100_000],\n",
    "])\n",
    "\n",
    "assert len(table) == 100_000\n",
    "assert len(table_with_deleted_rows) == 96_000\n",
    "assert len(table_with_inserted_rows) == 103_000"
   ]
  },
  {
   "cell_type": "code",
   "execution_count": 26,
   "id": "eeac1f1c",
   "metadata": {},
   "outputs": [
    {
     "data": {
      "application/vnd.jupyter.widget-view+json": {
       "model_id": "6a713848215c4047ae45848cb5622c0f",
       "version_major": 2,
       "version_minor": 0
      },
      "text/plain": [
       "Processing Files (0 / 0)                : |          |  0.00B /  0.00B            "
      ]
     },
     "metadata": {},
     "output_type": "display_data"
    },
    {
     "data": {
      "application/vnd.jupyter.widget-view+json": {
       "model_id": "a83946ef34b246af9d0d5abce3a9fbd5",
       "version_major": 2,
       "version_minor": 0
      },
      "text/plain": [
       "New Data Upload                         : |          |  0.00B /  0.00B            "
      ]
     },
     "metadata": {},
     "output_type": "display_data"
    },
    {
     "data": {
      "application/vnd.jupyter.widget-view+json": {
       "model_id": "03b149d3858b49498f940b2e75a2b99f",
       "version_major": 2,
       "version_minor": 0
      },
      "text/plain": [
       "  ..._mlhlq2kgrd_m0000gn/T/hffs-_amnyvza:   7%|6         | 6.72MB / 99.3MB            "
      ]
     },
     "metadata": {},
     "output_type": "display_data"
    }
   ],
   "source": [
    "pq.write_table(table_with_inserted_rows, \"hf://datasets/kszucs/pq/orca-inserted-rows.parquet\")"
   ]
  },
  {
   "cell_type": "code",
   "execution_count": 27,
   "id": "53057b25",
   "metadata": {},
   "outputs": [
    {
     "data": {
      "application/vnd.jupyter.widget-view+json": {
       "model_id": "e8e3f5a17f274cbf85d6fdb1fcd3250d",
       "version_major": 2,
       "version_minor": 0
      },
      "text/plain": [
       "Processing Files (0 / 0)                : |          |  0.00B /  0.00B            "
      ]
     },
     "metadata": {},
     "output_type": "display_data"
    },
    {
     "data": {
      "application/vnd.jupyter.widget-view+json": {
       "model_id": "2c6f335bd3124e77b8d727785cf10566",
       "version_major": 2,
       "version_minor": 0
      },
      "text/plain": [
       "New Data Upload                         : |          |  0.00B /  0.00B            "
      ]
     },
     "metadata": {},
     "output_type": "display_data"
    },
    {
     "data": {
      "application/vnd.jupyter.widget-view+json": {
       "model_id": "26fc6a0868e04825adf24a8c3ff7ebf6",
       "version_major": 2,
       "version_minor": 0
      },
      "text/plain": [
       "  ..._mlhlq2kgrd_m0000gn/T/hffs-ckc4mlg0:  11%|#         | 10.2MB / 92.5MB            "
      ]
     },
     "metadata": {},
     "output_type": "display_data"
    }
   ],
   "source": [
    "pq.write_table(table_with_deleted_rows, \"hf://datasets/kszucs/pq/orca-deleted-rows.parquet\")"
   ]
  },
  {
   "cell_type": "markdown",
   "id": "ee6256c8",
   "metadata": {},
   "source": [
    "Also visualize both cases to see the differences:\n"
   ]
  },
  {
   "cell_type": "code",
   "execution_count": 28,
   "id": "18561660",
   "metadata": {},
   "outputs": [
    {
     "data": {
      "text/markdown": [
       "\n",
       "#### Parquet Deduplication for Deleted-rows\n",
       "    \n",
       "| Variant | No Compression | Zstd Compression  | Snappy Compression |\n",
       "|---------|----------------|-------------------|--------------------|\n",
       "| Vanilla Parquet | ![deleted-rows Vanilla](temp-none-deleted-rows-nocdc.parquet.png) | ![deleted-rows Vanilla](temp-zstd-deleted-rows-nocdc.parquet.png) | ![deleted-rows Vanilla](temp-snappy-deleted-rows-nocdc.parquet.png) |\n",
       "\n"
      ],
      "text/plain": [
       "<IPython.core.display.Markdown object>"
      ]
     },
     "metadata": {},
     "output_type": "display_data"
    },
    {
     "data": {
      "text/markdown": [
       "\n",
       "#### Parquet Deduplication for Inserted-rows\n",
       "    \n",
       "| Variant | No Compression | Zstd Compression  | Snappy Compression |\n",
       "|---------|----------------|-------------------|--------------------|\n",
       "| Vanilla Parquet | ![inserted-rows Vanilla](temp-none-inserted-rows-nocdc.parquet.png) | ![inserted-rows Vanilla](temp-zstd-inserted-rows-nocdc.parquet.png) | ![inserted-rows Vanilla](temp-snappy-inserted-rows-nocdc.parquet.png) |\n",
       "\n"
      ],
      "text/plain": [
       "<IPython.core.display.Markdown object>"
      ]
     },
     "metadata": {},
     "output_type": "display_data"
    },
    {
     "data": {
      "text/html": [
       "<pre style=\"white-space:pre;overflow-x:auto;line-height:normal;font-family:Menlo,'DejaVu Sans Mono',consolas,'Courier New',monospace\">┏━━━━━━━━━━━━━━┳━━━━━━━━━━━━━┳━━━━━━━━━━━━━┳━━━━━━━━━━━━┳━━━━━━━━━━━━┳━━━━━━━━━━━━━━━┳━━━━━━━━━━━━━┳━━━━━━━━━━━━━━┓\n",
       "┃<span style=\"color: #800080; text-decoration-color: #800080; font-weight: bold\">              </span>┃<span style=\"color: #800080; text-decoration-color: #800080; font-weight: bold\">             </span>┃<span style=\"color: #800080; text-decoration-color: #800080; font-weight: bold\">             </span>┃<span style=\"color: #800080; text-decoration-color: #800080; font-weight: bold\">            </span>┃<span style=\"color: #800080; text-decoration-color: #800080; font-weight: bold\">            </span>┃<span style=\"color: #800080; text-decoration-color: #800080; font-weight: bold\">    Compressed </span>┃<span style=\"color: #800080; text-decoration-color: #800080; font-weight: bold\">             </span>┃<span style=\"color: #800080; text-decoration-color: #800080; font-weight: bold\">   Compressed </span>┃\n",
       "┃<span style=\"color: #800080; text-decoration-color: #800080; font-weight: bold\"> Title        </span>┃<span style=\"color: #800080; text-decoration-color: #800080; font-weight: bold\"> Compression </span>┃<span style=\"color: #800080; text-decoration-color: #800080; font-weight: bold\"> Parquet CDC </span>┃<span style=\"color: #800080; text-decoration-color: #800080; font-weight: bold\"> Total Size </span>┃<span style=\"color: #800080; text-decoration-color: #800080; font-weight: bold\"> Chunk Size </span>┃<span style=\"color: #800080; text-decoration-color: #800080; font-weight: bold\">    Chunk Size </span>┃<span style=\"color: #800080; text-decoration-color: #800080; font-weight: bold\"> Dedup Ratio </span>┃<span style=\"color: #800080; text-decoration-color: #800080; font-weight: bold\">  Dedup Ratio </span>┃\n",
       "┡━━━━━━━━━━━━━━╇━━━━━━━━━━━━━╇━━━━━━━━━━━━━╇━━━━━━━━━━━━╇━━━━━━━━━━━━╇━━━━━━━━━━━━━━━╇━━━━━━━━━━━━━╇━━━━━━━━━━━━━━┩\n",
       "│ deleted-rows │ none        │ nocdc       │  293.6 MiB │  175.2 MiB │     111.2 MiB │         60% │          38% │\n",
       "├──────────────┼─────────────┼─────────────┼────────────┼────────────┼───────────────┼─────────────┼──────────────┤\n",
       "│ deleted-rows │ snappy      │ nocdc       │  180.1 MiB │  167.2 MiB │     167.9 MiB │         93% │          93% │\n",
       "├──────────────┼─────────────┼─────────────┼────────────┼────────────┼───────────────┼─────────────┼──────────────┤\n",
       "│ deleted-rows │ zstd        │ nocdc       │  124.8 MiB │  116.0 MiB │     116.4 MiB │         93% │          93% │\n",
       "├──────────────┼─────────────┼─────────────┼────────────┼────────────┼───────────────┼─────────────┼──────────────┤\n",
       "│ inserted-ro… │ none        │ nocdc       │  304.3 MiB │  182.4 MiB │     115.8 MiB │         60% │          38% │\n",
       "├──────────────┼─────────────┼─────────────┼────────────┼────────────┼───────────────┼─────────────┼──────────────┤\n",
       "│ inserted-ro… │ snappy      │ nocdc       │  186.6 MiB │  178.0 MiB │     178.7 MiB │         95% │          96% │\n",
       "├──────────────┼─────────────┼─────────────┼────────────┼────────────┼───────────────┼─────────────┼──────────────┤\n",
       "│ inserted-ro… │ zstd        │ nocdc       │  129.3 MiB │  123.5 MiB │     124.0 MiB │         95% │          96% │\n",
       "└──────────────┴─────────────┴─────────────┴────────────┴────────────┴───────────────┴─────────────┴──────────────┘\n",
       "</pre>\n"
      ],
      "text/plain": [
       "┏━━━━━━━━━━━━━━┳━━━━━━━━━━━━━┳━━━━━━━━━━━━━┳━━━━━━━━━━━━┳━━━━━━━━━━━━┳━━━━━━━━━━━━━━━┳━━━━━━━━━━━━━┳━━━━━━━━━━━━━━┓\n",
       "┃\u001b[1;35m              \u001b[0m┃\u001b[1;35m             \u001b[0m┃\u001b[1;35m             \u001b[0m┃\u001b[1;35m            \u001b[0m┃\u001b[1;35m            \u001b[0m┃\u001b[1;35m \u001b[0m\u001b[1;35m   Compressed\u001b[0m\u001b[1;35m \u001b[0m┃\u001b[1;35m             \u001b[0m┃\u001b[1;35m \u001b[0m\u001b[1;35m  Compressed\u001b[0m\u001b[1;35m \u001b[0m┃\n",
       "┃\u001b[1;35m \u001b[0m\u001b[1;35mTitle       \u001b[0m\u001b[1;35m \u001b[0m┃\u001b[1;35m \u001b[0m\u001b[1;35mCompression\u001b[0m\u001b[1;35m \u001b[0m┃\u001b[1;35m \u001b[0m\u001b[1;35mParquet CDC\u001b[0m\u001b[1;35m \u001b[0m┃\u001b[1;35m \u001b[0m\u001b[1;35mTotal Size\u001b[0m\u001b[1;35m \u001b[0m┃\u001b[1;35m \u001b[0m\u001b[1;35mChunk Size\u001b[0m\u001b[1;35m \u001b[0m┃\u001b[1;35m \u001b[0m\u001b[1;35m   Chunk Size\u001b[0m\u001b[1;35m \u001b[0m┃\u001b[1;35m \u001b[0m\u001b[1;35mDedup Ratio\u001b[0m\u001b[1;35m \u001b[0m┃\u001b[1;35m \u001b[0m\u001b[1;35m Dedup Ratio\u001b[0m\u001b[1;35m \u001b[0m┃\n",
       "┡━━━━━━━━━━━━━━╇━━━━━━━━━━━━━╇━━━━━━━━━━━━━╇━━━━━━━━━━━━╇━━━━━━━━━━━━╇━━━━━━━━━━━━━━━╇━━━━━━━━━━━━━╇━━━━━━━━━━━━━━┩\n",
       "│ deleted-rows │ none        │ nocdc       │  293.6 MiB │  175.2 MiB │     111.2 MiB │         60% │          38% │\n",
       "├──────────────┼─────────────┼─────────────┼────────────┼────────────┼───────────────┼─────────────┼──────────────┤\n",
       "│ deleted-rows │ snappy      │ nocdc       │  180.1 MiB │  167.2 MiB │     167.9 MiB │         93% │          93% │\n",
       "├──────────────┼─────────────┼─────────────┼────────────┼────────────┼───────────────┼─────────────┼──────────────┤\n",
       "│ deleted-rows │ zstd        │ nocdc       │  124.8 MiB │  116.0 MiB │     116.4 MiB │         93% │          93% │\n",
       "├──────────────┼─────────────┼─────────────┼────────────┼────────────┼───────────────┼─────────────┼──────────────┤\n",
       "│ inserted-ro… │ none        │ nocdc       │  304.3 MiB │  182.4 MiB │     115.8 MiB │         60% │          38% │\n",
       "├──────────────┼─────────────┼─────────────┼────────────┼────────────┼───────────────┼─────────────┼──────────────┤\n",
       "│ inserted-ro… │ snappy      │ nocdc       │  186.6 MiB │  178.0 MiB │     178.7 MiB │         95% │          96% │\n",
       "├──────────────┼─────────────┼─────────────┼────────────┼────────────┼───────────────┼─────────────┼──────────────┤\n",
       "│ inserted-ro… │ zstd        │ nocdc       │  129.3 MiB │  123.5 MiB │     124.0 MiB │         95% │          96% │\n",
       "└──────────────┴─────────────┴─────────────┴────────────┴────────────┴───────────────┴─────────────┴──────────────┘\n"
      ]
     },
     "metadata": {},
     "output_type": "display_data"
    }
   ],
   "source": [
    "visualize(table, {\"deleted-rows\": table_with_deleted_rows, \"inserted-rows\": table_with_inserted_rows})"
   ]
  },
  {
   "cell_type": "markdown",
   "id": "05980415",
   "metadata": {},
   "source": [
    "We can see that the deduplication ratio has dropped significantly, and the deduplication heatmaps show that the compressed parquet files are quite different from each other. This is due to the fact that the inserted and deleted rows have shifted the existing rows, leading to different data pages in the parquet file. Since each data page is compressed separately, even a single row insertion or deletion can lead to a completely different byte-level representation starting from the edited row(s) to the end of the parquet file. \n",
    "\n",
    "We can solve this problem by writing parquet files with a new [pyarrow feature called content-defined chunking (CDC)](https://github.com/apache/arrow/pull/45360). This feature ensures that the columns are consistently getting chunked into data pages based on their content, similarly how the Xet storage layer deduplicates data but applied on the logical values of the columns before any serialization or compression happens. \n",
    "\n",
    "The feature can be enabled by passing `use_content_defined_chunking=True` to the `write_parquet` function:\n",
    "\n",
    "```python\n",
    "import pyarrow.parquet as pq\n",
    "\n",
    "pq.write_table(table, \"hf://user/repo/filename.parquet\", use_content_defined_chunking=True)\n",
    "```\n",
    "\n",
    "Let's visualize the deduplication difference before and after using the Parquet CDC feature:"
   ]
  },
  {
   "cell_type": "code",
   "execution_count": 29,
   "id": "df33adbd",
   "metadata": {},
   "outputs": [
    {
     "data": {
      "text/markdown": [
       "\n",
       "#### Parquet Deduplication for With-deleted-rows\n",
       "    \n",
       "| Variant | No Compression | Zstd Compression  | Snappy Compression |\n",
       "|---------|----------------|-------------------|--------------------|\n",
       "| Vanilla Parquet | ![with-deleted-rows Vanilla](temp-none-with-deleted-rows-nocdc.parquet.png) | ![with-deleted-rows Vanilla](temp-zstd-with-deleted-rows-nocdc.parquet.png) | ![with-deleted-rows Vanilla](temp-snappy-with-deleted-rows-nocdc.parquet.png) |\n",
       "| CDC Parquet | ![with-deleted-rows CDC](temp-none-with-deleted-rows-cdc.parquet.png) | ![with-deleted-rows CDC](temp-zstd-with-deleted-rows-cdc.parquet.png) | ![with-deleted-rows CDC](temp-snappy-with-deleted-rows-cdc.parquet.png) |\n",
       "\n"
      ],
      "text/plain": [
       "<IPython.core.display.Markdown object>"
      ]
     },
     "metadata": {},
     "output_type": "display_data"
    },
    {
     "data": {
      "text/markdown": [
       "\n",
       "#### Parquet Deduplication for With-inserted-rows\n",
       "    \n",
       "| Variant | No Compression | Zstd Compression  | Snappy Compression |\n",
       "|---------|----------------|-------------------|--------------------|\n",
       "| Vanilla Parquet | ![with-inserted-rows Vanilla](temp-none-with-inserted-rows-nocdc.parquet.png) | ![with-inserted-rows Vanilla](temp-zstd-with-inserted-rows-nocdc.parquet.png) | ![with-inserted-rows Vanilla](temp-snappy-with-inserted-rows-nocdc.parquet.png) |\n",
       "| CDC Parquet | ![with-inserted-rows CDC](temp-none-with-inserted-rows-cdc.parquet.png) | ![with-inserted-rows CDC](temp-zstd-with-inserted-rows-cdc.parquet.png) | ![with-inserted-rows CDC](temp-snappy-with-inserted-rows-cdc.parquet.png) |\n",
       "\n"
      ],
      "text/plain": [
       "<IPython.core.display.Markdown object>"
      ]
     },
     "metadata": {},
     "output_type": "display_data"
    },
    {
     "data": {
      "text/html": [
       "<pre style=\"white-space:pre;overflow-x:auto;line-height:normal;font-family:Menlo,'DejaVu Sans Mono',consolas,'Courier New',monospace\">┏━━━━━━━━━━━━━━┳━━━━━━━━━━━━━┳━━━━━━━━━━━━━┳━━━━━━━━━━━━┳━━━━━━━━━━━━┳━━━━━━━━━━━━━━┳━━━━━━━━━━━━━┳━━━━━━━━━━━━━━━┓\n",
       "┃<span style=\"color: #800080; text-decoration-color: #800080; font-weight: bold\">              </span>┃<span style=\"color: #800080; text-decoration-color: #800080; font-weight: bold\">             </span>┃<span style=\"color: #800080; text-decoration-color: #800080; font-weight: bold\">             </span>┃<span style=\"color: #800080; text-decoration-color: #800080; font-weight: bold\">            </span>┃<span style=\"color: #800080; text-decoration-color: #800080; font-weight: bold\">            </span>┃<span style=\"color: #800080; text-decoration-color: #800080; font-weight: bold\">   Compressed </span>┃<span style=\"color: #800080; text-decoration-color: #800080; font-weight: bold\">             </span>┃<span style=\"color: #800080; text-decoration-color: #800080; font-weight: bold\">    Compressed </span>┃\n",
       "┃<span style=\"color: #800080; text-decoration-color: #800080; font-weight: bold\"> Title        </span>┃<span style=\"color: #800080; text-decoration-color: #800080; font-weight: bold\"> Compression </span>┃<span style=\"color: #800080; text-decoration-color: #800080; font-weight: bold\"> Parquet CDC </span>┃<span style=\"color: #800080; text-decoration-color: #800080; font-weight: bold\"> Total Size </span>┃<span style=\"color: #800080; text-decoration-color: #800080; font-weight: bold\"> Chunk Size </span>┃<span style=\"color: #800080; text-decoration-color: #800080; font-weight: bold\">   Chunk Size </span>┃<span style=\"color: #800080; text-decoration-color: #800080; font-weight: bold\"> Dedup Ratio </span>┃<span style=\"color: #800080; text-decoration-color: #800080; font-weight: bold\">   Dedup Ratio </span>┃\n",
       "┡━━━━━━━━━━━━━━╇━━━━━━━━━━━━━╇━━━━━━━━━━━━━╇━━━━━━━━━━━━╇━━━━━━━━━━━━╇━━━━━━━━━━━━━━╇━━━━━━━━━━━━━╇━━━━━━━━━━━━━━━┩\n",
       "│ with-delete… │ none        │ cdc         │  294.0 MiB │  153.8 MiB │     97.6 MiB │         52% │           33% │\n",
       "│ with-delete… │ none        │ nocdc       │  293.6 MiB │  175.2 MiB │    111.2 MiB │         60% │           38% │\n",
       "├──────────────┼─────────────┼─────────────┼────────────┼────────────┼──────────────┼─────────────┼───────────────┤\n",
       "│ with-delete… │ snappy      │ cdc         │  180.5 MiB │   97.5 MiB │     97.8 MiB │         54% │           54% │\n",
       "│ with-delete… │ snappy      │ nocdc       │  180.1 MiB │  167.2 MiB │    167.9 MiB │         93% │           93% │\n",
       "├──────────────┼─────────────┼─────────────┼────────────┼────────────┼──────────────┼─────────────┼───────────────┤\n",
       "│ with-delete… │ zstd        │ cdc         │  125.6 MiB │   68.1 MiB │     68.3 MiB │         54% │           54% │\n",
       "│ with-delete… │ zstd        │ nocdc       │  124.8 MiB │  116.0 MiB │    116.4 MiB │         93% │           93% │\n",
       "├──────────────┼─────────────┼─────────────┼────────────┼────────────┼──────────────┼─────────────┼───────────────┤\n",
       "│ with-insert… │ none        │ cdc         │  304.6 MiB │  158.5 MiB │    100.6 MiB │         52% │           33% │\n",
       "│ with-insert… │ none        │ nocdc       │  304.3 MiB │  182.4 MiB │    115.8 MiB │         60% │           38% │\n",
       "├──────────────┼─────────────┼─────────────┼────────────┼────────────┼──────────────┼─────────────┼───────────────┤\n",
       "│ with-insert… │ snappy      │ cdc         │  187.1 MiB │  100.5 MiB │    100.9 MiB │         54% │           54% │\n",
       "│ with-insert… │ snappy      │ nocdc       │  186.6 MiB │  178.0 MiB │    178.7 MiB │         95% │           96% │\n",
       "├──────────────┼─────────────┼─────────────┼────────────┼────────────┼──────────────┼─────────────┼───────────────┤\n",
       "│ with-insert… │ zstd        │ cdc         │  130.1 MiB │   70.3 MiB │     70.6 MiB │         54% │           54% │\n",
       "│ with-insert… │ zstd        │ nocdc       │  129.3 MiB │  123.5 MiB │    124.0 MiB │         95% │           96% │\n",
       "└──────────────┴─────────────┴─────────────┴────────────┴────────────┴──────────────┴─────────────┴───────────────┘\n",
       "</pre>\n"
      ],
      "text/plain": [
       "┏━━━━━━━━━━━━━━┳━━━━━━━━━━━━━┳━━━━━━━━━━━━━┳━━━━━━━━━━━━┳━━━━━━━━━━━━┳━━━━━━━━━━━━━━┳━━━━━━━━━━━━━┳━━━━━━━━━━━━━━━┓\n",
       "┃\u001b[1;35m              \u001b[0m┃\u001b[1;35m             \u001b[0m┃\u001b[1;35m             \u001b[0m┃\u001b[1;35m            \u001b[0m┃\u001b[1;35m            \u001b[0m┃\u001b[1;35m \u001b[0m\u001b[1;35m  Compressed\u001b[0m\u001b[1;35m \u001b[0m┃\u001b[1;35m             \u001b[0m┃\u001b[1;35m \u001b[0m\u001b[1;35m   Compressed\u001b[0m\u001b[1;35m \u001b[0m┃\n",
       "┃\u001b[1;35m \u001b[0m\u001b[1;35mTitle       \u001b[0m\u001b[1;35m \u001b[0m┃\u001b[1;35m \u001b[0m\u001b[1;35mCompression\u001b[0m\u001b[1;35m \u001b[0m┃\u001b[1;35m \u001b[0m\u001b[1;35mParquet CDC\u001b[0m\u001b[1;35m \u001b[0m┃\u001b[1;35m \u001b[0m\u001b[1;35mTotal Size\u001b[0m\u001b[1;35m \u001b[0m┃\u001b[1;35m \u001b[0m\u001b[1;35mChunk Size\u001b[0m\u001b[1;35m \u001b[0m┃\u001b[1;35m \u001b[0m\u001b[1;35m  Chunk Size\u001b[0m\u001b[1;35m \u001b[0m┃\u001b[1;35m \u001b[0m\u001b[1;35mDedup Ratio\u001b[0m\u001b[1;35m \u001b[0m┃\u001b[1;35m \u001b[0m\u001b[1;35m  Dedup Ratio\u001b[0m\u001b[1;35m \u001b[0m┃\n",
       "┡━━━━━━━━━━━━━━╇━━━━━━━━━━━━━╇━━━━━━━━━━━━━╇━━━━━━━━━━━━╇━━━━━━━━━━━━╇━━━━━━━━━━━━━━╇━━━━━━━━━━━━━╇━━━━━━━━━━━━━━━┩\n",
       "│ with-delete… │ none        │ cdc         │  294.0 MiB │  153.8 MiB │     97.6 MiB │         52% │           33% │\n",
       "│ with-delete… │ none        │ nocdc       │  293.6 MiB │  175.2 MiB │    111.2 MiB │         60% │           38% │\n",
       "├──────────────┼─────────────┼─────────────┼────────────┼────────────┼──────────────┼─────────────┼───────────────┤\n",
       "│ with-delete… │ snappy      │ cdc         │  180.5 MiB │   97.5 MiB │     97.8 MiB │         54% │           54% │\n",
       "│ with-delete… │ snappy      │ nocdc       │  180.1 MiB │  167.2 MiB │    167.9 MiB │         93% │           93% │\n",
       "├──────────────┼─────────────┼─────────────┼────────────┼────────────┼──────────────┼─────────────┼───────────────┤\n",
       "│ with-delete… │ zstd        │ cdc         │  125.6 MiB │   68.1 MiB │     68.3 MiB │         54% │           54% │\n",
       "│ with-delete… │ zstd        │ nocdc       │  124.8 MiB │  116.0 MiB │    116.4 MiB │         93% │           93% │\n",
       "├──────────────┼─────────────┼─────────────┼────────────┼────────────┼──────────────┼─────────────┼───────────────┤\n",
       "│ with-insert… │ none        │ cdc         │  304.6 MiB │  158.5 MiB │    100.6 MiB │         52% │           33% │\n",
       "│ with-insert… │ none        │ nocdc       │  304.3 MiB │  182.4 MiB │    115.8 MiB │         60% │           38% │\n",
       "├──────────────┼─────────────┼─────────────┼────────────┼────────────┼──────────────┼─────────────┼───────────────┤\n",
       "│ with-insert… │ snappy      │ cdc         │  187.1 MiB │  100.5 MiB │    100.9 MiB │         54% │           54% │\n",
       "│ with-insert… │ snappy      │ nocdc       │  186.6 MiB │  178.0 MiB │    178.7 MiB │         95% │           96% │\n",
       "├──────────────┼─────────────┼─────────────┼────────────┼────────────┼──────────────┼─────────────┼───────────────┤\n",
       "│ with-insert… │ zstd        │ cdc         │  130.1 MiB │   70.3 MiB │     70.6 MiB │         54% │           54% │\n",
       "│ with-insert… │ zstd        │ nocdc       │  129.3 MiB │  123.5 MiB │    124.0 MiB │         95% │           96% │\n",
       "└──────────────┴─────────────┴─────────────┴────────────┴────────────┴──────────────┴─────────────┴───────────────┘\n"
      ]
     },
     "metadata": {},
     "output_type": "display_data"
    }
   ],
   "source": [
    "visualize(\n",
    "    table, \n",
    "    {\n",
    "        \"with-deleted-rows\": table_with_deleted_rows, \n",
    "        \"with-inserted-rows\": table_with_inserted_rows\n",
    "    }, \n",
    "    with_cdc=True\n",
    ")"
   ]
  },
  {
   "cell_type": "markdown",
   "id": "a2c837d7",
   "metadata": {},
   "source": [
    "Since the proof of the pudding is in the eating, let's actually upload the tables using the content-defined chunking parquet feature and see how much data is transferred. \n",
    "Note that we need to upload the original table first with content-defined chunking enabled:"
   ]
  },
  {
   "cell_type": "code",
   "execution_count": 30,
   "id": "2c3c041a",
   "metadata": {},
   "outputs": [
    {
     "data": {
      "application/vnd.jupyter.widget-view+json": {
       "model_id": "d1e2b80f87054e2889cd883516725c17",
       "version_major": 2,
       "version_minor": 0
      },
      "text/plain": [
       "Processing Files (0 / 0)                : |          |  0.00B /  0.00B            "
      ]
     },
     "metadata": {},
     "output_type": "display_data"
    },
    {
     "data": {
      "application/vnd.jupyter.widget-view+json": {
       "model_id": "76b7503955d74b7eb9a05efa4d1bcd6a",
       "version_major": 2,
       "version_minor": 0
      },
      "text/plain": [
       "New Data Upload                         : |          |  0.00B /  0.00B            "
      ]
     },
     "metadata": {},
     "output_type": "display_data"
    },
    {
     "data": {
      "application/vnd.jupyter.widget-view+json": {
       "model_id": "fced11ed7a54480a8372fa273ee10d0b",
       "version_major": 2,
       "version_minor": 0
      },
      "text/plain": [
       "  ..._mlhlq2kgrd_m0000gn/T/hffs-2j4rgu63:   1%|1         | 1.02MB / 96.6MB            "
      ]
     },
     "metadata": {},
     "output_type": "display_data"
    }
   ],
   "source": [
    "pq.write_table(table, \"hf://datasets/kszucs/pq/orca-cdc.parquet\", use_content_defined_chunking=True)"
   ]
  },
  {
   "cell_type": "code",
   "execution_count": 33,
   "id": "d016b5cf",
   "metadata": {},
   "outputs": [
    {
     "data": {
      "application/vnd.jupyter.widget-view+json": {
       "model_id": "82be395b3dd643c097be6b84a540d1ff",
       "version_major": 2,
       "version_minor": 0
      },
      "text/plain": [
       "Processing Files (0 / 0)                : |          |  0.00B /  0.00B            "
      ]
     },
     "metadata": {},
     "output_type": "display_data"
    },
    {
     "data": {
      "application/vnd.jupyter.widget-view+json": {
       "model_id": "f004e044c2b7426f9ae662dd747e564b",
       "version_major": 2,
       "version_minor": 0
      },
      "text/plain": [
       "New Data Upload                         : |          |  0.00B /  0.00B            "
      ]
     },
     "metadata": {},
     "output_type": "display_data"
    },
    {
     "data": {
      "application/vnd.jupyter.widget-view+json": {
       "model_id": "b39bc69e93ea44209e9402247220ed39",
       "version_major": 2,
       "version_minor": 0
      },
      "text/plain": [
       "  ..._mlhlq2kgrd_m0000gn/T/hffs-uur58frj:  92%|#########2| 91.8MB / 99.5MB            "
      ]
     },
     "metadata": {},
     "output_type": "display_data"
    }
   ],
   "source": [
    "pq.write_table(\n",
    "    table_with_inserted_rows, \n",
    "    \"hf://datasets/kszucs/pq/orca-inserted-rows-cdc.parquet\", \n",
    "    use_content_defined_chunking=True\n",
    ")"
   ]
  },
  {
   "cell_type": "code",
   "execution_count": 34,
   "id": "3b538a36",
   "metadata": {},
   "outputs": [
    {
     "data": {
      "application/vnd.jupyter.widget-view+json": {
       "model_id": "c4d9383c78b049019289f2eea73342ab",
       "version_major": 2,
       "version_minor": 0
      },
      "text/plain": [
       "Processing Files (0 / 0)                : |          |  0.00B /  0.00B            "
      ]
     },
     "metadata": {},
     "output_type": "display_data"
    },
    {
     "data": {
      "application/vnd.jupyter.widget-view+json": {
       "model_id": "d94c77034b824e639574c8dce04eb207",
       "version_major": 2,
       "version_minor": 0
      },
      "text/plain": [
       "New Data Upload                         : |          |  0.00B /  0.00B            "
      ]
     },
     "metadata": {},
     "output_type": "display_data"
    },
    {
     "data": {
      "application/vnd.jupyter.widget-view+json": {
       "model_id": "3afd298679d045549673e500f292dacd",
       "version_major": 2,
       "version_minor": 0
      },
      "text/plain": [
       "  ..._mlhlq2kgrd_m0000gn/T/hffs-2zrnsjf2:  95%|#########4| 88.0MB / 92.7MB            "
      ]
     },
     "metadata": {},
     "output_type": "display_data"
    }
   ],
   "source": [
    "pq.write_table(\n",
    "    table_with_deleted_rows, \n",
    "    \"hf://datasets/kszucs/pq/orca-deleted-rows-cdc.parquet\", \n",
    "    use_content_defined_chunking=True\n",
    ")"
   ]
  },
  {
   "cell_type": "markdown",
   "id": "3dab8058",
   "metadata": {},
   "source": [
    "The uploaded data is significantly smaller than before, showing much better deduplication performance as highlighted in the heatmaps above.\n"
   ]
  },
  {
   "cell_type": "markdown",
   "id": "e7b64df5",
   "metadata": {},
   "source": [
    "### 6. Using different Row-Group Sizes\n",
    "\n",
    "There are cases depending on the reader/writer contraints where larger or smaller row-group sizes might be beneficial. The parquet writer implementations use fixed-sized row-groups by default, in case of pyarrow the default is 1Mi rows. Dataset writers may change to reduce the row-group size in order to improve random access performance or to reduce the memory footprint of the reader application.\n",
    "\n",
    "Chainging the row-group size will shift rows between row-groups, shifting values between data pages, so we have a similar problem as with inserting or deleting rows. Let's compare the deduplication performance between different row-group sizes using the parquet CDC feature:"
   ]
  },
  {
   "cell_type": "code",
   "execution_count": 35,
   "id": "f3e6dbf1",
   "metadata": {},
   "outputs": [
    {
     "data": {
      "text/markdown": [
       "\n",
       "#### Parquet Deduplication for Small-row-groups2\n",
       "    \n",
       "| Variant | No Compression | Zstd Compression  | Snappy Compression |\n",
       "|---------|----------------|-------------------|--------------------|\n",
       "| Vanilla Parquet | ![small-row-groups2 Vanilla](temp-none-small-row-groups2-nocdc.parquet.png) | ![small-row-groups2 Vanilla](temp-zstd-small-row-groups2-nocdc.parquet.png) | ![small-row-groups2 Vanilla](temp-snappy-small-row-groups2-nocdc.parquet.png) |\n",
       "| CDC Parquet | ![small-row-groups2 CDC](temp-none-small-row-groups2-cdc.parquet.png) | ![small-row-groups2 CDC](temp-zstd-small-row-groups2-cdc.parquet.png) | ![small-row-groups2 CDC](temp-snappy-small-row-groups2-cdc.parquet.png) |\n",
       "\n"
      ],
      "text/plain": [
       "<IPython.core.display.Markdown object>"
      ]
     },
     "metadata": {},
     "output_type": "display_data"
    },
    {
     "data": {
      "text/markdown": [
       "\n",
       "#### Parquet Deduplication for Medium-row-groups2\n",
       "    \n",
       "| Variant | No Compression | Zstd Compression  | Snappy Compression |\n",
       "|---------|----------------|-------------------|--------------------|\n",
       "| Vanilla Parquet | ![medium-row-groups2 Vanilla](temp-none-medium-row-groups2-nocdc.parquet.png) | ![medium-row-groups2 Vanilla](temp-zstd-medium-row-groups2-nocdc.parquet.png) | ![medium-row-groups2 Vanilla](temp-snappy-medium-row-groups2-nocdc.parquet.png) |\n",
       "| CDC Parquet | ![medium-row-groups2 CDC](temp-none-medium-row-groups2-cdc.parquet.png) | ![medium-row-groups2 CDC](temp-zstd-medium-row-groups2-cdc.parquet.png) | ![medium-row-groups2 CDC](temp-snappy-medium-row-groups2-cdc.parquet.png) |\n",
       "\n"
      ],
      "text/plain": [
       "<IPython.core.display.Markdown object>"
      ]
     },
     "metadata": {},
     "output_type": "display_data"
    },
    {
     "data": {
      "text/html": [
       "<pre style=\"white-space:pre;overflow-x:auto;line-height:normal;font-family:Menlo,'DejaVu Sans Mono',consolas,'Courier New',monospace\">┏━━━━━━━━━━━━━━┳━━━━━━━━━━━━━┳━━━━━━━━━━━━━┳━━━━━━━━━━━━┳━━━━━━━━━━━━┳━━━━━━━━━━━━━━┳━━━━━━━━━━━━━┳━━━━━━━━━━━━━━━┓\n",
       "┃<span style=\"color: #800080; text-decoration-color: #800080; font-weight: bold\">              </span>┃<span style=\"color: #800080; text-decoration-color: #800080; font-weight: bold\">             </span>┃<span style=\"color: #800080; text-decoration-color: #800080; font-weight: bold\">             </span>┃<span style=\"color: #800080; text-decoration-color: #800080; font-weight: bold\">            </span>┃<span style=\"color: #800080; text-decoration-color: #800080; font-weight: bold\">            </span>┃<span style=\"color: #800080; text-decoration-color: #800080; font-weight: bold\">   Compressed </span>┃<span style=\"color: #800080; text-decoration-color: #800080; font-weight: bold\">             </span>┃<span style=\"color: #800080; text-decoration-color: #800080; font-weight: bold\">    Compressed </span>┃\n",
       "┃<span style=\"color: #800080; text-decoration-color: #800080; font-weight: bold\"> Title        </span>┃<span style=\"color: #800080; text-decoration-color: #800080; font-weight: bold\"> Compression </span>┃<span style=\"color: #800080; text-decoration-color: #800080; font-weight: bold\"> Parquet CDC </span>┃<span style=\"color: #800080; text-decoration-color: #800080; font-weight: bold\"> Total Size </span>┃<span style=\"color: #800080; text-decoration-color: #800080; font-weight: bold\"> Chunk Size </span>┃<span style=\"color: #800080; text-decoration-color: #800080; font-weight: bold\">   Chunk Size </span>┃<span style=\"color: #800080; text-decoration-color: #800080; font-weight: bold\"> Dedup Ratio </span>┃<span style=\"color: #800080; text-decoration-color: #800080; font-weight: bold\">   Dedup Ratio </span>┃\n",
       "┡━━━━━━━━━━━━━━╇━━━━━━━━━━━━━╇━━━━━━━━━━━━━╇━━━━━━━━━━━━╇━━━━━━━━━━━━╇━━━━━━━━━━━━━━╇━━━━━━━━━━━━━╇━━━━━━━━━━━━━━━┩\n",
       "│ medium-row-… │ none        │ cdc         │    2.9 GiB │    1.5 GiB │    958.3 MiB │         50% │           32% │\n",
       "│ medium-row-… │ none        │ nocdc       │    2.9 GiB │    1.5 GiB │    980.6 MiB │         52% │           33% │\n",
       "├──────────────┼─────────────┼─────────────┼────────────┼────────────┼──────────────┼─────────────┼───────────────┤\n",
       "│ medium-row-… │ snappy      │ cdc         │    1.8 GiB │  933.7 MiB │    937.0 MiB │         51% │           51% │\n",
       "│ medium-row-… │ snappy      │ nocdc       │    1.8 GiB │    1.0 GiB │      1.0 GiB │         58% │           58% │\n",
       "├──────────────┼─────────────┼─────────────┼────────────┼────────────┼──────────────┼─────────────┼───────────────┤\n",
       "│ medium-row-… │ zstd        │ cdc         │    1.2 GiB │  650.5 MiB │    652.9 MiB │         51% │           51% │\n",
       "│ medium-row-… │ zstd        │ nocdc       │    1.2 GiB │  729.3 MiB │    732.0 MiB │         58% │           58% │\n",
       "├──────────────┼─────────────┼─────────────┼────────────┼────────────┼──────────────┼─────────────┼───────────────┤\n",
       "│ small-row-g… │ none        │ cdc         │    2.9 GiB │    1.5 GiB │    969.6 MiB │         51% │           32% │\n",
       "│ small-row-g… │ none        │ nocdc       │    2.9 GiB │    1.5 GiB │    991.4 MiB │         52% │           33% │\n",
       "├──────────────┼─────────────┼─────────────┼────────────┼────────────┼──────────────┼─────────────┼───────────────┤\n",
       "│ small-row-g… │ snappy      │ cdc         │    1.8 GiB │  954.9 MiB │    958.3 MiB │         52% │           52% │\n",
       "│ small-row-g… │ snappy      │ nocdc       │    1.8 GiB │    1.1 GiB │      1.1 GiB │         59% │           59% │\n",
       "├──────────────┼─────────────┼─────────────┼────────────┼────────────┼──────────────┼─────────────┼───────────────┤\n",
       "│ small-row-g… │ zstd        │ cdc         │    1.2 GiB │  666.0 MiB │    668.4 MiB │         52% │           52% │\n",
       "│ small-row-g… │ zstd        │ nocdc       │    1.2 GiB │  747.5 MiB │    750.4 MiB │         59% │           59% │\n",
       "└──────────────┴─────────────┴─────────────┴────────────┴────────────┴──────────────┴─────────────┴───────────────┘\n",
       "</pre>\n"
      ],
      "text/plain": [
       "┏━━━━━━━━━━━━━━┳━━━━━━━━━━━━━┳━━━━━━━━━━━━━┳━━━━━━━━━━━━┳━━━━━━━━━━━━┳━━━━━━━━━━━━━━┳━━━━━━━━━━━━━┳━━━━━━━━━━━━━━━┓\n",
       "┃\u001b[1;35m              \u001b[0m┃\u001b[1;35m             \u001b[0m┃\u001b[1;35m             \u001b[0m┃\u001b[1;35m            \u001b[0m┃\u001b[1;35m            \u001b[0m┃\u001b[1;35m \u001b[0m\u001b[1;35m  Compressed\u001b[0m\u001b[1;35m \u001b[0m┃\u001b[1;35m             \u001b[0m┃\u001b[1;35m \u001b[0m\u001b[1;35m   Compressed\u001b[0m\u001b[1;35m \u001b[0m┃\n",
       "┃\u001b[1;35m \u001b[0m\u001b[1;35mTitle       \u001b[0m\u001b[1;35m \u001b[0m┃\u001b[1;35m \u001b[0m\u001b[1;35mCompression\u001b[0m\u001b[1;35m \u001b[0m┃\u001b[1;35m \u001b[0m\u001b[1;35mParquet CDC\u001b[0m\u001b[1;35m \u001b[0m┃\u001b[1;35m \u001b[0m\u001b[1;35mTotal Size\u001b[0m\u001b[1;35m \u001b[0m┃\u001b[1;35m \u001b[0m\u001b[1;35mChunk Size\u001b[0m\u001b[1;35m \u001b[0m┃\u001b[1;35m \u001b[0m\u001b[1;35m  Chunk Size\u001b[0m\u001b[1;35m \u001b[0m┃\u001b[1;35m \u001b[0m\u001b[1;35mDedup Ratio\u001b[0m\u001b[1;35m \u001b[0m┃\u001b[1;35m \u001b[0m\u001b[1;35m  Dedup Ratio\u001b[0m\u001b[1;35m \u001b[0m┃\n",
       "┡━━━━━━━━━━━━━━╇━━━━━━━━━━━━━╇━━━━━━━━━━━━━╇━━━━━━━━━━━━╇━━━━━━━━━━━━╇━━━━━━━━━━━━━━╇━━━━━━━━━━━━━╇━━━━━━━━━━━━━━━┩\n",
       "│ medium-row-… │ none        │ cdc         │    2.9 GiB │    1.5 GiB │    958.3 MiB │         50% │           32% │\n",
       "│ medium-row-… │ none        │ nocdc       │    2.9 GiB │    1.5 GiB │    980.6 MiB │         52% │           33% │\n",
       "├──────────────┼─────────────┼─────────────┼────────────┼────────────┼──────────────┼─────────────┼───────────────┤\n",
       "│ medium-row-… │ snappy      │ cdc         │    1.8 GiB │  933.7 MiB │    937.0 MiB │         51% │           51% │\n",
       "│ medium-row-… │ snappy      │ nocdc       │    1.8 GiB │    1.0 GiB │      1.0 GiB │         58% │           58% │\n",
       "├──────────────┼─────────────┼─────────────┼────────────┼────────────┼──────────────┼─────────────┼───────────────┤\n",
       "│ medium-row-… │ zstd        │ cdc         │    1.2 GiB │  650.5 MiB │    652.9 MiB │         51% │           51% │\n",
       "│ medium-row-… │ zstd        │ nocdc       │    1.2 GiB │  729.3 MiB │    732.0 MiB │         58% │           58% │\n",
       "├──────────────┼─────────────┼─────────────┼────────────┼────────────┼──────────────┼─────────────┼───────────────┤\n",
       "│ small-row-g… │ none        │ cdc         │    2.9 GiB │    1.5 GiB │    969.6 MiB │         51% │           32% │\n",
       "│ small-row-g… │ none        │ nocdc       │    2.9 GiB │    1.5 GiB │    991.4 MiB │         52% │           33% │\n",
       "├──────────────┼─────────────┼─────────────┼────────────┼────────────┼──────────────┼─────────────┼───────────────┤\n",
       "│ small-row-g… │ snappy      │ cdc         │    1.8 GiB │  954.9 MiB │    958.3 MiB │         52% │           52% │\n",
       "│ small-row-g… │ snappy      │ nocdc       │    1.8 GiB │    1.1 GiB │      1.1 GiB │         59% │           59% │\n",
       "├──────────────┼─────────────┼─────────────┼────────────┼────────────┼──────────────┼─────────────┼───────────────┤\n",
       "│ small-row-g… │ zstd        │ cdc         │    1.2 GiB │  666.0 MiB │    668.4 MiB │         52% │           52% │\n",
       "│ small-row-g… │ zstd        │ nocdc       │    1.2 GiB │  747.5 MiB │    750.4 MiB │         59% │           59% │\n",
       "└──────────────┴─────────────┴─────────────┴────────────┴────────────┴──────────────┴─────────────┴───────────────┘\n"
      ]
     },
     "metadata": {},
     "output_type": "display_data"
    }
   ],
   "source": [
    "from de import visualize\n",
    "\n",
    "# pick a larger subset of the dataset to have enough rows for the row group size tests\n",
    "table = orca[2_000_000:3_000_000]\n",
    "\n",
    "cases = {\n",
    "    \"small-row-groups2\": (table, {\"row_group_size\": 128 * 1024}),\n",
    "    \"medium-row-groups2\": (table, {\"row_group_size\": 256 * 1024}),\n",
    "}\n",
    "visualize(table, cases, with_cdc=True)"
   ]
  },
  {
   "cell_type": "markdown",
   "id": "0633b745",
   "metadata": {},
   "source": [
    "### 7. Using Varying File-Level Splits\n",
    "\n",
    "Datasets often split into multiple files to improve parallelism and random access. Parquet CDC combined with the Xet storage layer can efficiently deduplicate data across multiple files even if the data is split at different boundaries. \n",
    "\n",
    "Let's write out the dataset with three different file-level splitting then compare the deduplication performance:"
   ]
  },
  {
   "cell_type": "code",
   "execution_count": null,
   "id": "dfae42d3",
   "metadata": {},
   "outputs": [
    {
     "name": "stdout",
     "output_type": "stream",
     "text": [
      "Total size: 9.3 GB\n",
      "Chunk size: 3.2 GB\n"
     ]
    }
   ],
   "source": [
    "from pathlib import Path\n",
    "from de import estimate\n",
    "\n",
    "\n",
    "def write_dataset(table, base_dir, num_shards, **kwargs):\n",
    "    \"\"\"Simple utility to write a pyarrow table to multiple Parquet files.\"\"\"\n",
    "    # ensure that directory exists\n",
    "    base_dir = Path(base_dir)\n",
    "    base_dir.mkdir(parents=True, exist_ok=True)\n",
    "    # split and write the table into multiple files\n",
    "    rows_per_file = len(table) / num_shards\n",
    "    for i in range(num_shards):\n",
    "        start = i * rows_per_file\n",
    "        end = min((i + 1) * rows_per_file, len(table))\n",
    "        shard = table.slice(start, end - start)\n",
    "        path = base_dir / f\"part-{i}.parquet\"\n",
    "        pq.write_table(shard, path, **kwargs)\n",
    "\n",
    "\n",
    "write_dataset(orca, \"orca5-cdc\", num_shards=5, use_content_defined_chunking=True)\n",
    "write_dataset(orca, \"orca10-cdc\", num_shards=10, use_content_defined_chunking=True)\n",
    "write_dataset(orca, \"orca20-cdc\", num_shards=20, use_content_defined_chunking=True)\n",
    "\n",
    "estimate(\"orca5-cdc/*.parquet\", \"orca10-cdc/*.parquet\", \"orca20-cdc/*.parquet\")"
   ]
  },
  {
   "cell_type": "code",
   "execution_count": null,
   "id": "9377c67c",
   "metadata": {},
   "outputs": [],
   "source": [
    "# TODO(kszucs): maybe add the stats plot for the HF repo starts dataset revisions"
   ]
  }
 ],
 "metadata": {
  "kernelspec": {
   "display_name": "arrow13",
   "language": "python",
   "name": "python3"
  },
  "language_info": {
   "codemirror_mode": {
    "name": "ipython",
    "version": 3
   },
   "file_extension": ".py",
   "mimetype": "text/x-python",
   "name": "python",
   "nbconvert_exporter": "python",
   "pygments_lexer": "ipython3",
   "version": "3.13.5"
  }
 },
 "nbformat": 4,
 "nbformat_minor": 5
}
