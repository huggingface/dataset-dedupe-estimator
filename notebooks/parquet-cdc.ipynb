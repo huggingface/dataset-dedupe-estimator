{
 "cells": [
  {
   "cell_type": "markdown",
   "id": "3590a7c8",
   "metadata": {},
   "source": [
    "# Parquet Content-Defined Chunking\n",
    "\n",
    "Apache Parquet is a columnar storage format that is widely used in the data engineering community. \n",
    "\n",
    "As Hugging Face hosts nearly 11PB of datasets with Parquet files alone accounting for over 2.2PB of that storage, optimizing Parquet storage is of high priority.\n",
    "Hugging Face has introduced a new storage layer called [Xet](https://huggingface.co/blog/xet-on-the-hub) that leverages content-defined chunking to efficiently deduplicate chunks of data reducing storage costs and improving download/upload speeds.\n",
    "\n",
    "While Xet is format agnostic, Parquet's layout and column-chunk (data page) based compression can produce entirely different byte-level representations for data with minor changes, leading to suboptimal deduplication performance. To address this, the Parquet files should be written in a way that minimizes the byte-level differences between similar data, which is where content-defined chunking (CDC) comes into play.\n",
    "\n",
    "Let's explore the performance benefits of the new Parquet CDC feature used alongside Hugging Face's Xet storage layer."
   ]
  },
  {
   "cell_type": "markdown",
   "id": "e3b100b4",
   "metadata": {},
   "source": [
    "### Note about required pyarrow version\n",
    "\n",
    "The parquet content-defined chunking feature hasn't been released yet, so we need to install a nightly build of `pyarrow`:"
   ]
  },
  {
   "cell_type": "markdown",
   "id": "2d1690b7",
   "metadata": {},
   "source": [
    "## Prepare the data to experiment with\n",
    "\n",
    "For demonstration purposes, we will use a manageable sized subset of [OpenOrca](https://huggingface.co/datasets/Open-Orca/OpenOrca) dataset."
   ]
  },
  {
   "cell_type": "code",
   "execution_count": 30,
   "id": "e2f540fe",
   "metadata": {},
   "outputs": [
    {
     "data": {
      "text/html": [
       "<div>\n",
       "<style scoped>\n",
       "    .dataframe tbody tr th:only-of-type {\n",
       "        vertical-align: middle;\n",
       "    }\n",
       "\n",
       "    .dataframe tbody tr th {\n",
       "        vertical-align: top;\n",
       "    }\n",
       "\n",
       "    .dataframe thead th {\n",
       "        text-align: right;\n",
       "    }\n",
       "</style>\n",
       "<table border=\"1\" class=\"dataframe\">\n",
       "  <thead>\n",
       "    <tr style=\"text-align: right;\">\n",
       "      <th></th>\n",
       "      <th>id</th>\n",
       "      <th>system_prompt</th>\n",
       "      <th>question_length</th>\n",
       "      <th>question</th>\n",
       "      <th>response_length</th>\n",
       "      <th>response</th>\n",
       "    </tr>\n",
       "  </thead>\n",
       "  <tbody>\n",
       "    <tr>\n",
       "      <th>0</th>\n",
       "      <td>t0.1791914</td>\n",
       "      <td>You are an AI assistant that follows instructi...</td>\n",
       "      <td>291</td>\n",
       "      <td>Q:The exercise is to decide whether the questi...</td>\n",
       "      <td>5</td>\n",
       "      <td>True.</td>\n",
       "    </tr>\n",
       "    <tr>\n",
       "      <th>1</th>\n",
       "      <td>flan.2203053</td>\n",
       "      <td>You are a helpful assistant, who always provid...</td>\n",
       "      <td>132</td>\n",
       "      <td>Sentence 1: There is no need. \\n\\nSentence 2: ...</td>\n",
       "      <td>136</td>\n",
       "      <td>Yes, if the first sentence is true, then the s...</td>\n",
       "    </tr>\n",
       "    <tr>\n",
       "      <th>2</th>\n",
       "      <td>flan.1943030</td>\n",
       "      <td>You are a helpful assistant, who always provid...</td>\n",
       "      <td>392</td>\n",
       "      <td>On his oak mantelpiece are a drinking bowl fro...</td>\n",
       "      <td>293</td>\n",
       "      <td>We cannot conclude that the sentence \"The Ebol...</td>\n",
       "    </tr>\n",
       "    <tr>\n",
       "      <th>3</th>\n",
       "      <td>t0.870962</td>\n",
       "      <td>You are an AI assistant that follows instructi...</td>\n",
       "      <td>2121</td>\n",
       "      <td>Question: Read the following paragraph and ext...</td>\n",
       "      <td>153</td>\n",
       "      <td>The full name of the person whose version of \"...</td>\n",
       "    </tr>\n",
       "    <tr>\n",
       "      <th>4</th>\n",
       "      <td>t0.314926</td>\n",
       "      <td>You are an AI assistant that follows instructi...</td>\n",
       "      <td>1703</td>\n",
       "      <td>I have a test where I am given the following a...</td>\n",
       "      <td>146</td>\n",
       "      <td>The Rova compound remained largely closed to t...</td>\n",
       "    </tr>\n",
       "  </tbody>\n",
       "</table>\n",
       "</div>"
      ],
      "text/plain": [
       "             id                                      system_prompt  \\\n",
       "0    t0.1791914  You are an AI assistant that follows instructi...   \n",
       "1  flan.2203053  You are a helpful assistant, who always provid...   \n",
       "2  flan.1943030  You are a helpful assistant, who always provid...   \n",
       "3     t0.870962  You are an AI assistant that follows instructi...   \n",
       "4     t0.314926  You are an AI assistant that follows instructi...   \n",
       "\n",
       "   question_length                                           question  \\\n",
       "0              291  Q:The exercise is to decide whether the questi...   \n",
       "1              132  Sentence 1: There is no need. \\n\\nSentence 2: ...   \n",
       "2              392  On his oak mantelpiece are a drinking bowl fro...   \n",
       "3             2121  Question: Read the following paragraph and ext...   \n",
       "4             1703  I have a test where I am given the following a...   \n",
       "\n",
       "   response_length                                           response  \n",
       "0                5                                              True.  \n",
       "1              136  Yes, if the first sentence is true, then the s...  \n",
       "2              293  We cannot conclude that the sentence \"The Ebol...  \n",
       "3              153  The full name of the person whose version of \"...  \n",
       "4              146  The Rova compound remained largely closed to t...  "
      ]
     },
     "execution_count": 30,
     "metadata": {},
     "output_type": "execute_result"
    }
   ],
   "source": [
    "import pyarrow as pa\n",
    "import pyarrow.compute as pc\n",
    "import pyarrow.parquet as pq\n",
    "from huggingface_hub import hf_hub_download\n",
    "\n",
    "\n",
    "# download the dataset from Hugging Face Hub into local cache\n",
    "path = hf_hub_download(\n",
    "    repo_id=\"Open-Orca/OpenOrca\", \n",
    "    filename=\"3_5M-GPT3_5-Augmented.parquet\", \n",
    "    repo_type=\"dataset\"\n",
    ")\n",
    "\n",
    "# read the cached parquet file into a PyArrow table \n",
    "orca = pq.read_table(path)\n",
    "\n",
    "# augment the table some additional columns\n",
    "orca = orca.add_column(\n",
    "    orca.schema.get_field_index(\"question\"),\n",
    "    \"question_length\",\n",
    "    pc.utf8_length(orca[\"question\"])\n",
    ")\n",
    "orca = orca.add_column(\n",
    "    orca.schema.get_field_index(\"response\"),\n",
    "    \"response_length\",\n",
    "    pc.utf8_length(orca[\"response\"])\n",
    ")\n",
    "\n",
    "# limit the table to the first 100,000 rows \n",
    "table = orca[:100_000]\n",
    "\n",
    "# take a look at the first 5 rows of the table\n",
    "table[:5].to_pandas()"
   ]
  },
  {
   "cell_type": "markdown",
   "id": "d4449fe3",
   "metadata": {},
   "source": [
    "### Upload the table as a Parquet file to Hugging Face Hub\n",
    "\n",
    "Since [pyarrow>=21.0.0](https://github.com/apache/arrow/pull/45089) we can use Hugging Face URIs in the `pyarrow` functions to directly read and write parquet (and other file formats) files to the Hub using the `hf://` URI scheme."
   ]
  },
  {
   "cell_type": "code",
   "execution_count": null,
   "id": "8d23b316",
   "metadata": {},
   "outputs": [],
   "source": [
    "# import pyarrow.parquet as pq\n",
    "\n",
    "# # Write the table to the Hugging Face Hub\n",
    "# pq.write_table(table, \"hf://datasets/kszucs/pq/orca.parquet\")"
   ]
  },
  {
   "cell_type": "markdown",
   "id": "1177c022",
   "metadata": {},
   "source": [
    "We can see that the table has been uploaded entirely as new data because it is not known to the Xet storage layer yet. Now read it back as a `pyarrow` table:"
   ]
  },
  {
   "cell_type": "code",
   "execution_count": null,
   "id": "170d8bf6",
   "metadata": {},
   "outputs": [],
   "source": [
    "# table = pq.read_table(\"hf://datasets/kszucs/pq/orca.parquet\")\n",
    "# len(table)"
   ]
  },
  {
   "cell_type": "markdown",
   "id": "d64928ef",
   "metadata": {},
   "source": [
    "Note that all `pyarrow` functions that accept a file path also accept a Hugging Face URI, like [pyarrow datasets](https://arrow.apache.org/docs/python/dataset.html), \n",
    "[CSV functions](https://arrow.apache.org/docs/python/generated/pyarrow.csv.read_csv.html), [incremental Parquet writer](https://arrow.apache.org/docs/python/generated/pyarrow.parquet.ParquetWriter.html) or reading only the parquet metadata:"
   ]
  },
  {
   "cell_type": "code",
   "execution_count": null,
   "id": "a4cd2d26",
   "metadata": {},
   "outputs": [],
   "source": [
    "# pq.read_metadata(\"hf://datasets/kszucs/pq/orca.parquet\")"
   ]
  },
  {
   "cell_type": "markdown",
   "id": "af1d8b79",
   "metadata": {},
   "source": [
    "## Different Use Cases for Parquet Deduplication\n",
    "\n",
    "To demonstrate the effectiveness of the content-defined chunking feature, we will try out how it performs in case of:\n",
    "1. Re-uploading exact copies of the table\n",
    "2. Adding/removing columns from the table\n",
    "3. Changing column types in the table\n",
    "4. Appending new rows and concatenating tables\n",
    "5. Inserting / deleting rows in the table\n",
    "6. Change row-group size of the table\n",
    "7. Change file-level data splitting\n"
   ]
  },
  {
   "cell_type": "markdown",
   "id": "a2db4bfc",
   "metadata": {},
   "source": [
    "### 1. Re-uploading an Exact Copies of the Table\n",
    "\n",
    "While this use case sounds trivial, traditional file systems do not deduplicate files resulting in full re-upload and re-download of the data. In contrast, a system utilizing content-defined chunking can recognize that the file content is identical and avoid unnecessary data transfer."
   ]
  },
  {
   "cell_type": "code",
   "execution_count": null,
   "id": "7feb1c4f",
   "metadata": {},
   "outputs": [],
   "source": [
    "# pq.write_table(table, \"hf://datasets/kszucs/pq/orca-copy.parquet\")"
   ]
  },
  {
   "cell_type": "markdown",
   "id": "731a1db4",
   "metadata": {},
   "source": [
    "We can see that no new data has been uploaded, and the operation was instantaneous. Now let's see what happens if we upload the the same file again but to a different repository:\n"
   ]
  },
  {
   "cell_type": "code",
   "execution_count": null,
   "id": "774993c8",
   "metadata": {},
   "outputs": [],
   "source": [
    "# pq.write_table(table, \"hf://datasets/kszucs/pq-copy/orca-copy-again.parquet\")"
   ]
  },
  {
   "cell_type": "markdown",
   "id": "9b3b9d9b",
   "metadata": {},
   "source": [
    "The upload was instantaneous since deduplication works across repositories as well. This is a key feature of the Xet storage layer, allowing efficient data sharing and collaboration. "
   ]
  },
  {
   "cell_type": "markdown",
   "id": "ade03fca",
   "metadata": {},
   "source": [
    "### 2. Adding and Removing Columns from the Table\n",
    "\n",
    "First write out the original and changed tables to local parquet files to see their sizes:"
   ]
  },
  {
   "cell_type": "code",
   "execution_count": 36,
   "id": "c1248891",
   "metadata": {},
   "outputs": [],
   "source": [
    "table_with_new_columns = table.add_column(\n",
    "    table.schema.get_field_index(\"response\"),\n",
    "    \"response_short\",\n",
    "    pc.utf8_slice_codeunits(table[\"response\"], 0, 10)\n",
    ")\n",
    "table_with_removed_columns = table.drop([\"response\"])\n",
    "    \n",
    "pq.write_table(table, \"/tmp/original.parquet\")\n",
    "pq.write_table(table_with_new_columns, \"/tmp/with-new-columns.parquet\")\n",
    "pq.write_table(table_with_removed_columns, \"/tmp/with-removed-columns.parquet\")"
   ]
  },
  {
   "cell_type": "code",
   "execution_count": 37,
   "id": "ebe9fb5a",
   "metadata": {},
   "outputs": [
    {
     "name": "stdout",
     "output_type": "stream",
     "text": [
      "-rw-r--r--  1 kszucs  wheel    91M Jul 20 13:21 /tmp/original.parquet\n",
      "-rw-r--r--  1 kszucs  wheel    92M Jul 20 13:21 /tmp/with-new-columns.parquet\n",
      "-rw-r--r--  1 kszucs  wheel    67M Jul 20 13:21 /tmp/with-removed-columns.parquet\n"
     ]
    }
   ],
   "source": [
    "!ls -lah /tmp/*.parquet"
   ]
  },
  {
   "cell_type": "markdown",
   "id": "1b8f7782",
   "metadata": {},
   "source": [
    "Now upload them to Hugging Face to see how much data is actually transferred:"
   ]
  },
  {
   "cell_type": "code",
   "execution_count": null,
   "id": "ba11dd54",
   "metadata": {},
   "outputs": [],
   "source": [
    "# pq.write_table(table_with_new_columns, \"hf://datasets/kszucs/pq/orca-added-columns.parquet\")"
   ]
  },
  {
   "cell_type": "markdown",
   "id": "0b411122",
   "metadata": {},
   "source": [
    "We can see that only the new columns and the new parquet metadata placed in the file's footer were uploaded, while the original data was not transferred again. This is a huge benefit of the content-defined chunking feature, as it allows us to efficiently add new columns without transferring the entire dataset again. \n",
    "\n",
    "Same applies to removing columns, as we can see below:"
   ]
  },
  {
   "cell_type": "code",
   "execution_count": null,
   "id": "8ea5f76b",
   "metadata": {},
   "outputs": [],
   "source": [
    "# pq.write_table(table_with_removed_columns, \"hf://datasets/kszucs/pq/orca-removed-columns.parquet\")"
   ]
  },
  {
   "cell_type": "markdown",
   "id": "cd510aaa",
   "metadata": {},
   "source": [
    "We can also visualize the deduplication between the two parquet files using the deduplication estimation tool:"
   ]
  },
  {
   "cell_type": "code",
   "execution_count": 40,
   "id": "74b77dc0",
   "metadata": {},
   "outputs": [
    {
     "data": {
      "text/markdown": [
       "\n",
       "#### Parquet Deduplication for With-new-columns\n",
       "    \n",
       "| Variant | No Compression | Zstd Compression  | Snappy Compression |\n",
       "|---------|----------------|-------------------|--------------------|\n",
       "| Vanilla Parquet | ![with-new-columns Vanilla](temp-none-with-new-columns-nocdc.parquet.png) | ![with-new-columns Vanilla](temp-zstd-with-new-columns-nocdc.parquet.png) | ![with-new-columns Vanilla](temp-snappy-with-new-columns-nocdc.parquet.png) |\n",
       "\n"
      ],
      "text/plain": [
       "<IPython.core.display.Markdown object>"
      ]
     },
     "metadata": {},
     "output_type": "display_data"
    },
    {
     "data": {
      "text/html": [
       "<pre style=\"white-space:pre;overflow-x:auto;line-height:normal;font-family:Menlo,'DejaVu Sans Mono',consolas,'Courier New',monospace\">┏━━━━━━━━━━━━━━┳━━━━━━━━━━━━━┳━━━━━━━━━━━━━┳━━━━━━━━━━━━┳━━━━━━━━━━━━┳━━━━━━━━━━━━━━┳━━━━━━━━━━━━━┳━━━━━━━━━━━━━━━┓\n",
       "┃<span style=\"color: #800080; text-decoration-color: #800080; font-weight: bold\">              </span>┃<span style=\"color: #800080; text-decoration-color: #800080; font-weight: bold\">             </span>┃<span style=\"color: #800080; text-decoration-color: #800080; font-weight: bold\">             </span>┃<span style=\"color: #800080; text-decoration-color: #800080; font-weight: bold\">            </span>┃<span style=\"color: #800080; text-decoration-color: #800080; font-weight: bold\">            </span>┃<span style=\"color: #800080; text-decoration-color: #800080; font-weight: bold\">   Compressed </span>┃<span style=\"color: #800080; text-decoration-color: #800080; font-weight: bold\">             </span>┃<span style=\"color: #800080; text-decoration-color: #800080; font-weight: bold\">    Compressed </span>┃\n",
       "┃<span style=\"color: #800080; text-decoration-color: #800080; font-weight: bold\"> Title        </span>┃<span style=\"color: #800080; text-decoration-color: #800080; font-weight: bold\"> Compression </span>┃<span style=\"color: #800080; text-decoration-color: #800080; font-weight: bold\"> Parquet CDC </span>┃<span style=\"color: #800080; text-decoration-color: #800080; font-weight: bold\"> Total Size </span>┃<span style=\"color: #800080; text-decoration-color: #800080; font-weight: bold\"> Chunk Size </span>┃<span style=\"color: #800080; text-decoration-color: #800080; font-weight: bold\">   Chunk Size </span>┃<span style=\"color: #800080; text-decoration-color: #800080; font-weight: bold\"> Dedup Ratio </span>┃<span style=\"color: #800080; text-decoration-color: #800080; font-weight: bold\">   Dedup Ratio </span>┃\n",
       "┡━━━━━━━━━━━━━━╇━━━━━━━━━━━━━╇━━━━━━━━━━━━━╇━━━━━━━━━━━━╇━━━━━━━━━━━━╇━━━━━━━━━━━━━━╇━━━━━━━━━━━━━╇━━━━━━━━━━━━━━━┩\n",
       "│ with-new-co… │ none        │ nocdc       │  298.3 MiB │  149.7 MiB │     95.3 MiB │         50% │           32% │\n",
       "├──────────────┼─────────────┼─────────────┼────────────┼────────────┼──────────────┼─────────────┼───────────────┤\n",
       "│ with-new-co… │ snappy      │ nocdc       │  183.2 MiB │   91.9 MiB │     92.3 MiB │         50% │           50% │\n",
       "├──────────────┼─────────────┼─────────────┼────────────┼────────────┼──────────────┼─────────────┼───────────────┤\n",
       "│ with-new-co… │ zstd        │ nocdc       │  127.1 MiB │   63.9 MiB │     64.2 MiB │         50% │           50% │\n",
       "└──────────────┴─────────────┴─────────────┴────────────┴────────────┴──────────────┴─────────────┴───────────────┘\n",
       "</pre>\n"
      ],
      "text/plain": [
       "┏━━━━━━━━━━━━━━┳━━━━━━━━━━━━━┳━━━━━━━━━━━━━┳━━━━━━━━━━━━┳━━━━━━━━━━━━┳━━━━━━━━━━━━━━┳━━━━━━━━━━━━━┳━━━━━━━━━━━━━━━┓\n",
       "┃\u001b[1;35m              \u001b[0m┃\u001b[1;35m             \u001b[0m┃\u001b[1;35m             \u001b[0m┃\u001b[1;35m            \u001b[0m┃\u001b[1;35m            \u001b[0m┃\u001b[1;35m \u001b[0m\u001b[1;35m  Compressed\u001b[0m\u001b[1;35m \u001b[0m┃\u001b[1;35m             \u001b[0m┃\u001b[1;35m \u001b[0m\u001b[1;35m   Compressed\u001b[0m\u001b[1;35m \u001b[0m┃\n",
       "┃\u001b[1;35m \u001b[0m\u001b[1;35mTitle       \u001b[0m\u001b[1;35m \u001b[0m┃\u001b[1;35m \u001b[0m\u001b[1;35mCompression\u001b[0m\u001b[1;35m \u001b[0m┃\u001b[1;35m \u001b[0m\u001b[1;35mParquet CDC\u001b[0m\u001b[1;35m \u001b[0m┃\u001b[1;35m \u001b[0m\u001b[1;35mTotal Size\u001b[0m\u001b[1;35m \u001b[0m┃\u001b[1;35m \u001b[0m\u001b[1;35mChunk Size\u001b[0m\u001b[1;35m \u001b[0m┃\u001b[1;35m \u001b[0m\u001b[1;35m  Chunk Size\u001b[0m\u001b[1;35m \u001b[0m┃\u001b[1;35m \u001b[0m\u001b[1;35mDedup Ratio\u001b[0m\u001b[1;35m \u001b[0m┃\u001b[1;35m \u001b[0m\u001b[1;35m  Dedup Ratio\u001b[0m\u001b[1;35m \u001b[0m┃\n",
       "┡━━━━━━━━━━━━━━╇━━━━━━━━━━━━━╇━━━━━━━━━━━━━╇━━━━━━━━━━━━╇━━━━━━━━━━━━╇━━━━━━━━━━━━━━╇━━━━━━━━━━━━━╇━━━━━━━━━━━━━━━┩\n",
       "│ with-new-co… │ none        │ nocdc       │  298.3 MiB │  149.7 MiB │     95.3 MiB │         50% │           32% │\n",
       "├──────────────┼─────────────┼─────────────┼────────────┼────────────┼──────────────┼─────────────┼───────────────┤\n",
       "│ with-new-co… │ snappy      │ nocdc       │  183.2 MiB │   91.9 MiB │     92.3 MiB │         50% │           50% │\n",
       "├──────────────┼─────────────┼─────────────┼────────────┼────────────┼──────────────┼─────────────┼───────────────┤\n",
       "│ with-new-co… │ zstd        │ nocdc       │  127.1 MiB │   63.9 MiB │     64.2 MiB │         50% │           50% │\n",
       "└──────────────┴─────────────┴─────────────┴────────────┴────────────┴──────────────┴─────────────┴───────────────┘\n"
      ]
     },
     "metadata": {},
     "output_type": "display_data"
    }
   ],
   "source": [
    "visualize(table, {\"with-new-columns\": table_with_new_columns})"
   ]
  },
  {
   "cell_type": "markdown",
   "id": "d2d15def",
   "metadata": {},
   "source": [
    "Adding two new columns mean that we have unseen data pages which must be transferred (highlighted in red), but the rest of the data remains unchanged (highlighted in green), so it is not transferred again. Note the small red area in the footer metadata which almost always changes as we modify the parquet file."
   ]
  },
  {
   "cell_type": "code",
   "execution_count": 41,
   "id": "b692d314",
   "metadata": {},
   "outputs": [
    {
     "data": {
      "text/markdown": [
       "\n",
       "#### Parquet Deduplication for With-removed-columns\n",
       "    \n",
       "| Variant | No Compression | Zstd Compression  | Snappy Compression |\n",
       "|---------|----------------|-------------------|--------------------|\n",
       "| Vanilla Parquet | ![with-removed-columns Vanilla](temp-none-with-removed-columns-nocdc.parquet.png) | ![with-removed-columns Vanilla](temp-zstd-with-removed-columns-nocdc.parquet.png) | ![with-removed-columns Vanilla](temp-snappy-with-removed-columns-nocdc.parquet.png) |\n",
       "\n"
      ],
      "text/plain": [
       "<IPython.core.display.Markdown object>"
      ]
     },
     "metadata": {},
     "output_type": "display_data"
    },
    {
     "data": {
      "text/html": [
       "<pre style=\"white-space:pre;overflow-x:auto;line-height:normal;font-family:Menlo,'DejaVu Sans Mono',consolas,'Courier New',monospace\">┏━━━━━━━━━━━━━━┳━━━━━━━━━━━━━┳━━━━━━━━━━━━━┳━━━━━━━━━━━━┳━━━━━━━━━━━━┳━━━━━━━━━━━━━━┳━━━━━━━━━━━━━┳━━━━━━━━━━━━━━━┓\n",
       "┃<span style=\"color: #800080; text-decoration-color: #800080; font-weight: bold\">              </span>┃<span style=\"color: #800080; text-decoration-color: #800080; font-weight: bold\">             </span>┃<span style=\"color: #800080; text-decoration-color: #800080; font-weight: bold\">             </span>┃<span style=\"color: #800080; text-decoration-color: #800080; font-weight: bold\">            </span>┃<span style=\"color: #800080; text-decoration-color: #800080; font-weight: bold\">            </span>┃<span style=\"color: #800080; text-decoration-color: #800080; font-weight: bold\">   Compressed </span>┃<span style=\"color: #800080; text-decoration-color: #800080; font-weight: bold\">             </span>┃<span style=\"color: #800080; text-decoration-color: #800080; font-weight: bold\">    Compressed </span>┃\n",
       "┃<span style=\"color: #800080; text-decoration-color: #800080; font-weight: bold\"> Title        </span>┃<span style=\"color: #800080; text-decoration-color: #800080; font-weight: bold\"> Compression </span>┃<span style=\"color: #800080; text-decoration-color: #800080; font-weight: bold\"> Parquet CDC </span>┃<span style=\"color: #800080; text-decoration-color: #800080; font-weight: bold\"> Total Size </span>┃<span style=\"color: #800080; text-decoration-color: #800080; font-weight: bold\"> Chunk Size </span>┃<span style=\"color: #800080; text-decoration-color: #800080; font-weight: bold\">   Chunk Size </span>┃<span style=\"color: #800080; text-decoration-color: #800080; font-weight: bold\"> Dedup Ratio </span>┃<span style=\"color: #800080; text-decoration-color: #800080; font-weight: bold\">   Dedup Ratio </span>┃\n",
       "┡━━━━━━━━━━━━━━╇━━━━━━━━━━━━━╇━━━━━━━━━━━━━╇━━━━━━━━━━━━╇━━━━━━━━━━━━╇━━━━━━━━━━━━━━╇━━━━━━━━━━━━━╇━━━━━━━━━━━━━━━┩\n",
       "│ with-remove… │ none        │ nocdc       │  256.3 MiB │  148.9 MiB │     94.6 MiB │         58% │           37% │\n",
       "├──────────────┼─────────────┼─────────────┼────────────┼────────────┼──────────────┼─────────────┼───────────────┤\n",
       "│ with-remove… │ snappy      │ nocdc       │  158.7 MiB │   91.4 MiB │     91.8 MiB │         58% │           58% │\n",
       "├──────────────┼─────────────┼─────────────┼────────────┼────────────┼──────────────┼─────────────┼───────────────┤\n",
       "│ with-remove… │ zstd        │ nocdc       │  110.2 MiB │   63.4 MiB │     63.6 MiB │         57% │           58% │\n",
       "└──────────────┴─────────────┴─────────────┴────────────┴────────────┴──────────────┴─────────────┴───────────────┘\n",
       "</pre>\n"
      ],
      "text/plain": [
       "┏━━━━━━━━━━━━━━┳━━━━━━━━━━━━━┳━━━━━━━━━━━━━┳━━━━━━━━━━━━┳━━━━━━━━━━━━┳━━━━━━━━━━━━━━┳━━━━━━━━━━━━━┳━━━━━━━━━━━━━━━┓\n",
       "┃\u001b[1;35m              \u001b[0m┃\u001b[1;35m             \u001b[0m┃\u001b[1;35m             \u001b[0m┃\u001b[1;35m            \u001b[0m┃\u001b[1;35m            \u001b[0m┃\u001b[1;35m \u001b[0m\u001b[1;35m  Compressed\u001b[0m\u001b[1;35m \u001b[0m┃\u001b[1;35m             \u001b[0m┃\u001b[1;35m \u001b[0m\u001b[1;35m   Compressed\u001b[0m\u001b[1;35m \u001b[0m┃\n",
       "┃\u001b[1;35m \u001b[0m\u001b[1;35mTitle       \u001b[0m\u001b[1;35m \u001b[0m┃\u001b[1;35m \u001b[0m\u001b[1;35mCompression\u001b[0m\u001b[1;35m \u001b[0m┃\u001b[1;35m \u001b[0m\u001b[1;35mParquet CDC\u001b[0m\u001b[1;35m \u001b[0m┃\u001b[1;35m \u001b[0m\u001b[1;35mTotal Size\u001b[0m\u001b[1;35m \u001b[0m┃\u001b[1;35m \u001b[0m\u001b[1;35mChunk Size\u001b[0m\u001b[1;35m \u001b[0m┃\u001b[1;35m \u001b[0m\u001b[1;35m  Chunk Size\u001b[0m\u001b[1;35m \u001b[0m┃\u001b[1;35m \u001b[0m\u001b[1;35mDedup Ratio\u001b[0m\u001b[1;35m \u001b[0m┃\u001b[1;35m \u001b[0m\u001b[1;35m  Dedup Ratio\u001b[0m\u001b[1;35m \u001b[0m┃\n",
       "┡━━━━━━━━━━━━━━╇━━━━━━━━━━━━━╇━━━━━━━━━━━━━╇━━━━━━━━━━━━╇━━━━━━━━━━━━╇━━━━━━━━━━━━━━╇━━━━━━━━━━━━━╇━━━━━━━━━━━━━━━┩\n",
       "│ with-remove… │ none        │ nocdc       │  256.3 MiB │  148.9 MiB │     94.6 MiB │         58% │           37% │\n",
       "├──────────────┼─────────────┼─────────────┼────────────┼────────────┼──────────────┼─────────────┼───────────────┤\n",
       "│ with-remove… │ snappy      │ nocdc       │  158.7 MiB │   91.4 MiB │     91.8 MiB │         58% │           58% │\n",
       "├──────────────┼─────────────┼─────────────┼────────────┼────────────┼──────────────┼─────────────┼───────────────┤\n",
       "│ with-remove… │ zstd        │ nocdc       │  110.2 MiB │   63.4 MiB │     63.6 MiB │         57% │           58% │\n",
       "└──────────────┴─────────────┴─────────────┴────────────┴────────────┴──────────────┴─────────────┴───────────────┘\n"
      ]
     },
     "metadata": {},
     "output_type": "display_data"
    }
   ],
   "source": [
    "visualize(table, {\"with-removed-columns\": table_with_removed_columns})"
   ]
  },
  {
   "cell_type": "markdown",
   "id": "890ed6e0",
   "metadata": {},
   "source": [
    "Since we are removing entire columns we can only see changes in the footer metadata, all the other columns remain unchanged and already existing in the storage layer, so they are not transferred again."
   ]
  },
  {
   "cell_type": "markdown",
   "id": "3213d050",
   "metadata": {},
   "source": [
    "### 3. Changing Column Types in the Table\n",
    "\n",
    "Another common use case is changing the column types in the table e.g. to reduce the storage size or to optimize the data for specific queries. Let's change the `score` column from `float64` to `float32` and see how much data is transferred:"
   ]
  },
  {
   "cell_type": "code",
   "execution_count": 42,
   "id": "a0b5fc2e",
   "metadata": {},
   "outputs": [],
   "source": [
    "# first make the table much smaller by removing the largest column\n",
    "# this will highlight the change in the heatmap much better\n",
    "table_without_text = table_with_new_columns.drop([\"question\", \"response\"])\n",
    "\n",
    "# cast the question_length column to int64\n",
    "table_with_casted_column = table_without_text.set_column(\n",
    "    table_without_text.schema.get_field_index(\"question_length\"),\n",
    "    \"question_length\",\n",
    "    table_without_text[\"question_length\"].cast(\"int64\")\n",
    ")"
   ]
  },
  {
   "cell_type": "markdown",
   "id": "31844261",
   "metadata": {},
   "source": [
    "Again, we can see that only the new column and the updated parquet metadata were uploaded. Now visualize the deduplication heatmap:"
   ]
  },
  {
   "cell_type": "code",
   "execution_count": 43,
   "id": "0d5ad33f",
   "metadata": {},
   "outputs": [
    {
     "data": {
      "text/markdown": [
       "\n",
       "#### Parquet Deduplication for With-casted-column10\n",
       "    \n",
       "| Variant | No Compression | Zstd Compression  | Snappy Compression |\n",
       "|---------|----------------|-------------------|--------------------|\n",
       "| Vanilla Parquet | ![with-casted-column10 Vanilla](temp-none-with-casted-column10-nocdc.parquet.png) | ![with-casted-column10 Vanilla](temp-zstd-with-casted-column10-nocdc.parquet.png) | ![with-casted-column10 Vanilla](temp-snappy-with-casted-column10-nocdc.parquet.png) |\n",
       "\n"
      ],
      "text/plain": [
       "<IPython.core.display.Markdown object>"
      ]
     },
     "metadata": {},
     "output_type": "display_data"
    },
    {
     "data": {
      "text/html": [
       "<pre style=\"white-space:pre;overflow-x:auto;line-height:normal;font-family:Menlo,'DejaVu Sans Mono',consolas,'Courier New',monospace\">┏━━━━━━━━━━━━━━┳━━━━━━━━━━━━━┳━━━━━━━━━━━━━┳━━━━━━━━━━━━┳━━━━━━━━━━━━┳━━━━━━━━━━━━━━┳━━━━━━━━━━━━━┳━━━━━━━━━━━━━━━┓\n",
       "┃<span style=\"color: #800080; text-decoration-color: #800080; font-weight: bold\">              </span>┃<span style=\"color: #800080; text-decoration-color: #800080; font-weight: bold\">             </span>┃<span style=\"color: #800080; text-decoration-color: #800080; font-weight: bold\">             </span>┃<span style=\"color: #800080; text-decoration-color: #800080; font-weight: bold\">            </span>┃<span style=\"color: #800080; text-decoration-color: #800080; font-weight: bold\">            </span>┃<span style=\"color: #800080; text-decoration-color: #800080; font-weight: bold\">   Compressed </span>┃<span style=\"color: #800080; text-decoration-color: #800080; font-weight: bold\">             </span>┃<span style=\"color: #800080; text-decoration-color: #800080; font-weight: bold\">    Compressed </span>┃\n",
       "┃<span style=\"color: #800080; text-decoration-color: #800080; font-weight: bold\"> Title        </span>┃<span style=\"color: #800080; text-decoration-color: #800080; font-weight: bold\"> Compression </span>┃<span style=\"color: #800080; text-decoration-color: #800080; font-weight: bold\"> Parquet CDC </span>┃<span style=\"color: #800080; text-decoration-color: #800080; font-weight: bold\"> Total Size </span>┃<span style=\"color: #800080; text-decoration-color: #800080; font-weight: bold\"> Chunk Size </span>┃<span style=\"color: #800080; text-decoration-color: #800080; font-weight: bold\">   Chunk Size </span>┃<span style=\"color: #800080; text-decoration-color: #800080; font-weight: bold\"> Dedup Ratio </span>┃<span style=\"color: #800080; text-decoration-color: #800080; font-weight: bold\">   Dedup Ratio </span>┃\n",
       "┡━━━━━━━━━━━━━━╇━━━━━━━━━━━━━╇━━━━━━━━━━━━━╇━━━━━━━━━━━━╇━━━━━━━━━━━━╇━━━━━━━━━━━━━━╇━━━━━━━━━━━━━╇━━━━━━━━━━━━━━━┩\n",
       "│ with-casted… │ none        │ nocdc       │    5.0 MiB │    2.9 MiB │      2.1 MiB │         57% │           41% │\n",
       "├──────────────┼─────────────┼─────────────┼────────────┼────────────┼──────────────┼─────────────┼───────────────┤\n",
       "│ with-casted… │ snappy      │ nocdc       │    3.4 MiB │    2.0 MiB │      2.0 MiB │         57% │           58% │\n",
       "├──────────────┼─────────────┼─────────────┼────────────┼────────────┼──────────────┼─────────────┼───────────────┤\n",
       "│ with-casted… │ zstd        │ nocdc       │    2.6 MiB │    1.5 MiB │      1.5 MiB │         56% │           56% │\n",
       "└──────────────┴─────────────┴─────────────┴────────────┴────────────┴──────────────┴─────────────┴───────────────┘\n",
       "</pre>\n"
      ],
      "text/plain": [
       "┏━━━━━━━━━━━━━━┳━━━━━━━━━━━━━┳━━━━━━━━━━━━━┳━━━━━━━━━━━━┳━━━━━━━━━━━━┳━━━━━━━━━━━━━━┳━━━━━━━━━━━━━┳━━━━━━━━━━━━━━━┓\n",
       "┃\u001b[1;35m              \u001b[0m┃\u001b[1;35m             \u001b[0m┃\u001b[1;35m             \u001b[0m┃\u001b[1;35m            \u001b[0m┃\u001b[1;35m            \u001b[0m┃\u001b[1;35m \u001b[0m\u001b[1;35m  Compressed\u001b[0m\u001b[1;35m \u001b[0m┃\u001b[1;35m             \u001b[0m┃\u001b[1;35m \u001b[0m\u001b[1;35m   Compressed\u001b[0m\u001b[1;35m \u001b[0m┃\n",
       "┃\u001b[1;35m \u001b[0m\u001b[1;35mTitle       \u001b[0m\u001b[1;35m \u001b[0m┃\u001b[1;35m \u001b[0m\u001b[1;35mCompression\u001b[0m\u001b[1;35m \u001b[0m┃\u001b[1;35m \u001b[0m\u001b[1;35mParquet CDC\u001b[0m\u001b[1;35m \u001b[0m┃\u001b[1;35m \u001b[0m\u001b[1;35mTotal Size\u001b[0m\u001b[1;35m \u001b[0m┃\u001b[1;35m \u001b[0m\u001b[1;35mChunk Size\u001b[0m\u001b[1;35m \u001b[0m┃\u001b[1;35m \u001b[0m\u001b[1;35m  Chunk Size\u001b[0m\u001b[1;35m \u001b[0m┃\u001b[1;35m \u001b[0m\u001b[1;35mDedup Ratio\u001b[0m\u001b[1;35m \u001b[0m┃\u001b[1;35m \u001b[0m\u001b[1;35m  Dedup Ratio\u001b[0m\u001b[1;35m \u001b[0m┃\n",
       "┡━━━━━━━━━━━━━━╇━━━━━━━━━━━━━╇━━━━━━━━━━━━━╇━━━━━━━━━━━━╇━━━━━━━━━━━━╇━━━━━━━━━━━━━━╇━━━━━━━━━━━━━╇━━━━━━━━━━━━━━━┩\n",
       "│ with-casted… │ none        │ nocdc       │    5.0 MiB │    2.9 MiB │      2.1 MiB │         57% │           41% │\n",
       "├──────────────┼─────────────┼─────────────┼────────────┼────────────┼──────────────┼─────────────┼───────────────┤\n",
       "│ with-casted… │ snappy      │ nocdc       │    3.4 MiB │    2.0 MiB │      2.0 MiB │         57% │           58% │\n",
       "├──────────────┼─────────────┼─────────────┼────────────┼────────────┼──────────────┼─────────────┼───────────────┤\n",
       "│ with-casted… │ zstd        │ nocdc       │    2.6 MiB │    1.5 MiB │      1.5 MiB │         56% │           56% │\n",
       "└──────────────┴─────────────┴─────────────┴────────────┴────────────┴──────────────┴─────────────┴───────────────┘\n"
      ]
     },
     "metadata": {},
     "output_type": "display_data"
    }
   ],
   "source": [
    "visualize(table_without_text, {\"with-casted-column10\": table_with_casted_column})"
   ]
  },
  {
   "cell_type": "markdown",
   "id": "c733f327",
   "metadata": {},
   "source": [
    "The first red block indicates the new column that was added, while the second red block indicates the updated metadata in the footer. The rest of the data remains unchanged and is not transferred again."
   ]
  },
  {
   "cell_type": "markdown",
   "id": "8eb37a7e",
   "metadata": {},
   "source": [
    "### 4. Appending New Rows and Concatenating Tables\n",
    "\n",
    "We are going to append new rows by concatenating another slice of the original dataset to the table. "
   ]
  },
  {
   "cell_type": "code",
   "execution_count": 44,
   "id": "4b15a087",
   "metadata": {},
   "outputs": [],
   "source": [
    "table = orca[:100_000]\n",
    "next_10k_rows = orca[100_000:110_000]\n",
    "appended = pa.concat_tables([table, next_10k_rows])\n",
    "\n",
    "assert len(appended) == 110_000"
   ]
  },
  {
   "cell_type": "markdown",
   "id": "94c8ae18",
   "metadata": {},
   "source": [
    "Now check that only the new rows are being uploaded since the original data is already known to the Xet storage layer:"
   ]
  },
  {
   "cell_type": "code",
   "execution_count": null,
   "id": "e7886c66",
   "metadata": {},
   "outputs": [],
   "source": [
    "# pq.write_table(table_with_appended_rows, \"hf://datasets/kszucs/pq/orca-appended-rows.parquet\")"
   ]
  },
  {
   "cell_type": "code",
   "execution_count": 46,
   "id": "3ebc9823",
   "metadata": {},
   "outputs": [
    {
     "data": {
      "text/markdown": [
       "\n",
       "#### Parquet Deduplication for With-appended-rows\n",
       "    \n",
       "| Variant | No Compression | Zstd Compression  | Snappy Compression |\n",
       "|---------|----------------|-------------------|--------------------|\n",
       "| Vanilla Parquet | ![with-appended-rows Vanilla](temp-none-with-appended-rows-nocdc.parquet.png) | ![with-appended-rows Vanilla](temp-zstd-with-appended-rows-nocdc.parquet.png) | ![with-appended-rows Vanilla](temp-snappy-with-appended-rows-nocdc.parquet.png) |\n",
       "\n"
      ],
      "text/plain": [
       "<IPython.core.display.Markdown object>"
      ]
     },
     "metadata": {},
     "output_type": "display_data"
    },
    {
     "data": {
      "text/html": [
       "<pre style=\"white-space:pre;overflow-x:auto;line-height:normal;font-family:Menlo,'DejaVu Sans Mono',consolas,'Courier New',monospace\">┏━━━━━━━━━━━━━━┳━━━━━━━━━━━━━┳━━━━━━━━━━━━━┳━━━━━━━━━━━━┳━━━━━━━━━━━━┳━━━━━━━━━━━━━━┳━━━━━━━━━━━━━┳━━━━━━━━━━━━━━━┓\n",
       "┃<span style=\"color: #800080; text-decoration-color: #800080; font-weight: bold\">              </span>┃<span style=\"color: #800080; text-decoration-color: #800080; font-weight: bold\">             </span>┃<span style=\"color: #800080; text-decoration-color: #800080; font-weight: bold\">             </span>┃<span style=\"color: #800080; text-decoration-color: #800080; font-weight: bold\">            </span>┃<span style=\"color: #800080; text-decoration-color: #800080; font-weight: bold\">            </span>┃<span style=\"color: #800080; text-decoration-color: #800080; font-weight: bold\">   Compressed </span>┃<span style=\"color: #800080; text-decoration-color: #800080; font-weight: bold\">             </span>┃<span style=\"color: #800080; text-decoration-color: #800080; font-weight: bold\">    Compressed </span>┃\n",
       "┃<span style=\"color: #800080; text-decoration-color: #800080; font-weight: bold\"> Title        </span>┃<span style=\"color: #800080; text-decoration-color: #800080; font-weight: bold\"> Compression </span>┃<span style=\"color: #800080; text-decoration-color: #800080; font-weight: bold\"> Parquet CDC </span>┃<span style=\"color: #800080; text-decoration-color: #800080; font-weight: bold\"> Total Size </span>┃<span style=\"color: #800080; text-decoration-color: #800080; font-weight: bold\"> Chunk Size </span>┃<span style=\"color: #800080; text-decoration-color: #800080; font-weight: bold\">   Chunk Size </span>┃<span style=\"color: #800080; text-decoration-color: #800080; font-weight: bold\"> Dedup Ratio </span>┃<span style=\"color: #800080; text-decoration-color: #800080; font-weight: bold\">   Dedup Ratio </span>┃\n",
       "┡━━━━━━━━━━━━━━╇━━━━━━━━━━━━━╇━━━━━━━━━━━━━╇━━━━━━━━━━━━╇━━━━━━━━━━━━╇━━━━━━━━━━━━━━╇━━━━━━━━━━━━━╇━━━━━━━━━━━━━━━┩\n",
       "│ with-append… │ none        │ nocdc       │  312.5 MiB │  164.9 MiB │    104.9 MiB │         53% │           34% │\n",
       "├──────────────┼─────────────┼─────────────┼────────────┼────────────┼──────────────┼─────────────┼───────────────┤\n",
       "│ with-append… │ snappy      │ nocdc       │  191.8 MiB │  101.5 MiB │    101.8 MiB │         53% │           53% │\n",
       "├──────────────┼─────────────┼─────────────┼────────────┼────────────┼──────────────┼─────────────┼───────────────┤\n",
       "│ with-append… │ zstd        │ nocdc       │  133.0 MiB │   70.5 MiB │     70.8 MiB │         53% │           53% │\n",
       "└──────────────┴─────────────┴─────────────┴────────────┴────────────┴──────────────┴─────────────┴───────────────┘\n",
       "</pre>\n"
      ],
      "text/plain": [
       "┏━━━━━━━━━━━━━━┳━━━━━━━━━━━━━┳━━━━━━━━━━━━━┳━━━━━━━━━━━━┳━━━━━━━━━━━━┳━━━━━━━━━━━━━━┳━━━━━━━━━━━━━┳━━━━━━━━━━━━━━━┓\n",
       "┃\u001b[1;35m              \u001b[0m┃\u001b[1;35m             \u001b[0m┃\u001b[1;35m             \u001b[0m┃\u001b[1;35m            \u001b[0m┃\u001b[1;35m            \u001b[0m┃\u001b[1;35m \u001b[0m\u001b[1;35m  Compressed\u001b[0m\u001b[1;35m \u001b[0m┃\u001b[1;35m             \u001b[0m┃\u001b[1;35m \u001b[0m\u001b[1;35m   Compressed\u001b[0m\u001b[1;35m \u001b[0m┃\n",
       "┃\u001b[1;35m \u001b[0m\u001b[1;35mTitle       \u001b[0m\u001b[1;35m \u001b[0m┃\u001b[1;35m \u001b[0m\u001b[1;35mCompression\u001b[0m\u001b[1;35m \u001b[0m┃\u001b[1;35m \u001b[0m\u001b[1;35mParquet CDC\u001b[0m\u001b[1;35m \u001b[0m┃\u001b[1;35m \u001b[0m\u001b[1;35mTotal Size\u001b[0m\u001b[1;35m \u001b[0m┃\u001b[1;35m \u001b[0m\u001b[1;35mChunk Size\u001b[0m\u001b[1;35m \u001b[0m┃\u001b[1;35m \u001b[0m\u001b[1;35m  Chunk Size\u001b[0m\u001b[1;35m \u001b[0m┃\u001b[1;35m \u001b[0m\u001b[1;35mDedup Ratio\u001b[0m\u001b[1;35m \u001b[0m┃\u001b[1;35m \u001b[0m\u001b[1;35m  Dedup Ratio\u001b[0m\u001b[1;35m \u001b[0m┃\n",
       "┡━━━━━━━━━━━━━━╇━━━━━━━━━━━━━╇━━━━━━━━━━━━━╇━━━━━━━━━━━━╇━━━━━━━━━━━━╇━━━━━━━━━━━━━━╇━━━━━━━━━━━━━╇━━━━━━━━━━━━━━━┩\n",
       "│ with-append… │ none        │ nocdc       │  312.5 MiB │  164.9 MiB │    104.9 MiB │         53% │           34% │\n",
       "├──────────────┼─────────────┼─────────────┼────────────┼────────────┼──────────────┼─────────────┼───────────────┤\n",
       "│ with-append… │ snappy      │ nocdc       │  191.8 MiB │  101.5 MiB │    101.8 MiB │         53% │           53% │\n",
       "├──────────────┼─────────────┼─────────────┼────────────┼────────────┼──────────────┼─────────────┼───────────────┤\n",
       "│ with-append… │ zstd        │ nocdc       │  133.0 MiB │   70.5 MiB │     70.8 MiB │         53% │           53% │\n",
       "└──────────────┴─────────────┴─────────────┴────────────┴────────────┴──────────────┴─────────────┴───────────────┘\n"
      ]
     },
     "metadata": {},
     "output_type": "display_data"
    }
   ],
   "source": [
    "visualize(table, {\"with-appended-rows\": appended})"
   ]
  },
  {
   "cell_type": "markdown",
   "id": "bc6ea95c",
   "metadata": {},
   "source": [
    "Since each column gets new data, we can see multiple red strides. This is due to the actual parquet file specification where whole columns are layed out after each other (within each row group). Note the large read area at the bottom which is the new data for the `text` column. "
   ]
  },
  {
   "cell_type": "markdown",
   "id": "66b3eb8d",
   "metadata": {},
   "source": [
    "### 5. Inserting / Deleting Rows in the Table\n",
    "\n",
    "Here comes the difficult part as insertions and deletions are shifting the existing rows which lead to different columns chunks or data pages in the parquet nomenclature. Since each data page is compressed separately, even a single row insertion or deletion can lead to a completely different byte-level representation starting from the edited row(s) to the end of the parquet file. \n",
    "\n",
    "This parquet specific problem cannot be solved by the Xet storage layer alone, the parquet file itself needs to be written in a way that minimizes the data page differences even if there are inserted or deleted rows. \n",
    "\n",
    "Let's try to use the existing mechanism and see how it performs."
   ]
  },
  {
   "cell_type": "code",
   "execution_count": 47,
   "id": "504014a1",
   "metadata": {},
   "outputs": [],
   "source": [
    "table = orca[:100_000]\n",
    "\n",
    "# remove 4k rows from two places \n",
    "table_with_deleted_rows = pa.concat_tables([\n",
    "    orca[:15_000], \n",
    "    orca[18_000:60_000],\n",
    "    orca[61_000:100_000]\n",
    "])\n",
    "\n",
    "# add 1k rows at the first third of the table\n",
    "table_with_inserted_rows = pa.concat_tables([\n",
    "    orca[:10_000],\n",
    "    orca[100_000:101_000],\n",
    "    orca[10_000:50_000],\n",
    "    orca[101_000:103_000],\n",
    "    orca[50_000:100_000],\n",
    "])\n",
    "\n",
    "assert len(table) == 100_000\n",
    "assert len(table_with_deleted_rows) == 96_000\n",
    "assert len(table_with_inserted_rows) == 103_000"
   ]
  },
  {
   "cell_type": "code",
   "execution_count": null,
   "id": "eeac1f1c",
   "metadata": {},
   "outputs": [],
   "source": [
    "# pq.write_table(table_original, \"hf://datasets/kszucs/pq/orca-inserted-rows.parquet\")"
   ]
  },
  {
   "cell_type": "code",
   "execution_count": null,
   "id": "53057b25",
   "metadata": {},
   "outputs": [],
   "source": [
    "# pq.write_table(table_with_deleted_rows, \"hf://datasets/kszucs/pq/orca-deleted-rows.parquet\")"
   ]
  },
  {
   "cell_type": "code",
   "execution_count": 50,
   "id": "18561660",
   "metadata": {},
   "outputs": [
    {
     "data": {
      "text/markdown": [
       "\n",
       "#### Parquet Deduplication for Deleted-rows\n",
       "    \n",
       "| Variant | No Compression | Zstd Compression  | Snappy Compression |\n",
       "|---------|----------------|-------------------|--------------------|\n",
       "| Vanilla Parquet | ![deleted-rows Vanilla](temp-none-deleted-rows-nocdc.parquet.png) | ![deleted-rows Vanilla](temp-zstd-deleted-rows-nocdc.parquet.png) | ![deleted-rows Vanilla](temp-snappy-deleted-rows-nocdc.parquet.png) |\n",
       "\n"
      ],
      "text/plain": [
       "<IPython.core.display.Markdown object>"
      ]
     },
     "metadata": {},
     "output_type": "display_data"
    },
    {
     "data": {
      "text/markdown": [
       "\n",
       "#### Parquet Deduplication for Inserted-rows\n",
       "    \n",
       "| Variant | No Compression | Zstd Compression  | Snappy Compression |\n",
       "|---------|----------------|-------------------|--------------------|\n",
       "| Vanilla Parquet | ![inserted-rows Vanilla](temp-none-inserted-rows-nocdc.parquet.png) | ![inserted-rows Vanilla](temp-zstd-inserted-rows-nocdc.parquet.png) | ![inserted-rows Vanilla](temp-snappy-inserted-rows-nocdc.parquet.png) |\n",
       "\n"
      ],
      "text/plain": [
       "<IPython.core.display.Markdown object>"
      ]
     },
     "metadata": {},
     "output_type": "display_data"
    },
    {
     "data": {
      "text/html": [
       "<pre style=\"white-space:pre;overflow-x:auto;line-height:normal;font-family:Menlo,'DejaVu Sans Mono',consolas,'Courier New',monospace\">┏━━━━━━━━━━━━━━┳━━━━━━━━━━━━━┳━━━━━━━━━━━━━┳━━━━━━━━━━━━┳━━━━━━━━━━━━┳━━━━━━━━━━━━━━━┳━━━━━━━━━━━━━┳━━━━━━━━━━━━━━┓\n",
       "┃<span style=\"color: #800080; text-decoration-color: #800080; font-weight: bold\">              </span>┃<span style=\"color: #800080; text-decoration-color: #800080; font-weight: bold\">             </span>┃<span style=\"color: #800080; text-decoration-color: #800080; font-weight: bold\">             </span>┃<span style=\"color: #800080; text-decoration-color: #800080; font-weight: bold\">            </span>┃<span style=\"color: #800080; text-decoration-color: #800080; font-weight: bold\">            </span>┃<span style=\"color: #800080; text-decoration-color: #800080; font-weight: bold\">    Compressed </span>┃<span style=\"color: #800080; text-decoration-color: #800080; font-weight: bold\">             </span>┃<span style=\"color: #800080; text-decoration-color: #800080; font-weight: bold\">   Compressed </span>┃\n",
       "┃<span style=\"color: #800080; text-decoration-color: #800080; font-weight: bold\"> Title        </span>┃<span style=\"color: #800080; text-decoration-color: #800080; font-weight: bold\"> Compression </span>┃<span style=\"color: #800080; text-decoration-color: #800080; font-weight: bold\"> Parquet CDC </span>┃<span style=\"color: #800080; text-decoration-color: #800080; font-weight: bold\"> Total Size </span>┃<span style=\"color: #800080; text-decoration-color: #800080; font-weight: bold\"> Chunk Size </span>┃<span style=\"color: #800080; text-decoration-color: #800080; font-weight: bold\">    Chunk Size </span>┃<span style=\"color: #800080; text-decoration-color: #800080; font-weight: bold\"> Dedup Ratio </span>┃<span style=\"color: #800080; text-decoration-color: #800080; font-weight: bold\">  Dedup Ratio </span>┃\n",
       "┡━━━━━━━━━━━━━━╇━━━━━━━━━━━━━╇━━━━━━━━━━━━━╇━━━━━━━━━━━━╇━━━━━━━━━━━━╇━━━━━━━━━━━━━━━╇━━━━━━━━━━━━━╇━━━━━━━━━━━━━━┩\n",
       "│ deleted-rows │ none        │ nocdc       │  291.8 MiB │  174.5 MiB │     111.0 MiB │         60% │          38% │\n",
       "├──────────────┼─────────────┼─────────────┼────────────┼────────────┼───────────────┼─────────────┼──────────────┤\n",
       "│ deleted-rows │ snappy      │ nocdc       │  179.1 MiB │  166.0 MiB │     166.6 MiB │         93% │          93% │\n",
       "├──────────────┼─────────────┼─────────────┼────────────┼────────────┼───────────────┼─────────────┼──────────────┤\n",
       "│ deleted-rows │ zstd        │ nocdc       │  124.2 MiB │  115.3 MiB │     115.8 MiB │         93% │          93% │\n",
       "├──────────────┼─────────────┼─────────────┼────────────┼────────────┼───────────────┼─────────────┼──────────────┤\n",
       "│ inserted-ro… │ none        │ nocdc       │  302.1 MiB │  180.3 MiB │     114.7 MiB │         60% │          38% │\n",
       "├──────────────┼─────────────┼─────────────┼────────────┼────────────┼───────────────┼─────────────┼──────────────┤\n",
       "│ inserted-ro… │ snappy      │ nocdc       │  185.5 MiB │  176.7 MiB │     177.3 MiB │         95% │          96% │\n",
       "├──────────────┼─────────────┼─────────────┼────────────┼────────────┼───────────────┼─────────────┼──────────────┤\n",
       "│ inserted-ro… │ zstd        │ nocdc       │  128.6 MiB │  122.8 MiB │     123.3 MiB │         96% │          96% │\n",
       "└──────────────┴─────────────┴─────────────┴────────────┴────────────┴───────────────┴─────────────┴──────────────┘\n",
       "</pre>\n"
      ],
      "text/plain": [
       "┏━━━━━━━━━━━━━━┳━━━━━━━━━━━━━┳━━━━━━━━━━━━━┳━━━━━━━━━━━━┳━━━━━━━━━━━━┳━━━━━━━━━━━━━━━┳━━━━━━━━━━━━━┳━━━━━━━━━━━━━━┓\n",
       "┃\u001b[1;35m              \u001b[0m┃\u001b[1;35m             \u001b[0m┃\u001b[1;35m             \u001b[0m┃\u001b[1;35m            \u001b[0m┃\u001b[1;35m            \u001b[0m┃\u001b[1;35m \u001b[0m\u001b[1;35m   Compressed\u001b[0m\u001b[1;35m \u001b[0m┃\u001b[1;35m             \u001b[0m┃\u001b[1;35m \u001b[0m\u001b[1;35m  Compressed\u001b[0m\u001b[1;35m \u001b[0m┃\n",
       "┃\u001b[1;35m \u001b[0m\u001b[1;35mTitle       \u001b[0m\u001b[1;35m \u001b[0m┃\u001b[1;35m \u001b[0m\u001b[1;35mCompression\u001b[0m\u001b[1;35m \u001b[0m┃\u001b[1;35m \u001b[0m\u001b[1;35mParquet CDC\u001b[0m\u001b[1;35m \u001b[0m┃\u001b[1;35m \u001b[0m\u001b[1;35mTotal Size\u001b[0m\u001b[1;35m \u001b[0m┃\u001b[1;35m \u001b[0m\u001b[1;35mChunk Size\u001b[0m\u001b[1;35m \u001b[0m┃\u001b[1;35m \u001b[0m\u001b[1;35m   Chunk Size\u001b[0m\u001b[1;35m \u001b[0m┃\u001b[1;35m \u001b[0m\u001b[1;35mDedup Ratio\u001b[0m\u001b[1;35m \u001b[0m┃\u001b[1;35m \u001b[0m\u001b[1;35m Dedup Ratio\u001b[0m\u001b[1;35m \u001b[0m┃\n",
       "┡━━━━━━━━━━━━━━╇━━━━━━━━━━━━━╇━━━━━━━━━━━━━╇━━━━━━━━━━━━╇━━━━━━━━━━━━╇━━━━━━━━━━━━━━━╇━━━━━━━━━━━━━╇━━━━━━━━━━━━━━┩\n",
       "│ deleted-rows │ none        │ nocdc       │  291.8 MiB │  174.5 MiB │     111.0 MiB │         60% │          38% │\n",
       "├──────────────┼─────────────┼─────────────┼────────────┼────────────┼───────────────┼─────────────┼──────────────┤\n",
       "│ deleted-rows │ snappy      │ nocdc       │  179.1 MiB │  166.0 MiB │     166.6 MiB │         93% │          93% │\n",
       "├──────────────┼─────────────┼─────────────┼────────────┼────────────┼───────────────┼─────────────┼──────────────┤\n",
       "│ deleted-rows │ zstd        │ nocdc       │  124.2 MiB │  115.3 MiB │     115.8 MiB │         93% │          93% │\n",
       "├──────────────┼─────────────┼─────────────┼────────────┼────────────┼───────────────┼─────────────┼──────────────┤\n",
       "│ inserted-ro… │ none        │ nocdc       │  302.1 MiB │  180.3 MiB │     114.7 MiB │         60% │          38% │\n",
       "├──────────────┼─────────────┼─────────────┼────────────┼────────────┼───────────────┼─────────────┼──────────────┤\n",
       "│ inserted-ro… │ snappy      │ nocdc       │  185.5 MiB │  176.7 MiB │     177.3 MiB │         95% │          96% │\n",
       "├──────────────┼─────────────┼─────────────┼────────────┼────────────┼───────────────┼─────────────┼──────────────┤\n",
       "│ inserted-ro… │ zstd        │ nocdc       │  128.6 MiB │  122.8 MiB │     123.3 MiB │         96% │          96% │\n",
       "└──────────────┴─────────────┴─────────────┴────────────┴────────────┴───────────────┴─────────────┴──────────────┘\n"
      ]
     },
     "metadata": {},
     "output_type": "display_data"
    }
   ],
   "source": [
    "from de import visualize \n",
    "\n",
    "visualize(table, {\"deleted-rows\": table_with_deleted_rows, \"inserted-rows\": table_with_inserted_rows})"
   ]
  },
  {
   "cell_type": "markdown",
   "id": "05980415",
   "metadata": {},
   "source": [
    "We can see that the deduplication ratio has dropped significantly, and the deduplication heatmaps show that the compressed parquet files are quite different from each other. This is due to the fact that the inserted and deleted rows have shifted the existing rows, leading to different data pages in the parquet file. Since each data page is compressed separately, even a single row insertion or deletion can lead to a completely different byte-level representation starting from the edited row(s) to the end of the parquet file. \n",
    "\n",
    "We can solve this problem by writing parquet files with a new [pyarrow feature called content-defined chunking (CDC)](https://github.com/apache/arrow/pull/45360). This feature ensures that the columns are consistently getting chunked into data pages based on their content, similarly how the Xet storage layer deduplicates data but applied on the logical values of the columns before any serialization or compression happens. \n",
    "\n",
    "The feature can be enabled by passing `use_content_defined_chunking=True` to the `write_parquet` function:\n",
    "\n",
    "```python\n",
    "import pyarrow.parquet as pq\n",
    "\n",
    "pq.write_table(table, \"hf://user/repo/filename.parquet\", use_content_defined_chunking=True)\n",
    "```\n",
    "\n",
    "Let's visualize the deduplication difference before and after using the Parquet CDC feature:"
   ]
  },
  {
   "cell_type": "code",
   "execution_count": 51,
   "id": "df33adbd",
   "metadata": {},
   "outputs": [
    {
     "data": {
      "text/markdown": [
       "\n",
       "#### Parquet Deduplication for With-deleted-rows\n",
       "    \n",
       "| Variant | No Compression | Zstd Compression  | Snappy Compression |\n",
       "|---------|----------------|-------------------|--------------------|\n",
       "| Vanilla Parquet | ![with-deleted-rows Vanilla](temp-none-with-deleted-rows-nocdc.parquet.png) | ![with-deleted-rows Vanilla](temp-zstd-with-deleted-rows-nocdc.parquet.png) | ![with-deleted-rows Vanilla](temp-snappy-with-deleted-rows-nocdc.parquet.png) |\n",
       "| CDC Parquet | ![with-deleted-rows CDC](temp-none-with-deleted-rows-cdc.parquet.png) | ![with-deleted-rows CDC](temp-zstd-with-deleted-rows-cdc.parquet.png) | ![with-deleted-rows CDC](temp-snappy-with-deleted-rows-cdc.parquet.png) |\n",
       "\n"
      ],
      "text/plain": [
       "<IPython.core.display.Markdown object>"
      ]
     },
     "metadata": {},
     "output_type": "display_data"
    },
    {
     "data": {
      "text/markdown": [
       "\n",
       "#### Parquet Deduplication for With-inserted-rows\n",
       "    \n",
       "| Variant | No Compression | Zstd Compression  | Snappy Compression |\n",
       "|---------|----------------|-------------------|--------------------|\n",
       "| Vanilla Parquet | ![with-inserted-rows Vanilla](temp-none-with-inserted-rows-nocdc.parquet.png) | ![with-inserted-rows Vanilla](temp-zstd-with-inserted-rows-nocdc.parquet.png) | ![with-inserted-rows Vanilla](temp-snappy-with-inserted-rows-nocdc.parquet.png) |\n",
       "| CDC Parquet | ![with-inserted-rows CDC](temp-none-with-inserted-rows-cdc.parquet.png) | ![with-inserted-rows CDC](temp-zstd-with-inserted-rows-cdc.parquet.png) | ![with-inserted-rows CDC](temp-snappy-with-inserted-rows-cdc.parquet.png) |\n",
       "\n"
      ],
      "text/plain": [
       "<IPython.core.display.Markdown object>"
      ]
     },
     "metadata": {},
     "output_type": "display_data"
    },
    {
     "data": {
      "text/html": [
       "<pre style=\"white-space:pre;overflow-x:auto;line-height:normal;font-family:Menlo,'DejaVu Sans Mono',consolas,'Courier New',monospace\">┏━━━━━━━━━━━━━━┳━━━━━━━━━━━━━┳━━━━━━━━━━━━━┳━━━━━━━━━━━━┳━━━━━━━━━━━━┳━━━━━━━━━━━━━━┳━━━━━━━━━━━━━┳━━━━━━━━━━━━━━━┓\n",
       "┃<span style=\"color: #800080; text-decoration-color: #800080; font-weight: bold\">              </span>┃<span style=\"color: #800080; text-decoration-color: #800080; font-weight: bold\">             </span>┃<span style=\"color: #800080; text-decoration-color: #800080; font-weight: bold\">             </span>┃<span style=\"color: #800080; text-decoration-color: #800080; font-weight: bold\">            </span>┃<span style=\"color: #800080; text-decoration-color: #800080; font-weight: bold\">            </span>┃<span style=\"color: #800080; text-decoration-color: #800080; font-weight: bold\">   Compressed </span>┃<span style=\"color: #800080; text-decoration-color: #800080; font-weight: bold\">             </span>┃<span style=\"color: #800080; text-decoration-color: #800080; font-weight: bold\">    Compressed </span>┃\n",
       "┃<span style=\"color: #800080; text-decoration-color: #800080; font-weight: bold\"> Title        </span>┃<span style=\"color: #800080; text-decoration-color: #800080; font-weight: bold\"> Compression </span>┃<span style=\"color: #800080; text-decoration-color: #800080; font-weight: bold\"> Parquet CDC </span>┃<span style=\"color: #800080; text-decoration-color: #800080; font-weight: bold\"> Total Size </span>┃<span style=\"color: #800080; text-decoration-color: #800080; font-weight: bold\"> Chunk Size </span>┃<span style=\"color: #800080; text-decoration-color: #800080; font-weight: bold\">   Chunk Size </span>┃<span style=\"color: #800080; text-decoration-color: #800080; font-weight: bold\"> Dedup Ratio </span>┃<span style=\"color: #800080; text-decoration-color: #800080; font-weight: bold\">   Dedup Ratio </span>┃\n",
       "┡━━━━━━━━━━━━━━╇━━━━━━━━━━━━━╇━━━━━━━━━━━━━╇━━━━━━━━━━━━╇━━━━━━━━━━━━╇━━━━━━━━━━━━━━╇━━━━━━━━━━━━━╇━━━━━━━━━━━━━━━┩\n",
       "│ with-delete… │ none        │ cdc         │  292.2 MiB │  154.1 MiB │     98.0 MiB │         53% │           34% │\n",
       "│ with-delete… │ none        │ nocdc       │  291.8 MiB │  174.5 MiB │    111.0 MiB │         60% │           38% │\n",
       "├──────────────┼─────────────┼─────────────┼────────────┼────────────┼──────────────┼─────────────┼───────────────┤\n",
       "│ with-delete… │ snappy      │ cdc         │  179.6 MiB │   99.4 MiB │     99.8 MiB │         55% │           56% │\n",
       "│ with-delete… │ snappy      │ nocdc       │  179.1 MiB │  166.0 MiB │    166.6 MiB │         93% │           93% │\n",
       "├──────────────┼─────────────┼─────────────┼────────────┼────────────┼──────────────┼─────────────┼───────────────┤\n",
       "│ with-delete… │ zstd        │ cdc         │  125.0 MiB │   69.4 MiB │     69.7 MiB │         56% │           56% │\n",
       "│ with-delete… │ zstd        │ nocdc       │  124.2 MiB │  115.3 MiB │    115.8 MiB │         93% │           93% │\n",
       "├──────────────┼─────────────┼─────────────┼────────────┼────────────┼──────────────┼─────────────┼───────────────┤\n",
       "│ with-insert… │ none        │ cdc         │  302.5 MiB │  157.7 MiB │    100.3 MiB │         52% │           33% │\n",
       "│ with-insert… │ none        │ nocdc       │  302.1 MiB │  180.3 MiB │    114.7 MiB │         60% │           38% │\n",
       "├──────────────┼─────────────┼─────────────┼────────────┼────────────┼──────────────┼─────────────┼───────────────┤\n",
       "│ with-insert… │ snappy      │ cdc         │  186.0 MiB │  100.8 MiB │    101.2 MiB │         54% │           54% │\n",
       "│ with-insert… │ snappy      │ nocdc       │  185.5 MiB │  176.7 MiB │    177.3 MiB │         95% │           96% │\n",
       "├──────────────┼─────────────┼─────────────┼────────────┼────────────┼──────────────┼─────────────┼───────────────┤\n",
       "│ with-insert… │ zstd        │ cdc         │  129.4 MiB │   70.4 MiB │     70.6 MiB │         54% │           55% │\n",
       "│ with-insert… │ zstd        │ nocdc       │  128.6 MiB │  122.8 MiB │    123.3 MiB │         96% │           96% │\n",
       "└──────────────┴─────────────┴─────────────┴────────────┴────────────┴──────────────┴─────────────┴───────────────┘\n",
       "</pre>\n"
      ],
      "text/plain": [
       "┏━━━━━━━━━━━━━━┳━━━━━━━━━━━━━┳━━━━━━━━━━━━━┳━━━━━━━━━━━━┳━━━━━━━━━━━━┳━━━━━━━━━━━━━━┳━━━━━━━━━━━━━┳━━━━━━━━━━━━━━━┓\n",
       "┃\u001b[1;35m              \u001b[0m┃\u001b[1;35m             \u001b[0m┃\u001b[1;35m             \u001b[0m┃\u001b[1;35m            \u001b[0m┃\u001b[1;35m            \u001b[0m┃\u001b[1;35m \u001b[0m\u001b[1;35m  Compressed\u001b[0m\u001b[1;35m \u001b[0m┃\u001b[1;35m             \u001b[0m┃\u001b[1;35m \u001b[0m\u001b[1;35m   Compressed\u001b[0m\u001b[1;35m \u001b[0m┃\n",
       "┃\u001b[1;35m \u001b[0m\u001b[1;35mTitle       \u001b[0m\u001b[1;35m \u001b[0m┃\u001b[1;35m \u001b[0m\u001b[1;35mCompression\u001b[0m\u001b[1;35m \u001b[0m┃\u001b[1;35m \u001b[0m\u001b[1;35mParquet CDC\u001b[0m\u001b[1;35m \u001b[0m┃\u001b[1;35m \u001b[0m\u001b[1;35mTotal Size\u001b[0m\u001b[1;35m \u001b[0m┃\u001b[1;35m \u001b[0m\u001b[1;35mChunk Size\u001b[0m\u001b[1;35m \u001b[0m┃\u001b[1;35m \u001b[0m\u001b[1;35m  Chunk Size\u001b[0m\u001b[1;35m \u001b[0m┃\u001b[1;35m \u001b[0m\u001b[1;35mDedup Ratio\u001b[0m\u001b[1;35m \u001b[0m┃\u001b[1;35m \u001b[0m\u001b[1;35m  Dedup Ratio\u001b[0m\u001b[1;35m \u001b[0m┃\n",
       "┡━━━━━━━━━━━━━━╇━━━━━━━━━━━━━╇━━━━━━━━━━━━━╇━━━━━━━━━━━━╇━━━━━━━━━━━━╇━━━━━━━━━━━━━━╇━━━━━━━━━━━━━╇━━━━━━━━━━━━━━━┩\n",
       "│ with-delete… │ none        │ cdc         │  292.2 MiB │  154.1 MiB │     98.0 MiB │         53% │           34% │\n",
       "│ with-delete… │ none        │ nocdc       │  291.8 MiB │  174.5 MiB │    111.0 MiB │         60% │           38% │\n",
       "├──────────────┼─────────────┼─────────────┼────────────┼────────────┼──────────────┼─────────────┼───────────────┤\n",
       "│ with-delete… │ snappy      │ cdc         │  179.6 MiB │   99.4 MiB │     99.8 MiB │         55% │           56% │\n",
       "│ with-delete… │ snappy      │ nocdc       │  179.1 MiB │  166.0 MiB │    166.6 MiB │         93% │           93% │\n",
       "├──────────────┼─────────────┼─────────────┼────────────┼────────────┼──────────────┼─────────────┼───────────────┤\n",
       "│ with-delete… │ zstd        │ cdc         │  125.0 MiB │   69.4 MiB │     69.7 MiB │         56% │           56% │\n",
       "│ with-delete… │ zstd        │ nocdc       │  124.2 MiB │  115.3 MiB │    115.8 MiB │         93% │           93% │\n",
       "├──────────────┼─────────────┼─────────────┼────────────┼────────────┼──────────────┼─────────────┼───────────────┤\n",
       "│ with-insert… │ none        │ cdc         │  302.5 MiB │  157.7 MiB │    100.3 MiB │         52% │           33% │\n",
       "│ with-insert… │ none        │ nocdc       │  302.1 MiB │  180.3 MiB │    114.7 MiB │         60% │           38% │\n",
       "├──────────────┼─────────────┼─────────────┼────────────┼────────────┼──────────────┼─────────────┼───────────────┤\n",
       "│ with-insert… │ snappy      │ cdc         │  186.0 MiB │  100.8 MiB │    101.2 MiB │         54% │           54% │\n",
       "│ with-insert… │ snappy      │ nocdc       │  185.5 MiB │  176.7 MiB │    177.3 MiB │         95% │           96% │\n",
       "├──────────────┼─────────────┼─────────────┼────────────┼────────────┼──────────────┼─────────────┼───────────────┤\n",
       "│ with-insert… │ zstd        │ cdc         │  129.4 MiB │   70.4 MiB │     70.6 MiB │         54% │           55% │\n",
       "│ with-insert… │ zstd        │ nocdc       │  128.6 MiB │  122.8 MiB │    123.3 MiB │         96% │           96% │\n",
       "└──────────────┴─────────────┴─────────────┴────────────┴────────────┴──────────────┴─────────────┴───────────────┘\n"
      ]
     },
     "metadata": {},
     "output_type": "display_data"
    }
   ],
   "source": [
    "visualize(table, {\"with-deleted-rows\": table_with_deleted_rows, \"with-inserted-rows\": table_with_inserted_rows}, \n",
    "          with_cdc=True)"
   ]
  },
  {
   "cell_type": "markdown",
   "id": "a2c837d7",
   "metadata": {},
   "source": [
    "Since the proof of the pudding is in the eating, let's actually upload the tables using the content-defined chunking parquet feature and see how much data is transferred:"
   ]
  },
  {
   "cell_type": "code",
   "execution_count": 52,
   "id": "d016b5cf",
   "metadata": {},
   "outputs": [],
   "source": [
    "# pq.write_table(table, \"hf://datasets/kszucs/pq/finemath-1m.parquet\", use_content_defined_chunking=True)"
   ]
  },
  {
   "cell_type": "code",
   "execution_count": 53,
   "id": "3b538a36",
   "metadata": {},
   "outputs": [],
   "source": [
    "# pq.write_table(table, \"hf://datasets/kszucs/pq/finemath-1m.parquet\", use_content_defined_chunking=True)"
   ]
  },
  {
   "cell_type": "markdown",
   "id": "e7b64df5",
   "metadata": {},
   "source": [
    "### 6. Using different Row-Group Sizes\n",
    "\n",
    "There are cases depending on the reader/writer contraints where larger or smaller row-group sizes might be beneficial. The parquet writer implementations use fixed-sized row-groups by default, in case of pyarrow the default is 1Mi rows. Dataset writers may change to reduce the row-group size in order to improve random access performance or to reduce the memory footprint of the reader application.\n",
    "\n",
    "Chainging the row-group size will shift rows between row-groups, shifting values between data pages, so we have a similar problem as with inserting or deleting rows. Let's compare the deduplication performance between different row-group sizes using the parquet CDC feature:"
   ]
  },
  {
   "cell_type": "code",
   "execution_count": 54,
   "id": "23898220",
   "metadata": {},
   "outputs": [
    {
     "data": {
      "text/html": [
       "<div>\n",
       "<style scoped>\n",
       "    .dataframe tbody tr th:only-of-type {\n",
       "        vertical-align: middle;\n",
       "    }\n",
       "\n",
       "    .dataframe tbody tr th {\n",
       "        vertical-align: top;\n",
       "    }\n",
       "\n",
       "    .dataframe thead th {\n",
       "        text-align: right;\n",
       "    }\n",
       "</style>\n",
       "<table border=\"1\" class=\"dataframe\">\n",
       "  <thead>\n",
       "    <tr style=\"text-align: right;\">\n",
       "      <th></th>\n",
       "      <th>id</th>\n",
       "      <th>system_prompt</th>\n",
       "      <th>question_length</th>\n",
       "      <th>question</th>\n",
       "      <th>response_length</th>\n",
       "      <th>response</th>\n",
       "    </tr>\n",
       "  </thead>\n",
       "  <tbody>\n",
       "    <tr>\n",
       "      <th>0</th>\n",
       "      <td>t0.1791914</td>\n",
       "      <td>You are an AI assistant that follows instructi...</td>\n",
       "      <td>291</td>\n",
       "      <td>Q:The exercise is to decide whether the questi...</td>\n",
       "      <td>5</td>\n",
       "      <td>True.</td>\n",
       "    </tr>\n",
       "    <tr>\n",
       "      <th>1</th>\n",
       "      <td>flan.2203053</td>\n",
       "      <td>You are a helpful assistant, who always provid...</td>\n",
       "      <td>132</td>\n",
       "      <td>Sentence 1: There is no need. \\n\\nSentence 2: ...</td>\n",
       "      <td>136</td>\n",
       "      <td>Yes, if the first sentence is true, then the s...</td>\n",
       "    </tr>\n",
       "    <tr>\n",
       "      <th>2</th>\n",
       "      <td>flan.1943030</td>\n",
       "      <td>You are a helpful assistant, who always provid...</td>\n",
       "      <td>392</td>\n",
       "      <td>On his oak mantelpiece are a drinking bowl fro...</td>\n",
       "      <td>293</td>\n",
       "      <td>We cannot conclude that the sentence \"The Ebol...</td>\n",
       "    </tr>\n",
       "    <tr>\n",
       "      <th>3</th>\n",
       "      <td>t0.870962</td>\n",
       "      <td>You are an AI assistant that follows instructi...</td>\n",
       "      <td>2121</td>\n",
       "      <td>Question: Read the following paragraph and ext...</td>\n",
       "      <td>153</td>\n",
       "      <td>The full name of the person whose version of \"...</td>\n",
       "    </tr>\n",
       "    <tr>\n",
       "      <th>4</th>\n",
       "      <td>t0.314926</td>\n",
       "      <td>You are an AI assistant that follows instructi...</td>\n",
       "      <td>1703</td>\n",
       "      <td>I have a test where I am given the following a...</td>\n",
       "      <td>146</td>\n",
       "      <td>The Rova compound remained largely closed to t...</td>\n",
       "    </tr>\n",
       "  </tbody>\n",
       "</table>\n",
       "</div>"
      ],
      "text/plain": [
       "             id                                      system_prompt  \\\n",
       "0    t0.1791914  You are an AI assistant that follows instructi...   \n",
       "1  flan.2203053  You are a helpful assistant, who always provid...   \n",
       "2  flan.1943030  You are a helpful assistant, who always provid...   \n",
       "3     t0.870962  You are an AI assistant that follows instructi...   \n",
       "4     t0.314926  You are an AI assistant that follows instructi...   \n",
       "\n",
       "   question_length                                           question  \\\n",
       "0              291  Q:The exercise is to decide whether the questi...   \n",
       "1              132  Sentence 1: There is no need. \\n\\nSentence 2: ...   \n",
       "2              392  On his oak mantelpiece are a drinking bowl fro...   \n",
       "3             2121  Question: Read the following paragraph and ext...   \n",
       "4             1703  I have a test where I am given the following a...   \n",
       "\n",
       "   response_length                                           response  \n",
       "0                5                                              True.  \n",
       "1              136  Yes, if the first sentence is true, then the s...  \n",
       "2              293  We cannot conclude that the sentence \"The Ebol...  \n",
       "3              153  The full name of the person whose version of \"...  \n",
       "4              146  The Rova compound remained largely closed to t...  "
      ]
     },
     "execution_count": 54,
     "metadata": {},
     "output_type": "execute_result"
    }
   ],
   "source": [
    "orca[:5].to_pandas()"
   ]
  },
  {
   "cell_type": "code",
   "execution_count": 55,
   "id": "f3e6dbf1",
   "metadata": {},
   "outputs": [
    {
     "data": {
      "text/markdown": [
       "\n",
       "#### Parquet Deduplication for Small-row-groups2\n",
       "    \n",
       "| Variant | No Compression | Zstd Compression  | Snappy Compression |\n",
       "|---------|----------------|-------------------|--------------------|\n",
       "| Vanilla Parquet | ![small-row-groups2 Vanilla](temp-none-small-row-groups2-nocdc.parquet.png) | ![small-row-groups2 Vanilla](temp-zstd-small-row-groups2-nocdc.parquet.png) | ![small-row-groups2 Vanilla](temp-snappy-small-row-groups2-nocdc.parquet.png) |\n",
       "| CDC Parquet | ![small-row-groups2 CDC](temp-none-small-row-groups2-cdc.parquet.png) | ![small-row-groups2 CDC](temp-zstd-small-row-groups2-cdc.parquet.png) | ![small-row-groups2 CDC](temp-snappy-small-row-groups2-cdc.parquet.png) |\n",
       "\n"
      ],
      "text/plain": [
       "<IPython.core.display.Markdown object>"
      ]
     },
     "metadata": {},
     "output_type": "display_data"
    },
    {
     "data": {
      "text/markdown": [
       "\n",
       "#### Parquet Deduplication for Medium-row-groups2\n",
       "    \n",
       "| Variant | No Compression | Zstd Compression  | Snappy Compression |\n",
       "|---------|----------------|-------------------|--------------------|\n",
       "| Vanilla Parquet | ![medium-row-groups2 Vanilla](temp-none-medium-row-groups2-nocdc.parquet.png) | ![medium-row-groups2 Vanilla](temp-zstd-medium-row-groups2-nocdc.parquet.png) | ![medium-row-groups2 Vanilla](temp-snappy-medium-row-groups2-nocdc.parquet.png) |\n",
       "| CDC Parquet | ![medium-row-groups2 CDC](temp-none-medium-row-groups2-cdc.parquet.png) | ![medium-row-groups2 CDC](temp-zstd-medium-row-groups2-cdc.parquet.png) | ![medium-row-groups2 CDC](temp-snappy-medium-row-groups2-cdc.parquet.png) |\n",
       "\n"
      ],
      "text/plain": [
       "<IPython.core.display.Markdown object>"
      ]
     },
     "metadata": {},
     "output_type": "display_data"
    },
    {
     "data": {
      "text/html": [
       "<pre style=\"white-space:pre;overflow-x:auto;line-height:normal;font-family:Menlo,'DejaVu Sans Mono',consolas,'Courier New',monospace\">┏━━━━━━━━━━━━━━┳━━━━━━━━━━━━━┳━━━━━━━━━━━━━┳━━━━━━━━━━━━┳━━━━━━━━━━━━┳━━━━━━━━━━━━━━┳━━━━━━━━━━━━━┳━━━━━━━━━━━━━━━┓\n",
       "┃<span style=\"color: #800080; text-decoration-color: #800080; font-weight: bold\">              </span>┃<span style=\"color: #800080; text-decoration-color: #800080; font-weight: bold\">             </span>┃<span style=\"color: #800080; text-decoration-color: #800080; font-weight: bold\">             </span>┃<span style=\"color: #800080; text-decoration-color: #800080; font-weight: bold\">            </span>┃<span style=\"color: #800080; text-decoration-color: #800080; font-weight: bold\">            </span>┃<span style=\"color: #800080; text-decoration-color: #800080; font-weight: bold\">   Compressed </span>┃<span style=\"color: #800080; text-decoration-color: #800080; font-weight: bold\">             </span>┃<span style=\"color: #800080; text-decoration-color: #800080; font-weight: bold\">    Compressed </span>┃\n",
       "┃<span style=\"color: #800080; text-decoration-color: #800080; font-weight: bold\"> Title        </span>┃<span style=\"color: #800080; text-decoration-color: #800080; font-weight: bold\"> Compression </span>┃<span style=\"color: #800080; text-decoration-color: #800080; font-weight: bold\"> Parquet CDC </span>┃<span style=\"color: #800080; text-decoration-color: #800080; font-weight: bold\"> Total Size </span>┃<span style=\"color: #800080; text-decoration-color: #800080; font-weight: bold\"> Chunk Size </span>┃<span style=\"color: #800080; text-decoration-color: #800080; font-weight: bold\">   Chunk Size </span>┃<span style=\"color: #800080; text-decoration-color: #800080; font-weight: bold\"> Dedup Ratio </span>┃<span style=\"color: #800080; text-decoration-color: #800080; font-weight: bold\">   Dedup Ratio </span>┃\n",
       "┡━━━━━━━━━━━━━━╇━━━━━━━━━━━━━╇━━━━━━━━━━━━━╇━━━━━━━━━━━━╇━━━━━━━━━━━━╇━━━━━━━━━━━━━━╇━━━━━━━━━━━━━╇━━━━━━━━━━━━━━━┩\n",
       "│ medium-row-… │ none        │ cdc         │    2.9 GiB │    1.5 GiB │    958.2 MiB │         50% │           32% │\n",
       "│ medium-row-… │ none        │ nocdc       │    2.9 GiB │    1.6 GiB │   1018.1 MiB │         54% │           34% │\n",
       "├──────────────┼─────────────┼─────────────┼────────────┼────────────┼──────────────┼─────────────┼───────────────┤\n",
       "│ medium-row-… │ snappy      │ cdc         │    1.8 GiB │  932.0 MiB │    935.4 MiB │         51% │           51% │\n",
       "│ medium-row-… │ snappy      │ nocdc       │    1.8 GiB │    1.2 GiB │      1.2 GiB │         67% │           67% │\n",
       "├──────────────┼─────────────┼─────────────┼────────────┼────────────┼──────────────┼─────────────┼───────────────┤\n",
       "│ medium-row-… │ zstd        │ cdc         │    1.2 GiB │  649.2 MiB │    651.6 MiB │         51% │           51% │\n",
       "│ medium-row-… │ zstd        │ nocdc       │    1.2 GiB │  850.4 MiB │    853.6 MiB │         67% │           67% │\n",
       "├──────────────┼─────────────┼─────────────┼────────────┼────────────┼──────────────┼─────────────┼───────────────┤\n",
       "│ small-row-g… │ none        │ cdc         │    2.9 GiB │    1.5 GiB │    966.8 MiB │         51% │           32% │\n",
       "│ small-row-g… │ none        │ nocdc       │    2.9 GiB │    1.7 GiB │      1.0 GiB │         57% │           36% │\n",
       "├──────────────┼─────────────┼─────────────┼────────────┼────────────┼──────────────┼─────────────┼───────────────┤\n",
       "│ small-row-g… │ snappy      │ cdc         │    1.8 GiB │  945.4 MiB │    948.8 MiB │         51% │           52% │\n",
       "│ small-row-g… │ snappy      │ nocdc       │    1.8 GiB │    1.4 GiB │      1.4 GiB │         80% │           81% │\n",
       "├──────────────┼─────────────┼─────────────┼────────────┼────────────┼──────────────┼─────────────┼───────────────┤\n",
       "│ small-row-g… │ zstd        │ cdc         │    1.2 GiB │  658.6 MiB │    661.0 MiB │         52% │           52% │\n",
       "│ small-row-g… │ zstd        │ nocdc       │    1.2 GiB │ 1019.6 MiB │   1023.5 MiB │         80% │           81% │\n",
       "└──────────────┴─────────────┴─────────────┴────────────┴────────────┴──────────────┴─────────────┴───────────────┘\n",
       "</pre>\n"
      ],
      "text/plain": [
       "┏━━━━━━━━━━━━━━┳━━━━━━━━━━━━━┳━━━━━━━━━━━━━┳━━━━━━━━━━━━┳━━━━━━━━━━━━┳━━━━━━━━━━━━━━┳━━━━━━━━━━━━━┳━━━━━━━━━━━━━━━┓\n",
       "┃\u001b[1;35m              \u001b[0m┃\u001b[1;35m             \u001b[0m┃\u001b[1;35m             \u001b[0m┃\u001b[1;35m            \u001b[0m┃\u001b[1;35m            \u001b[0m┃\u001b[1;35m \u001b[0m\u001b[1;35m  Compressed\u001b[0m\u001b[1;35m \u001b[0m┃\u001b[1;35m             \u001b[0m┃\u001b[1;35m \u001b[0m\u001b[1;35m   Compressed\u001b[0m\u001b[1;35m \u001b[0m┃\n",
       "┃\u001b[1;35m \u001b[0m\u001b[1;35mTitle       \u001b[0m\u001b[1;35m \u001b[0m┃\u001b[1;35m \u001b[0m\u001b[1;35mCompression\u001b[0m\u001b[1;35m \u001b[0m┃\u001b[1;35m \u001b[0m\u001b[1;35mParquet CDC\u001b[0m\u001b[1;35m \u001b[0m┃\u001b[1;35m \u001b[0m\u001b[1;35mTotal Size\u001b[0m\u001b[1;35m \u001b[0m┃\u001b[1;35m \u001b[0m\u001b[1;35mChunk Size\u001b[0m\u001b[1;35m \u001b[0m┃\u001b[1;35m \u001b[0m\u001b[1;35m  Chunk Size\u001b[0m\u001b[1;35m \u001b[0m┃\u001b[1;35m \u001b[0m\u001b[1;35mDedup Ratio\u001b[0m\u001b[1;35m \u001b[0m┃\u001b[1;35m \u001b[0m\u001b[1;35m  Dedup Ratio\u001b[0m\u001b[1;35m \u001b[0m┃\n",
       "┡━━━━━━━━━━━━━━╇━━━━━━━━━━━━━╇━━━━━━━━━━━━━╇━━━━━━━━━━━━╇━━━━━━━━━━━━╇━━━━━━━━━━━━━━╇━━━━━━━━━━━━━╇━━━━━━━━━━━━━━━┩\n",
       "│ medium-row-… │ none        │ cdc         │    2.9 GiB │    1.5 GiB │    958.2 MiB │         50% │           32% │\n",
       "│ medium-row-… │ none        │ nocdc       │    2.9 GiB │    1.6 GiB │   1018.1 MiB │         54% │           34% │\n",
       "├──────────────┼─────────────┼─────────────┼────────────┼────────────┼──────────────┼─────────────┼───────────────┤\n",
       "│ medium-row-… │ snappy      │ cdc         │    1.8 GiB │  932.0 MiB │    935.4 MiB │         51% │           51% │\n",
       "│ medium-row-… │ snappy      │ nocdc       │    1.8 GiB │    1.2 GiB │      1.2 GiB │         67% │           67% │\n",
       "├──────────────┼─────────────┼─────────────┼────────────┼────────────┼──────────────┼─────────────┼───────────────┤\n",
       "│ medium-row-… │ zstd        │ cdc         │    1.2 GiB │  649.2 MiB │    651.6 MiB │         51% │           51% │\n",
       "│ medium-row-… │ zstd        │ nocdc       │    1.2 GiB │  850.4 MiB │    853.6 MiB │         67% │           67% │\n",
       "├──────────────┼─────────────┼─────────────┼────────────┼────────────┼──────────────┼─────────────┼───────────────┤\n",
       "│ small-row-g… │ none        │ cdc         │    2.9 GiB │    1.5 GiB │    966.8 MiB │         51% │           32% │\n",
       "│ small-row-g… │ none        │ nocdc       │    2.9 GiB │    1.7 GiB │      1.0 GiB │         57% │           36% │\n",
       "├──────────────┼─────────────┼─────────────┼────────────┼────────────┼──────────────┼─────────────┼───────────────┤\n",
       "│ small-row-g… │ snappy      │ cdc         │    1.8 GiB │  945.4 MiB │    948.8 MiB │         51% │           52% │\n",
       "│ small-row-g… │ snappy      │ nocdc       │    1.8 GiB │    1.4 GiB │      1.4 GiB │         80% │           81% │\n",
       "├──────────────┼─────────────┼─────────────┼────────────┼────────────┼──────────────┼─────────────┼───────────────┤\n",
       "│ small-row-g… │ zstd        │ cdc         │    1.2 GiB │  658.6 MiB │    661.0 MiB │         52% │           52% │\n",
       "│ small-row-g… │ zstd        │ nocdc       │    1.2 GiB │ 1019.6 MiB │   1023.5 MiB │         80% │           81% │\n",
       "└──────────────┴─────────────┴─────────────┴────────────┴────────────┴──────────────┴─────────────┴───────────────┘\n"
      ]
     },
     "metadata": {},
     "output_type": "display_data"
    }
   ],
   "source": [
    "from de import visualize\n",
    "\n",
    "# pick a larger subset of the dataset to have enough rows for the row group size tests\n",
    "table = orca[2_000_000:3_000_000]\n",
    "\n",
    "cases = {\n",
    "    \"small-row-groups2\": (table, {\"row_group_size\": 128 * 1024}),\n",
    "    \"medium-row-groups2\": (table, {\"row_group_size\": 256 * 1024}),\n",
    "}\n",
    "visualize(table, cases, with_cdc=True)"
   ]
  },
  {
   "cell_type": "markdown",
   "id": "0633b745",
   "metadata": {},
   "source": [
    "### 7. Using Different File-Level Splitting\n",
    "\n",
    "Datasets often split into multiple files to improve parallelism and random access. Parquet CDC combined with the Xet storage layer can efficiently deduplicate data across multiple files even if the data is split at different boundaries. \n",
    "\n",
    "Let's write out the dataset with three different file-level splitting then compare the deduplication performance:"
   ]
  },
  {
   "cell_type": "code",
   "execution_count": 56,
   "id": "e16c449d",
   "metadata": {},
   "outputs": [],
   "source": [
    "from pathlib import Path\n",
    "\n",
    "def write_dataset(table, base_dir, num_shards, **kwargs):\n",
    "    \"\"\"Simple utility to write a pyarrow table to multiple Parquet files.\"\"\"\n",
    "    # ensure that directory exists\n",
    "    base_dir = Path(base_dir)\n",
    "    base_dir.mkdir(parents=True, exist_ok=True)\n",
    "    # split and write the table into multiple files\n",
    "    rows_per_file = len(table) / num_shards\n",
    "    for i in range(num_shards):\n",
    "        start = i * rows_per_file\n",
    "        end = min((i + 1) * rows_per_file, len(table))\n",
    "        shard = table.slice(start, end - start)\n",
    "        path = base_dir / f\"part-{i}.parquet\"\n",
    "        pq.write_table(shard, path, **kwargs)"
   ]
  },
  {
   "cell_type": "code",
   "execution_count": 60,
   "id": "dfae42d3",
   "metadata": {},
   "outputs": [
    {
     "name": "stderr",
     "output_type": "stream",
     "text": [
      "\n",
      "thread '<unnamed>' panicked at src/lib.rs:24:48:\n",
      "called `Option::unwrap()` on a `None` value\n"
     ]
    },
    {
     "ename": "PanicException",
     "evalue": "called `Option::unwrap()` on a `None` value",
     "output_type": "error",
     "traceback": [
      "\u001b[31m---------------------------------------------------------------------------\u001b[39m",
      "\u001b[31mPanicException\u001b[39m                            Traceback (most recent call last)",
      "\u001b[36mCell\u001b[39m\u001b[36m \u001b[39m\u001b[32mIn[60]\u001b[39m\u001b[32m, line 8\u001b[39m\n\u001b[32m      5\u001b[39m write_dataset(table, \u001b[33m\"\u001b[39m\u001b[33morca3-cdc\u001b[39m\u001b[33m\"\u001b[39m, num_shards=\u001b[32m3\u001b[39m, use_content_defined_chunking=\u001b[38;5;28;01mTrue\u001b[39;00m)\n\u001b[32m      6\u001b[39m write_dataset(table, \u001b[33m\"\u001b[39m\u001b[33morca8-cdc\u001b[39m\u001b[33m\"\u001b[39m, num_shards=\u001b[32m8\u001b[39m, use_content_defined_chunking=\u001b[38;5;28;01mTrue\u001b[39;00m)\n\u001b[32m----> \u001b[39m\u001b[32m8\u001b[39m \u001b[43mestimate\u001b[49m\u001b[43m(\u001b[49m\u001b[33;43m\"\u001b[39;49m\u001b[33;43morca3-nocdc/*.parquet\u001b[39;49m\u001b[33;43m\"\u001b[39;49m\u001b[43m,\u001b[49m\u001b[43m \u001b[49m\u001b[33;43m\"\u001b[39;49m\u001b[33;43morca8-nocdc/*.parquet\u001b[39;49m\u001b[33;43m\"\u001b[39;49m\u001b[43m)\u001b[49m\n",
      "\u001b[36mFile \u001b[39m\u001b[32m~/Workspace/de/de/__init__.py:25\u001b[39m, in \u001b[36mestimate\u001b[39m\u001b[34m(xtool, *patterns)\u001b[39m\n\u001b[32m     22\u001b[39m \u001b[38;5;250m\u001b[39m\u001b[33;03m\"\"\"Estimate the deduplication size of the given paths.\"\"\"\u001b[39;00m\n\u001b[32m     23\u001b[39m paths = \u001b[38;5;28msum\u001b[39m([glob.glob(pattern) \u001b[38;5;28;01mfor\u001b[39;00m pattern \u001b[38;5;129;01min\u001b[39;00m patterns], [])\n\u001b[32m---> \u001b[39m\u001b[32m25\u001b[39m de_result = \u001b[43mestimate_de\u001b[49m\u001b[43m(\u001b[49m\u001b[43mpaths\u001b[49m\u001b[43m)\u001b[49m\n\u001b[32m     26\u001b[39m \u001b[38;5;28mprint\u001b[39m(\u001b[33mf\u001b[39m\u001b[33m\"\u001b[39m\u001b[33mTotal size: \u001b[39m\u001b[38;5;132;01m{\u001b[39;00mhumanize.naturalsize(de_result[\u001b[33m'\u001b[39m\u001b[33mtotal_len\u001b[39m\u001b[33m'\u001b[39m])\u001b[38;5;132;01m}\u001b[39;00m\u001b[33m\"\u001b[39m)\n\u001b[32m     27\u001b[39m \u001b[38;5;28mprint\u001b[39m(\u001b[33mf\u001b[39m\u001b[33m\"\u001b[39m\u001b[33mChunk size: \u001b[39m\u001b[38;5;132;01m{\u001b[39;00mhumanize.naturalsize(de_result[\u001b[33m'\u001b[39m\u001b[33mchunk_bytes\u001b[39m\u001b[33m'\u001b[39m])\u001b[38;5;132;01m}\u001b[39;00m\u001b[33m\"\u001b[39m)\n",
      "\u001b[36mFile \u001b[39m\u001b[32m~/Workspace/de/de/estimate.py:10\u001b[39m, in \u001b[36mestimate_de\u001b[39m\u001b[34m(paths)\u001b[39m\n\u001b[32m      8\u001b[39m \u001b[38;5;28;01mdef\u001b[39;00m\u001b[38;5;250m \u001b[39m\u001b[34mestimate_de\u001b[39m(paths):\n\u001b[32m      9\u001b[39m     string_paths = \u001b[38;5;28mlist\u001b[39m(\u001b[38;5;28mmap\u001b[39m(\u001b[38;5;28mstr\u001b[39m, paths))\n\u001b[32m---> \u001b[39m\u001b[32m10\u001b[39m     total_bytes, chunk_bytes, compressed_chunk_bytes = \u001b[43mestimate\u001b[49m\u001b[43m(\u001b[49m\u001b[43mstring_paths\u001b[49m\u001b[43m)\u001b[49m\n\u001b[32m     11\u001b[39m     \u001b[38;5;28;01mreturn\u001b[39;00m {\n\u001b[32m     12\u001b[39m         \u001b[33m\"\u001b[39m\u001b[33mtotal_len\u001b[39m\u001b[33m\"\u001b[39m: total_bytes,\n\u001b[32m     13\u001b[39m         \u001b[33m\"\u001b[39m\u001b[33mchunk_bytes\u001b[39m\u001b[33m\"\u001b[39m: chunk_bytes,\n\u001b[32m     14\u001b[39m         \u001b[33m\"\u001b[39m\u001b[33mcompressed_chunk_bytes\u001b[39m\u001b[33m\"\u001b[39m: compressed_chunk_bytes,\n\u001b[32m     15\u001b[39m     }\n",
      "\u001b[31mPanicException\u001b[39m: called `Option::unwrap()` on a `None` value"
     ]
    }
   ],
   "source": [
    "from de import estimate\n",
    "\n",
    "table = orca\n",
    "\n",
    "write_dataset(table, \"orca3-cdc\", num_shards=3, use_content_defined_chunking=True)\n",
    "write_dataset(table, \"orca8-cdc\", num_shards=8, use_content_defined_chunking=True)\n",
    "\n",
    "estimate(\"orca3-nocdc/*.parquet\", \"orca8-nocdc/*.parquet\")"
   ]
  },
  {
   "cell_type": "code",
   "execution_count": null,
   "id": "9377c67c",
   "metadata": {},
   "outputs": [],
   "source": [
    "# TODO(kszucs): maybe add the stats plot for the HF repo starts dataset revisions"
   ]
  }
 ],
 "metadata": {
  "kernelspec": {
   "display_name": "arrow13",
   "language": "python",
   "name": "python3"
  },
  "language_info": {
   "codemirror_mode": {
    "name": "ipython",
    "version": 3
   },
   "file_extension": ".py",
   "mimetype": "text/x-python",
   "name": "python",
   "nbconvert_exporter": "python",
   "pygments_lexer": "ipython3",
   "version": "3.13.5"
  }
 },
 "nbformat": 4,
 "nbformat_minor": 5
}
