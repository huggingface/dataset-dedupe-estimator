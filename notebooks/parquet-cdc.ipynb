{
 "cells": [
  {
   "cell_type": "markdown",
   "id": "3590a7c8",
   "metadata": {},
   "source": [
    "# Parquet Content-Defined Chunking\n",
    "\n",
    "Apache Parquet is a columnar storage format that is widely used in the data engineering community. \n",
    "\n",
    "As Hugging Face hosts nearly 11PB of datasets with Parquet files alone accounting for over 2.2PB of that storage, optimizing Parquet storage is of high priority.\n",
    "Hugging Face has introduced a new storage layer called [Xet](https://huggingface.co/blog/xet-on-the-hub) that leverages content-defined chunking to efficiently deduplicate chunks of data reducing storage costs and improving download/upload speeds.\n",
    "\n",
    "While Xet is format agnostic, Parquet's layout and column-chunk (data page) based compression can produce entirely different byte-level representations for data with minor changes, leading to suboptimal deduplication performance. To address this, the Parquet files should be written in a way that minimizes the byte-level differences between similar data, which is where content-defined chunking (CDC) comes into play.\n",
    "\n",
    "Let's explore the performance benefits of the new Parquet CDC feature used alongside Hugging Face's Xet storage layer."
   ]
  },
  {
   "cell_type": "markdown",
   "id": "e3b100b4",
   "metadata": {},
   "source": [
    "### Note about required pyarrow version\n",
    "\n",
    "The parquet content-defined chunking feature hasn't been released yet, so we need to install a nightly build of `pyarrow`:"
   ]
  },
  {
   "cell_type": "markdown",
   "id": "2d1690b7",
   "metadata": {},
   "source": [
    "## Prepare the data to experiment with\n",
    "\n",
    "For demonstration purposes, we will use a manageable sized subset of [finemath-4plus](https://huggingface.co/datasets/HuggingFaceTB/finemath) dataset."
   ]
  },
  {
   "cell_type": "code",
   "execution_count": 123,
   "id": "641adf4d",
   "metadata": {},
   "outputs": [],
   "source": [
    "# from datasets import load_dataset\n",
    "\n",
    "# # ds = load_dataset(\"HuggingFaceTB/finemath\", \"finemath-4plus\", split=\"train[:100_000]\")\n",
    "# ds = load_dataset(\"Open-Orca/OpenOrca\", )\n",
    "# table = ds.data.table"
   ]
  },
  {
   "cell_type": "code",
   "execution_count": 124,
   "id": "ed28768d",
   "metadata": {},
   "outputs": [],
   "source": [
    "# table[:5].to_pandas()"
   ]
  },
  {
   "cell_type": "code",
   "execution_count": 1,
   "id": "e2f540fe",
   "metadata": {},
   "outputs": [],
   "source": [
    "import pyarrow.parquet as pq\n",
    "from huggingface_hub import hf_hub_download\n",
    "\n",
    "path = hf_hub_download(\n",
    "    repo_id=\"Open-Orca/OpenOrca\", \n",
    "    filename=\"3_5M-GPT3_5-Augmented.parquet\", \n",
    "    repo_type=\"dataset\"\n",
    ")\n",
    "\n",
    "full = pq.read_table(path)"
   ]
  },
  {
   "cell_type": "code",
   "execution_count": null,
   "id": "62a77884",
   "metadata": {},
   "outputs": [],
   "source": [
    "# TODO(kszucs): have synthetic data here as well"
   ]
  },
  {
   "cell_type": "code",
   "execution_count": 10,
   "id": "2cea6ced",
   "metadata": {},
   "outputs": [],
   "source": [
    "table = full[:500_000]"
   ]
  },
  {
   "cell_type": "code",
   "execution_count": 11,
   "id": "8769275d",
   "metadata": {},
   "outputs": [
    {
     "data": {
      "text/html": [
       "<div>\n",
       "<style scoped>\n",
       "    .dataframe tbody tr th:only-of-type {\n",
       "        vertical-align: middle;\n",
       "    }\n",
       "\n",
       "    .dataframe tbody tr th {\n",
       "        vertical-align: top;\n",
       "    }\n",
       "\n",
       "    .dataframe thead th {\n",
       "        text-align: right;\n",
       "    }\n",
       "</style>\n",
       "<table border=\"1\" class=\"dataframe\">\n",
       "  <thead>\n",
       "    <tr style=\"text-align: right;\">\n",
       "      <th></th>\n",
       "      <th>id</th>\n",
       "      <th>system_prompt</th>\n",
       "      <th>question</th>\n",
       "      <th>response</th>\n",
       "    </tr>\n",
       "  </thead>\n",
       "  <tbody>\n",
       "    <tr>\n",
       "      <th>0</th>\n",
       "      <td>t0.1791914</td>\n",
       "      <td>You are an AI assistant that follows instructi...</td>\n",
       "      <td>Q:The exercise is to decide whether the questi...</td>\n",
       "      <td>True.</td>\n",
       "    </tr>\n",
       "    <tr>\n",
       "      <th>1</th>\n",
       "      <td>flan.2203053</td>\n",
       "      <td>You are a helpful assistant, who always provid...</td>\n",
       "      <td>Sentence 1: There is no need. \\n\\nSentence 2: ...</td>\n",
       "      <td>Yes, if the first sentence is true, then the s...</td>\n",
       "    </tr>\n",
       "    <tr>\n",
       "      <th>2</th>\n",
       "      <td>flan.1943030</td>\n",
       "      <td>You are a helpful assistant, who always provid...</td>\n",
       "      <td>On his oak mantelpiece are a drinking bowl fro...</td>\n",
       "      <td>We cannot conclude that the sentence \"The Ebol...</td>\n",
       "    </tr>\n",
       "    <tr>\n",
       "      <th>3</th>\n",
       "      <td>t0.870962</td>\n",
       "      <td>You are an AI assistant that follows instructi...</td>\n",
       "      <td>Question: Read the following paragraph and ext...</td>\n",
       "      <td>The full name of the person whose version of \"...</td>\n",
       "    </tr>\n",
       "    <tr>\n",
       "      <th>4</th>\n",
       "      <td>t0.314926</td>\n",
       "      <td>You are an AI assistant that follows instructi...</td>\n",
       "      <td>I have a test where I am given the following a...</td>\n",
       "      <td>The Rova compound remained largely closed to t...</td>\n",
       "    </tr>\n",
       "  </tbody>\n",
       "</table>\n",
       "</div>"
      ],
      "text/plain": [
       "             id                                      system_prompt  \\\n",
       "0    t0.1791914  You are an AI assistant that follows instructi...   \n",
       "1  flan.2203053  You are a helpful assistant, who always provid...   \n",
       "2  flan.1943030  You are a helpful assistant, who always provid...   \n",
       "3     t0.870962  You are an AI assistant that follows instructi...   \n",
       "4     t0.314926  You are an AI assistant that follows instructi...   \n",
       "\n",
       "                                            question  \\\n",
       "0  Q:The exercise is to decide whether the questi...   \n",
       "1  Sentence 1: There is no need. \\n\\nSentence 2: ...   \n",
       "2  On his oak mantelpiece are a drinking bowl fro...   \n",
       "3  Question: Read the following paragraph and ext...   \n",
       "4  I have a test where I am given the following a...   \n",
       "\n",
       "                                            response  \n",
       "0                                              True.  \n",
       "1  Yes, if the first sentence is true, then the s...  \n",
       "2  We cannot conclude that the sentence \"The Ebol...  \n",
       "3  The full name of the person whose version of \"...  \n",
       "4  The Rova compound remained largely closed to t...  "
      ]
     },
     "execution_count": 11,
     "metadata": {},
     "output_type": "execute_result"
    }
   ],
   "source": [
    "table[:5].to_pandas()"
   ]
  },
  {
   "cell_type": "markdown",
   "id": "d4449fe3",
   "metadata": {},
   "source": [
    "### Upload the table as a Parquet file to Hugging Face Hub\n",
    "\n",
    "Since [pyarrow>=21.0.0](https://github.com/apache/arrow/pull/45089) we can use Hugging Face URIs in the `pyarrow` functions to directly read and write parquet (and other file formats) files to the Hub using the `hf://` URI scheme."
   ]
  },
  {
   "cell_type": "code",
   "execution_count": null,
   "id": "8d23b316",
   "metadata": {},
   "outputs": [
    {
     "data": {
      "application/vnd.jupyter.widget-view+json": {
       "model_id": "a6fd68ebcddd4e2487078467bfbbb9f4",
       "version_major": 2,
       "version_minor": 0
      },
      "text/plain": [
       "Processing Files (0 / 0)                : |          |  0.00B /  0.00B            "
      ]
     },
     "metadata": {},
     "output_type": "display_data"
    },
    {
     "data": {
      "application/vnd.jupyter.widget-view+json": {
       "model_id": "1a5f307d892f425dad5424d38accaafb",
       "version_major": 2,
       "version_minor": 0
      },
      "text/plain": [
       "New Data Upload                         : |          |  0.00B /  0.00B            "
      ]
     },
     "metadata": {},
     "output_type": "display_data"
    },
    {
     "data": {
      "application/vnd.jupyter.widget-view+json": {
       "model_id": "843a4f7394004dc5ab8542e7c0beb9de",
       "version_major": 2,
       "version_minor": 0
      },
      "text/plain": [
       "  ..._mlhlq2kgrd_m0000gn/T/hffs-e71zysgn:  80%|#######9  |  218MB /  273MB            "
      ]
     },
     "metadata": {},
     "output_type": "display_data"
    },
    {
     "name": "stderr",
     "output_type": "stream",
     "text": [
      "No files have been modified since last commit. Skipping to prevent empty commit.\n"
     ]
    }
   ],
   "source": [
    "# import pyarrow.parquet as pq\n",
    "\n",
    "# # Write the table to the Hugging Face Hub\n",
    "# pq.write_table(table, \"hf://datasets/kszucs/pq/finemath-100k.parquet\")"
   ]
  },
  {
   "cell_type": "markdown",
   "id": "1177c022",
   "metadata": {},
   "source": [
    "We can see that the table has been uploaded entirely as new data because it is not known to the Xet storage layer yet. Now read it back as a `pyarrow` table:"
   ]
  },
  {
   "cell_type": "code",
   "execution_count": null,
   "id": "170d8bf6",
   "metadata": {},
   "outputs": [
    {
     "data": {
      "text/plain": [
       "100000"
      ]
     },
     "execution_count": 4,
     "metadata": {},
     "output_type": "execute_result"
    }
   ],
   "source": [
    "# table = pq.read_table(\"hf://datasets/kszucs/pq/finemath-100k.parquet\")\n",
    "# len(table)"
   ]
  },
  {
   "cell_type": "markdown",
   "id": "d64928ef",
   "metadata": {},
   "source": [
    "Note that all `pyarrow` functions that accept a file path also accept a Hugging Face URI, like [pyarrow datasets](https://arrow.apache.org/docs/python/dataset.html), \n",
    "[CSV functions](https://arrow.apache.org/docs/python/generated/pyarrow.csv.read_csv.html), [incremental Parquet writer](https://arrow.apache.org/docs/python/generated/pyarrow.parquet.ParquetWriter.html) or reading only the parquet metadata:"
   ]
  },
  {
   "cell_type": "code",
   "execution_count": null,
   "id": "a4cd2d26",
   "metadata": {},
   "outputs": [
    {
     "data": {
      "text/plain": [
       "<pyarrow._parquet.FileMetaData object at 0x16ce99b70>\n",
       "  created_by: parquet-cpp-arrow version 21.0.0-SNAPSHOT\n",
       "  num_columns: 16\n",
       "  num_rows: 100000\n",
       "  num_row_groups: 1\n",
       "  format_version: 2.6\n",
       "  serialized_size: 11809"
      ]
     },
     "execution_count": 5,
     "metadata": {},
     "output_type": "execute_result"
    }
   ],
   "source": [
    "# pq.read_metadata(\"hf://datasets/kszucs/pq/finemath-100k.parquet\")"
   ]
  },
  {
   "cell_type": "markdown",
   "id": "af1d8b79",
   "metadata": {},
   "source": [
    "## Different Use Cases for Parquet Deduplication\n",
    "\n",
    "To demonstrate the effectiveness of the content-defined chunking feature, we will try out how it performs in case of:\n",
    "1. Re-uploading exact copies of the table\n",
    "2. Adding/removing columns from the table\n",
    "3. Changing column types in the table\n",
    "4. Appending new rows and concatenating tables\n",
    "5. Inserting / deleting rows in the table\n",
    "6. Change row-group size of the table\n",
    "7. Change file-level splitting/partitioning of the table\n",
    "\n",
    "TODO(kszucs): add the ppm visualization table for each use case\n"
   ]
  },
  {
   "cell_type": "markdown",
   "id": "a2db4bfc",
   "metadata": {},
   "source": [
    "### 1. Re-uploading an Exact Copies of the Table\n",
    "\n",
    "While this use case sounds trivial, traditional file systems do not deduplicate files resulting in full re-upload and re-download of the data. In contrast, a system utilizing content-defined chunking can recognize that the file content is identical and avoid unnecessary data transfer."
   ]
  },
  {
   "cell_type": "code",
   "execution_count": null,
   "id": "7feb1c4f",
   "metadata": {},
   "outputs": [
    {
     "data": {
      "application/vnd.jupyter.widget-view+json": {
       "model_id": "ca1ac848fe324d748110546bbba601c0",
       "version_major": 2,
       "version_minor": 0
      },
      "text/plain": [
       "Processing Files (0 / 0)                : |          |  0.00B /  0.00B            "
      ]
     },
     "metadata": {},
     "output_type": "display_data"
    },
    {
     "data": {
      "application/vnd.jupyter.widget-view+json": {
       "model_id": "6302e4809baa43e1bf42b48faeac6531",
       "version_major": 2,
       "version_minor": 0
      },
      "text/plain": [
       "New Data Upload                         : |          |  0.00B /  0.00B            "
      ]
     },
     "metadata": {},
     "output_type": "display_data"
    },
    {
     "data": {
      "application/vnd.jupyter.widget-view+json": {
       "model_id": "21c5cbab7ece4811b5f7b72ef7728f6e",
       "version_major": 2,
       "version_minor": 0
      },
      "text/plain": [
       "  ..._mlhlq2kgrd_m0000gn/T/hffs-r5bynfdz:  77%|#######6  |  210MB /  273MB            "
      ]
     },
     "metadata": {},
     "output_type": "display_data"
    },
    {
     "name": "stderr",
     "output_type": "stream",
     "text": [
      "No files have been modified since last commit. Skipping to prevent empty commit.\n"
     ]
    }
   ],
   "source": [
    "# pq.write_table(table, \"hf://datasets/kszucs/pq/finemath-100k-copy.parquet\")"
   ]
  },
  {
   "cell_type": "markdown",
   "id": "731a1db4",
   "metadata": {},
   "source": [
    "We can see that no new data has been uploaded, and the operation was instantaneous. Now let's see what happens if we upload the the same file again but to a different repository:\n"
   ]
  },
  {
   "cell_type": "code",
   "execution_count": null,
   "id": "774993c8",
   "metadata": {},
   "outputs": [
    {
     "data": {
      "application/vnd.jupyter.widget-view+json": {
       "model_id": "38e46e6d3436433e825131dae42b4668",
       "version_major": 2,
       "version_minor": 0
      },
      "text/plain": [
       "Processing Files (0 / 0)                : |          |  0.00B /  0.00B            "
      ]
     },
     "metadata": {},
     "output_type": "display_data"
    },
    {
     "data": {
      "application/vnd.jupyter.widget-view+json": {
       "model_id": "df4619ea6ed047d78046f5df7aa82948",
       "version_major": 2,
       "version_minor": 0
      },
      "text/plain": [
       "New Data Upload                         : |          |  0.00B /  0.00B            "
      ]
     },
     "metadata": {},
     "output_type": "display_data"
    },
    {
     "data": {
      "application/vnd.jupyter.widget-view+json": {
       "model_id": "954bc01eebeb441eac78d4ddab6d7634",
       "version_major": 2,
       "version_minor": 0
      },
      "text/plain": [
       "  ..._mlhlq2kgrd_m0000gn/T/hffs-ywdkqwzf:  74%|#######3  |  201MB /  273MB            "
      ]
     },
     "metadata": {},
     "output_type": "display_data"
    },
    {
     "name": "stderr",
     "output_type": "stream",
     "text": [
      "No files have been modified since last commit. Skipping to prevent empty commit.\n"
     ]
    }
   ],
   "source": [
    "# pq.write_table(table, \"hf://datasets/kszucs/pq-copy/finemath-100k-second-copy.parquet\")"
   ]
  },
  {
   "cell_type": "markdown",
   "id": "9b3b9d9b",
   "metadata": {},
   "source": [
    "The upload was instantaneous again since deduplication works across repositories as well. This is a key feature of the Xet storage layer, allowing efficient data sharing and collaboration. We can also visualize the deduplication between the two parquet files using the deduplication estimation tool:"
   ]
  },
  {
   "cell_type": "code",
   "execution_count": 12,
   "id": "fcc182b9",
   "metadata": {},
   "outputs": [
    {
     "data": {
      "text/markdown": [
       "\n",
       "#### Parquet Deduplication for Exact-copy\n",
       "    \n",
       "| Variant | No Compression | Zstd Compression  | Snappy Compression |\n",
       "|---------|----------------|-------------------|--------------------|\n",
       "| Vanilla Parquet | ![exact-copy Vanilla](temp-none-exact-copy-nocdc.parquet.png) | ![exact-copy Vanilla](temp-zstd-exact-copy-nocdc.parquet.png) | ![exact-copy Vanilla](temp-snappy-exact-copy-nocdc.parquet.png) |\n",
       "\n"
      ],
      "text/plain": [
       "<IPython.core.display.Markdown object>"
      ]
     },
     "metadata": {},
     "output_type": "display_data"
    },
    {
     "data": {
      "text/html": [
       "<pre style=\"white-space:pre;overflow-x:auto;line-height:normal;font-family:Menlo,'DejaVu Sans Mono',consolas,'Courier New',monospace\">┏━━━━━━━━━━━━┳━━━━━━━━━━━━━┳━━━━━━━━━━━━━┳━━━━━━━━━━━━┳━━━━━━━━━━━━┳━━━━━━━━━━━━━━━┳━━━━━━━━━━━━━┳━━━━━━━━━━━━━━━━┓\n",
       "┃<span style=\"color: #800080; text-decoration-color: #800080; font-weight: bold\">            </span>┃<span style=\"color: #800080; text-decoration-color: #800080; font-weight: bold\">             </span>┃<span style=\"color: #800080; text-decoration-color: #800080; font-weight: bold\">             </span>┃<span style=\"color: #800080; text-decoration-color: #800080; font-weight: bold\">            </span>┃<span style=\"color: #800080; text-decoration-color: #800080; font-weight: bold\">            </span>┃<span style=\"color: #800080; text-decoration-color: #800080; font-weight: bold\">    Compressed </span>┃<span style=\"color: #800080; text-decoration-color: #800080; font-weight: bold\">             </span>┃<span style=\"color: #800080; text-decoration-color: #800080; font-weight: bold\">     Compressed </span>┃\n",
       "┃<span style=\"color: #800080; text-decoration-color: #800080; font-weight: bold\"> Title      </span>┃<span style=\"color: #800080; text-decoration-color: #800080; font-weight: bold\"> Compression </span>┃<span style=\"color: #800080; text-decoration-color: #800080; font-weight: bold\"> Parquet CDC </span>┃<span style=\"color: #800080; text-decoration-color: #800080; font-weight: bold\"> Total Size </span>┃<span style=\"color: #800080; text-decoration-color: #800080; font-weight: bold\"> Chunk Size </span>┃<span style=\"color: #800080; text-decoration-color: #800080; font-weight: bold\">    Chunk Size </span>┃<span style=\"color: #800080; text-decoration-color: #800080; font-weight: bold\"> Dedup Ratio </span>┃<span style=\"color: #800080; text-decoration-color: #800080; font-weight: bold\">    Dedup Ratio </span>┃\n",
       "┡━━━━━━━━━━━━╇━━━━━━━━━━━━━╇━━━━━━━━━━━━━╇━━━━━━━━━━━━╇━━━━━━━━━━━━╇━━━━━━━━━━━━━━━╇━━━━━━━━━━━━━╇━━━━━━━━━━━━━━━━┩\n",
       "│ exact-copy │ none        │ nocdc       │    1.5 GiB │  743.6 MiB │     471.5 MiB │         50% │            32% │\n",
       "├────────────┼─────────────┼─────────────┼────────────┼────────────┼───────────────┼─────────────┼────────────────┤\n",
       "│ exact-copy │ snappy      │ nocdc       │  910.9 MiB │  455.4 MiB │     457.1 MiB │         50% │            50% │\n",
       "├────────────┼─────────────┼─────────────┼────────────┼────────────┼───────────────┼─────────────┼────────────────┤\n",
       "│ exact-copy │ zstd        │ nocdc       │  630.3 MiB │  315.1 MiB │     316.3 MiB │         50% │            50% │\n",
       "└────────────┴─────────────┴─────────────┴────────────┴────────────┴───────────────┴─────────────┴────────────────┘\n",
       "</pre>\n"
      ],
      "text/plain": [
       "┏━━━━━━━━━━━━┳━━━━━━━━━━━━━┳━━━━━━━━━━━━━┳━━━━━━━━━━━━┳━━━━━━━━━━━━┳━━━━━━━━━━━━━━━┳━━━━━━━━━━━━━┳━━━━━━━━━━━━━━━━┓\n",
       "┃\u001b[1;35m            \u001b[0m┃\u001b[1;35m             \u001b[0m┃\u001b[1;35m             \u001b[0m┃\u001b[1;35m            \u001b[0m┃\u001b[1;35m            \u001b[0m┃\u001b[1;35m \u001b[0m\u001b[1;35m   Compressed\u001b[0m\u001b[1;35m \u001b[0m┃\u001b[1;35m             \u001b[0m┃\u001b[1;35m \u001b[0m\u001b[1;35m    Compressed\u001b[0m\u001b[1;35m \u001b[0m┃\n",
       "┃\u001b[1;35m \u001b[0m\u001b[1;35mTitle     \u001b[0m\u001b[1;35m \u001b[0m┃\u001b[1;35m \u001b[0m\u001b[1;35mCompression\u001b[0m\u001b[1;35m \u001b[0m┃\u001b[1;35m \u001b[0m\u001b[1;35mParquet CDC\u001b[0m\u001b[1;35m \u001b[0m┃\u001b[1;35m \u001b[0m\u001b[1;35mTotal Size\u001b[0m\u001b[1;35m \u001b[0m┃\u001b[1;35m \u001b[0m\u001b[1;35mChunk Size\u001b[0m\u001b[1;35m \u001b[0m┃\u001b[1;35m \u001b[0m\u001b[1;35m   Chunk Size\u001b[0m\u001b[1;35m \u001b[0m┃\u001b[1;35m \u001b[0m\u001b[1;35mDedup Ratio\u001b[0m\u001b[1;35m \u001b[0m┃\u001b[1;35m \u001b[0m\u001b[1;35m   Dedup Ratio\u001b[0m\u001b[1;35m \u001b[0m┃\n",
       "┡━━━━━━━━━━━━╇━━━━━━━━━━━━━╇━━━━━━━━━━━━━╇━━━━━━━━━━━━╇━━━━━━━━━━━━╇━━━━━━━━━━━━━━━╇━━━━━━━━━━━━━╇━━━━━━━━━━━━━━━━┩\n",
       "│ exact-copy │ none        │ nocdc       │    1.5 GiB │  743.6 MiB │     471.5 MiB │         50% │            32% │\n",
       "├────────────┼─────────────┼─────────────┼────────────┼────────────┼───────────────┼─────────────┼────────────────┤\n",
       "│ exact-copy │ snappy      │ nocdc       │  910.9 MiB │  455.4 MiB │     457.1 MiB │         50% │            50% │\n",
       "├────────────┼─────────────┼─────────────┼────────────┼────────────┼───────────────┼─────────────┼────────────────┤\n",
       "│ exact-copy │ zstd        │ nocdc       │  630.3 MiB │  315.1 MiB │     316.3 MiB │         50% │            50% │\n",
       "└────────────┴─────────────┴─────────────┴────────────┴────────────┴───────────────┴─────────────┴────────────────┘\n"
      ]
     },
     "metadata": {},
     "output_type": "display_data"
    }
   ],
   "source": [
    "# TODO(kszucs): remove this cell and introduce the visualization later when needed\n",
    "\n",
    "from de import visualize\n",
    "\n",
    "visualize(table, {\"exact-copy\": table})"
   ]
  },
  {
   "cell_type": "markdown",
   "id": "a888f462",
   "metadata": {},
   "source": [
    "The three totally green heatmaps indicate that the two files deduplicate perfectly."
   ]
  },
  {
   "cell_type": "markdown",
   "id": "ade03fca",
   "metadata": {},
   "source": [
    "### 2. Adding and Removing Columns from the Table\n",
    "\n",
    "First write out the original and changed tables to local parquet files to see their sizes:"
   ]
  },
  {
   "cell_type": "code",
   "execution_count": 20,
   "id": "c1248891",
   "metadata": {},
   "outputs": [],
   "source": [
    "import pyarrow.parquet as pq\n",
    "import pyarrow.compute as pc\n",
    "\n",
    "table_with_new_columns = table.add_column(\n",
    "    table.schema.get_field_index(\"question\"),\n",
    "    \"question_length\",\n",
    "    pc.utf8_length(table[\"question\"])\n",
    ")\n",
    "table_with_new_columns = table_with_new_columns.add_column(\n",
    "    table_with_new_columns.schema.get_field_index(\"response\"),\n",
    "    \"response_short\",\n",
    "    pc.utf8_slice_codeunits(table[\"response\"], 0, 50)\n",
    ")\n",
    "table_with_removed_columns = table.drop([\"response\"])\n",
    "    \n",
    "pq.write_table(table, \"/tmp/original.parquet\")\n",
    "pq.write_table(table_with_new_columns, \"/tmp/with-new-columns.parquet\")\n",
    "pq.write_table(table_with_removed_columns, \"/tmp/with-removed-columns.parquet\")"
   ]
  },
  {
   "cell_type": "code",
   "execution_count": 17,
   "id": "ebe9fb5a",
   "metadata": {},
   "outputs": [
    {
     "name": "stdout",
     "output_type": "stream",
     "text": [
      "-rw-r--r--  1 kszucs  wheel   455M Jul 15 22:51 /tmp/original.parquet\n",
      "-rw-r--r--  1 kszucs  wheel   471M Jul 15 22:51 /tmp/with-new-columns.parquet\n",
      "-rw-r--r--  1 kszucs  wheel   455M Jul 15 22:51 /tmp/with-removed-columns.parquet\n"
     ]
    }
   ],
   "source": [
    "!ls -lah /tmp/*.parquet"
   ]
  },
  {
   "cell_type": "markdown",
   "id": "1b8f7782",
   "metadata": {},
   "source": [
    "Now upload them to Hugging Face to see how much data is actually transferred:"
   ]
  },
  {
   "cell_type": "code",
   "execution_count": null,
   "id": "ba11dd54",
   "metadata": {},
   "outputs": [
    {
     "data": {
      "application/vnd.jupyter.widget-view+json": {
       "model_id": "d02615da7a7e42be951d407c882fe82b",
       "version_major": 2,
       "version_minor": 0
      },
      "text/plain": [
       "Processing Files (0 / 0)                : |          |  0.00B /  0.00B            "
      ]
     },
     "metadata": {},
     "output_type": "display_data"
    },
    {
     "data": {
      "application/vnd.jupyter.widget-view+json": {
       "model_id": "bc2c3ed20a5a4f8bab476a5ca19b2330",
       "version_major": 2,
       "version_minor": 0
      },
      "text/plain": [
       "New Data Upload                         : |          |  0.00B /  0.00B            "
      ]
     },
     "metadata": {},
     "output_type": "display_data"
    },
    {
     "data": {
      "application/vnd.jupyter.widget-view+json": {
       "model_id": "3b7489e1b6334ec7a82cf39e21b1cc2c",
       "version_major": 2,
       "version_minor": 0
      },
      "text/plain": [
       "  ..._mlhlq2kgrd_m0000gn/T/hffs-x0nrujai:  69%|######8   |  226MB /  330MB            "
      ]
     },
     "metadata": {},
     "output_type": "display_data"
    },
    {
     "name": "stderr",
     "output_type": "stream",
     "text": [
      "No files have been modified since last commit. Skipping to prevent empty commit.\n"
     ]
    }
   ],
   "source": [
    "# pq.write_table(table_with_new_columns, \"hf://datasets/kszucs/pq/finemath-100k-with-new-columns.parquet\")"
   ]
  },
  {
   "cell_type": "markdown",
   "id": "0b411122",
   "metadata": {},
   "source": [
    "We can see that only the new columns and the new parquet metadata placed in the file's footer were uploaded, while the original data was not transferred again. This is a huge benefit of the content-defined chunking feature, as it allows us to efficiently add new columns without transferring the entire dataset again. \n",
    "\n",
    "Same applies to removing columns, as we can see below:"
   ]
  },
  {
   "cell_type": "code",
   "execution_count": null,
   "id": "8ea5f76b",
   "metadata": {},
   "outputs": [
    {
     "data": {
      "application/vnd.jupyter.widget-view+json": {
       "model_id": "e3043368321842e486bccbdc7cb88e48",
       "version_major": 2,
       "version_minor": 0
      },
      "text/plain": [
       "Processing Files (0 / 0)                : |          |  0.00B /  0.00B            "
      ]
     },
     "metadata": {},
     "output_type": "display_data"
    },
    {
     "data": {
      "application/vnd.jupyter.widget-view+json": {
       "model_id": "4f076d5e43f341eba09d17dae7cdb5e5",
       "version_major": 2,
       "version_minor": 0
      },
      "text/plain": [
       "New Data Upload                         : |          |  0.00B /  0.00B            "
      ]
     },
     "metadata": {},
     "output_type": "display_data"
    },
    {
     "data": {
      "application/vnd.jupyter.widget-view+json": {
       "model_id": "4c147979a5644de391ae305ae9a9d641",
       "version_major": 2,
       "version_minor": 0
      },
      "text/plain": [
       "  ..._mlhlq2kgrd_m0000gn/T/hffs-4i1yxc9o: 100%|##########| 7.03MB / 7.03MB            "
      ]
     },
     "metadata": {},
     "output_type": "display_data"
    },
    {
     "name": "stderr",
     "output_type": "stream",
     "text": [
      "No files have been modified since last commit. Skipping to prevent empty commit.\n"
     ]
    }
   ],
   "source": [
    "# pq.write_table(table_with_removed_columns, \"hf://datasets/kszucs/pq/finemath-100k-with-removed-columns.parquet\")"
   ]
  },
  {
   "cell_type": "markdown",
   "id": "cd510aaa",
   "metadata": {},
   "source": [
    "Now let's visualize the deduplication heatmaps:"
   ]
  },
  {
   "cell_type": "code",
   "execution_count": 18,
   "id": "74b77dc0",
   "metadata": {},
   "outputs": [
    {
     "data": {
      "text/markdown": [
       "\n",
       "#### Parquet Deduplication for With-new-columns3\n",
       "    \n",
       "| Variant | No Compression | Zstd Compression  | Snappy Compression |\n",
       "|---------|----------------|-------------------|--------------------|\n",
       "| Vanilla Parquet | ![with-new-columns3 Vanilla](temp-none-with-new-columns3-nocdc.parquet.png) | ![with-new-columns3 Vanilla](temp-zstd-with-new-columns3-nocdc.parquet.png) | ![with-new-columns3 Vanilla](temp-snappy-with-new-columns3-nocdc.parquet.png) |\n",
       "\n"
      ],
      "text/plain": [
       "<IPython.core.display.Markdown object>"
      ]
     },
     "metadata": {},
     "output_type": "display_data"
    },
    {
     "data": {
      "text/html": [
       "<pre style=\"white-space:pre;overflow-x:auto;line-height:normal;font-family:Menlo,'DejaVu Sans Mono',consolas,'Courier New',monospace\">┏━━━━━━━━━━━━━━┳━━━━━━━━━━━━━┳━━━━━━━━━━━━━┳━━━━━━━━━━━━┳━━━━━━━━━━━━┳━━━━━━━━━━━━━━━┳━━━━━━━━━━━━━┳━━━━━━━━━━━━━━┓\n",
       "┃<span style=\"color: #800080; text-decoration-color: #800080; font-weight: bold\">              </span>┃<span style=\"color: #800080; text-decoration-color: #800080; font-weight: bold\">             </span>┃<span style=\"color: #800080; text-decoration-color: #800080; font-weight: bold\">             </span>┃<span style=\"color: #800080; text-decoration-color: #800080; font-weight: bold\">            </span>┃<span style=\"color: #800080; text-decoration-color: #800080; font-weight: bold\">            </span>┃<span style=\"color: #800080; text-decoration-color: #800080; font-weight: bold\">    Compressed </span>┃<span style=\"color: #800080; text-decoration-color: #800080; font-weight: bold\">             </span>┃<span style=\"color: #800080; text-decoration-color: #800080; font-weight: bold\">   Compressed </span>┃\n",
       "┃<span style=\"color: #800080; text-decoration-color: #800080; font-weight: bold\"> Title        </span>┃<span style=\"color: #800080; text-decoration-color: #800080; font-weight: bold\"> Compression </span>┃<span style=\"color: #800080; text-decoration-color: #800080; font-weight: bold\"> Parquet CDC </span>┃<span style=\"color: #800080; text-decoration-color: #800080; font-weight: bold\"> Total Size </span>┃<span style=\"color: #800080; text-decoration-color: #800080; font-weight: bold\"> Chunk Size </span>┃<span style=\"color: #800080; text-decoration-color: #800080; font-weight: bold\">    Chunk Size </span>┃<span style=\"color: #800080; text-decoration-color: #800080; font-weight: bold\"> Dedup Ratio </span>┃<span style=\"color: #800080; text-decoration-color: #800080; font-weight: bold\">  Dedup Ratio </span>┃\n",
       "┡━━━━━━━━━━━━━━╇━━━━━━━━━━━━━╇━━━━━━━━━━━━━╇━━━━━━━━━━━━╇━━━━━━━━━━━━╇━━━━━━━━━━━━━━━╇━━━━━━━━━━━━━╇━━━━━━━━━━━━━━┩\n",
       "│ with-new-co… │ none        │ nocdc       │    1.5 GiB │  769.0 MiB │     487.9 MiB │         51% │          32% │\n",
       "├──────────────┼─────────────┼─────────────┼────────────┼────────────┼───────────────┼─────────────┼──────────────┤\n",
       "│ with-new-co… │ snappy      │ nocdc       │  926.7 MiB │  471.5 MiB │     473.3 MiB │         51% │          51% │\n",
       "├──────────────┼─────────────┼─────────────┼────────────┼────────────┼───────────────┼─────────────┼──────────────┤\n",
       "│ with-new-co… │ zstd        │ nocdc       │  641.2 MiB │  326.4 MiB │     327.6 MiB │         51% │          51% │\n",
       "└──────────────┴─────────────┴─────────────┴────────────┴────────────┴───────────────┴─────────────┴──────────────┘\n",
       "</pre>\n"
      ],
      "text/plain": [
       "┏━━━━━━━━━━━━━━┳━━━━━━━━━━━━━┳━━━━━━━━━━━━━┳━━━━━━━━━━━━┳━━━━━━━━━━━━┳━━━━━━━━━━━━━━━┳━━━━━━━━━━━━━┳━━━━━━━━━━━━━━┓\n",
       "┃\u001b[1;35m              \u001b[0m┃\u001b[1;35m             \u001b[0m┃\u001b[1;35m             \u001b[0m┃\u001b[1;35m            \u001b[0m┃\u001b[1;35m            \u001b[0m┃\u001b[1;35m \u001b[0m\u001b[1;35m   Compressed\u001b[0m\u001b[1;35m \u001b[0m┃\u001b[1;35m             \u001b[0m┃\u001b[1;35m \u001b[0m\u001b[1;35m  Compressed\u001b[0m\u001b[1;35m \u001b[0m┃\n",
       "┃\u001b[1;35m \u001b[0m\u001b[1;35mTitle       \u001b[0m\u001b[1;35m \u001b[0m┃\u001b[1;35m \u001b[0m\u001b[1;35mCompression\u001b[0m\u001b[1;35m \u001b[0m┃\u001b[1;35m \u001b[0m\u001b[1;35mParquet CDC\u001b[0m\u001b[1;35m \u001b[0m┃\u001b[1;35m \u001b[0m\u001b[1;35mTotal Size\u001b[0m\u001b[1;35m \u001b[0m┃\u001b[1;35m \u001b[0m\u001b[1;35mChunk Size\u001b[0m\u001b[1;35m \u001b[0m┃\u001b[1;35m \u001b[0m\u001b[1;35m   Chunk Size\u001b[0m\u001b[1;35m \u001b[0m┃\u001b[1;35m \u001b[0m\u001b[1;35mDedup Ratio\u001b[0m\u001b[1;35m \u001b[0m┃\u001b[1;35m \u001b[0m\u001b[1;35m Dedup Ratio\u001b[0m\u001b[1;35m \u001b[0m┃\n",
       "┡━━━━━━━━━━━━━━╇━━━━━━━━━━━━━╇━━━━━━━━━━━━━╇━━━━━━━━━━━━╇━━━━━━━━━━━━╇━━━━━━━━━━━━━━━╇━━━━━━━━━━━━━╇━━━━━━━━━━━━━━┩\n",
       "│ with-new-co… │ none        │ nocdc       │    1.5 GiB │  769.0 MiB │     487.9 MiB │         51% │          32% │\n",
       "├──────────────┼─────────────┼─────────────┼────────────┼────────────┼───────────────┼─────────────┼──────────────┤\n",
       "│ with-new-co… │ snappy      │ nocdc       │  926.7 MiB │  471.5 MiB │     473.3 MiB │         51% │          51% │\n",
       "├──────────────┼─────────────┼─────────────┼────────────┼────────────┼───────────────┼─────────────┼──────────────┤\n",
       "│ with-new-co… │ zstd        │ nocdc       │  641.2 MiB │  326.4 MiB │     327.6 MiB │         51% │          51% │\n",
       "└──────────────┴─────────────┴─────────────┴────────────┴────────────┴───────────────┴─────────────┴──────────────┘\n"
      ]
     },
     "metadata": {},
     "output_type": "display_data"
    }
   ],
   "source": [
    "visualize(table, {\"with-new-columns\": table_with_new_columns})"
   ]
  },
  {
   "cell_type": "markdown",
   "id": "d2d15def",
   "metadata": {},
   "source": [
    "Adding two new columns mean that we have unseen data pages which must be transferred (highlighted in red), but the rest of the data remains unchanged, so it is not transferred again. Note the small red area in the footer metadata which almost always changes as we modify the parquet file."
   ]
  },
  {
   "cell_type": "code",
   "execution_count": 21,
   "id": "b692d314",
   "metadata": {},
   "outputs": [
    {
     "data": {
      "text/markdown": [
       "\n",
       "#### Parquet Deduplication for With-removed-columns1\n",
       "    \n",
       "| Variant | No Compression | Zstd Compression  | Snappy Compression |\n",
       "|---------|----------------|-------------------|--------------------|\n",
       "| Vanilla Parquet | ![with-removed-columns1 Vanilla](temp-none-with-removed-columns1-nocdc.parquet.png) | ![with-removed-columns1 Vanilla](temp-zstd-with-removed-columns1-nocdc.parquet.png) | ![with-removed-columns1 Vanilla](temp-snappy-with-removed-columns1-nocdc.parquet.png) |\n",
       "\n"
      ],
      "text/plain": [
       "<IPython.core.display.Markdown object>"
      ]
     },
     "metadata": {},
     "output_type": "display_data"
    },
    {
     "data": {
      "text/html": [
       "<pre style=\"white-space:pre;overflow-x:auto;line-height:normal;font-family:Menlo,'DejaVu Sans Mono',consolas,'Courier New',monospace\">┏━━━━━━━━━━━━━━┳━━━━━━━━━━━━━┳━━━━━━━━━━━━━┳━━━━━━━━━━━━┳━━━━━━━━━━━━┳━━━━━━━━━━━━━━━┳━━━━━━━━━━━━━┳━━━━━━━━━━━━━━┓\n",
       "┃<span style=\"color: #800080; text-decoration-color: #800080; font-weight: bold\">              </span>┃<span style=\"color: #800080; text-decoration-color: #800080; font-weight: bold\">             </span>┃<span style=\"color: #800080; text-decoration-color: #800080; font-weight: bold\">             </span>┃<span style=\"color: #800080; text-decoration-color: #800080; font-weight: bold\">            </span>┃<span style=\"color: #800080; text-decoration-color: #800080; font-weight: bold\">            </span>┃<span style=\"color: #800080; text-decoration-color: #800080; font-weight: bold\">    Compressed </span>┃<span style=\"color: #800080; text-decoration-color: #800080; font-weight: bold\">             </span>┃<span style=\"color: #800080; text-decoration-color: #800080; font-weight: bold\">   Compressed </span>┃\n",
       "┃<span style=\"color: #800080; text-decoration-color: #800080; font-weight: bold\"> Title        </span>┃<span style=\"color: #800080; text-decoration-color: #800080; font-weight: bold\"> Compression </span>┃<span style=\"color: #800080; text-decoration-color: #800080; font-weight: bold\"> Parquet CDC </span>┃<span style=\"color: #800080; text-decoration-color: #800080; font-weight: bold\"> Total Size </span>┃<span style=\"color: #800080; text-decoration-color: #800080; font-weight: bold\"> Chunk Size </span>┃<span style=\"color: #800080; text-decoration-color: #800080; font-weight: bold\">    Chunk Size </span>┃<span style=\"color: #800080; text-decoration-color: #800080; font-weight: bold\"> Dedup Ratio </span>┃<span style=\"color: #800080; text-decoration-color: #800080; font-weight: bold\">  Dedup Ratio </span>┃\n",
       "┡━━━━━━━━━━━━━━╇━━━━━━━━━━━━━╇━━━━━━━━━━━━━╇━━━━━━━━━━━━╇━━━━━━━━━━━━╇━━━━━━━━━━━━━━━╇━━━━━━━━━━━━━╇━━━━━━━━━━━━━━┩\n",
       "│ with-remove… │ none        │ nocdc       │    1.2 GiB │  743.6 MiB │     471.5 MiB │         58% │          37% │\n",
       "├──────────────┼─────────────┼─────────────┼────────────┼────────────┼───────────────┼─────────────┼──────────────┤\n",
       "│ with-remove… │ snappy      │ nocdc       │  790.1 MiB │  455.5 MiB │     457.2 MiB │         58% │          58% │\n",
       "├──────────────┼─────────────┼─────────────┼────────────┼────────────┼───────────────┼─────────────┼──────────────┤\n",
       "│ with-remove… │ zstd        │ nocdc       │  547.8 MiB │  315.2 MiB │     316.4 MiB │         58% │          58% │\n",
       "└──────────────┴─────────────┴─────────────┴────────────┴────────────┴───────────────┴─────────────┴──────────────┘\n",
       "</pre>\n"
      ],
      "text/plain": [
       "┏━━━━━━━━━━━━━━┳━━━━━━━━━━━━━┳━━━━━━━━━━━━━┳━━━━━━━━━━━━┳━━━━━━━━━━━━┳━━━━━━━━━━━━━━━┳━━━━━━━━━━━━━┳━━━━━━━━━━━━━━┓\n",
       "┃\u001b[1;35m              \u001b[0m┃\u001b[1;35m             \u001b[0m┃\u001b[1;35m             \u001b[0m┃\u001b[1;35m            \u001b[0m┃\u001b[1;35m            \u001b[0m┃\u001b[1;35m \u001b[0m\u001b[1;35m   Compressed\u001b[0m\u001b[1;35m \u001b[0m┃\u001b[1;35m             \u001b[0m┃\u001b[1;35m \u001b[0m\u001b[1;35m  Compressed\u001b[0m\u001b[1;35m \u001b[0m┃\n",
       "┃\u001b[1;35m \u001b[0m\u001b[1;35mTitle       \u001b[0m\u001b[1;35m \u001b[0m┃\u001b[1;35m \u001b[0m\u001b[1;35mCompression\u001b[0m\u001b[1;35m \u001b[0m┃\u001b[1;35m \u001b[0m\u001b[1;35mParquet CDC\u001b[0m\u001b[1;35m \u001b[0m┃\u001b[1;35m \u001b[0m\u001b[1;35mTotal Size\u001b[0m\u001b[1;35m \u001b[0m┃\u001b[1;35m \u001b[0m\u001b[1;35mChunk Size\u001b[0m\u001b[1;35m \u001b[0m┃\u001b[1;35m \u001b[0m\u001b[1;35m   Chunk Size\u001b[0m\u001b[1;35m \u001b[0m┃\u001b[1;35m \u001b[0m\u001b[1;35mDedup Ratio\u001b[0m\u001b[1;35m \u001b[0m┃\u001b[1;35m \u001b[0m\u001b[1;35m Dedup Ratio\u001b[0m\u001b[1;35m \u001b[0m┃\n",
       "┡━━━━━━━━━━━━━━╇━━━━━━━━━━━━━╇━━━━━━━━━━━━━╇━━━━━━━━━━━━╇━━━━━━━━━━━━╇━━━━━━━━━━━━━━━╇━━━━━━━━━━━━━╇━━━━━━━━━━━━━━┩\n",
       "│ with-remove… │ none        │ nocdc       │    1.2 GiB │  743.6 MiB │     471.5 MiB │         58% │          37% │\n",
       "├──────────────┼─────────────┼─────────────┼────────────┼────────────┼───────────────┼─────────────┼──────────────┤\n",
       "│ with-remove… │ snappy      │ nocdc       │  790.1 MiB │  455.5 MiB │     457.2 MiB │         58% │          58% │\n",
       "├──────────────┼─────────────┼─────────────┼────────────┼────────────┼───────────────┼─────────────┼──────────────┤\n",
       "│ with-remove… │ zstd        │ nocdc       │  547.8 MiB │  315.2 MiB │     316.4 MiB │         58% │          58% │\n",
       "└──────────────┴─────────────┴─────────────┴────────────┴────────────┴───────────────┴─────────────┴──────────────┘\n"
      ]
     },
     "metadata": {},
     "output_type": "display_data"
    }
   ],
   "source": [
    "visualize(table, {\"with-removed-columns1\": table_with_removed_columns})"
   ]
  },
  {
   "cell_type": "markdown",
   "id": "890ed6e0",
   "metadata": {},
   "source": [
    "Since we are removing entire columns we can only see changes in the footer metadata, all the other columns remain unchanged and already existing in the storage layer, so they are not transferred again."
   ]
  },
  {
   "cell_type": "markdown",
   "id": "3213d050",
   "metadata": {},
   "source": [
    "### 3. Changing Column Types in the Table\n",
    "\n",
    "Another common use case is changing the column types in the table e.g. to reduce the storage size or to optimize the data for specific queries. Let's change the `score` column from `float64` to `float32` and see how much data is transferred:"
   ]
  },
  {
   "cell_type": "code",
   "execution_count": 29,
   "id": "ac3bb9b6",
   "metadata": {},
   "outputs": [],
   "source": [
    "# first make the table much smaller by removing the largest column\n",
    "# this will highlight the change in the heatmap much better\n",
    "table_without_text = table_with_new_columns.drop([\"question\", \"response\"])"
   ]
  },
  {
   "cell_type": "code",
   "execution_count": 30,
   "id": "a0b5fc2e",
   "metadata": {},
   "outputs": [],
   "source": [
    "# cast the question_length column to int64\n",
    "table_with_casted_column = table_without_text.set_column(\n",
    "    table_without_text.schema.get_field_index(\"question_length\"),\n",
    "    \"question_length\",\n",
    "    table_without_text[\"question_length\"].cast(\"int64\")\n",
    ")\n",
    "\n",
    "# pq.write_table(table_with_casted_column, \"hf://datasets/kszucs/pq/finemath-100k-with-casted-column.parquet\")"
   ]
  },
  {
   "cell_type": "markdown",
   "id": "31844261",
   "metadata": {},
   "source": [
    "Again, we can see that only the new column and the updated parquet metadata were uploaded. Now visualize the deduplication heatmap:"
   ]
  },
  {
   "cell_type": "code",
   "execution_count": 32,
   "id": "0d5ad33f",
   "metadata": {},
   "outputs": [
    {
     "data": {
      "text/markdown": [
       "\n",
       "#### Parquet Deduplication for With-casted-column1\n",
       "    \n",
       "| Variant | No Compression | Zstd Compression  | Snappy Compression |\n",
       "|---------|----------------|-------------------|--------------------|\n",
       "| Vanilla Parquet | ![with-casted-column1 Vanilla](temp-none-with-casted-column1-nocdc.parquet.png) | ![with-casted-column1 Vanilla](temp-zstd-with-casted-column1-nocdc.parquet.png) | ![with-casted-column1 Vanilla](temp-snappy-with-casted-column1-nocdc.parquet.png) |\n",
       "\n"
      ],
      "text/plain": [
       "<IPython.core.display.Markdown object>"
      ]
     },
     "metadata": {},
     "output_type": "display_data"
    },
    {
     "data": {
      "text/html": [
       "<pre style=\"white-space:pre;overflow-x:auto;line-height:normal;font-family:Menlo,'DejaVu Sans Mono',consolas,'Courier New',monospace\">┏━━━━━━━━━━━━━━┳━━━━━━━━━━━━━┳━━━━━━━━━━━━━┳━━━━━━━━━━━━┳━━━━━━━━━━━━┳━━━━━━━━━━━━━━━┳━━━━━━━━━━━━━┳━━━━━━━━━━━━━━┓\n",
       "┃<span style=\"color: #800080; text-decoration-color: #800080; font-weight: bold\">              </span>┃<span style=\"color: #800080; text-decoration-color: #800080; font-weight: bold\">             </span>┃<span style=\"color: #800080; text-decoration-color: #800080; font-weight: bold\">             </span>┃<span style=\"color: #800080; text-decoration-color: #800080; font-weight: bold\">            </span>┃<span style=\"color: #800080; text-decoration-color: #800080; font-weight: bold\">            </span>┃<span style=\"color: #800080; text-decoration-color: #800080; font-weight: bold\">    Compressed </span>┃<span style=\"color: #800080; text-decoration-color: #800080; font-weight: bold\">             </span>┃<span style=\"color: #800080; text-decoration-color: #800080; font-weight: bold\">   Compressed </span>┃\n",
       "┃<span style=\"color: #800080; text-decoration-color: #800080; font-weight: bold\"> Title        </span>┃<span style=\"color: #800080; text-decoration-color: #800080; font-weight: bold\"> Compression </span>┃<span style=\"color: #800080; text-decoration-color: #800080; font-weight: bold\"> Parquet CDC </span>┃<span style=\"color: #800080; text-decoration-color: #800080; font-weight: bold\"> Total Size </span>┃<span style=\"color: #800080; text-decoration-color: #800080; font-weight: bold\"> Chunk Size </span>┃<span style=\"color: #800080; text-decoration-color: #800080; font-weight: bold\">    Chunk Size </span>┃<span style=\"color: #800080; text-decoration-color: #800080; font-weight: bold\"> Dedup Ratio </span>┃<span style=\"color: #800080; text-decoration-color: #800080; font-weight: bold\">  Dedup Ratio </span>┃\n",
       "┡━━━━━━━━━━━━━━╇━━━━━━━━━━━━━╇━━━━━━━━━━━━━╇━━━━━━━━━━━━╇━━━━━━━━━━━━╇━━━━━━━━━━━━━━━╇━━━━━━━━━━━━━╇━━━━━━━━━━━━━━┩\n",
       "│ with-casted… │ none        │ nocdc       │   64.9 MiB │   32.6 MiB │      20.4 MiB │         50% │          31% │\n",
       "├──────────────┼─────────────┼─────────────┼────────────┼────────────┼───────────────┼─────────────┼──────────────┤\n",
       "│ with-casted… │ snappy      │ nocdc       │   39.3 MiB │   19.8 MiB │      19.9 MiB │         50% │          51% │\n",
       "├──────────────┼─────────────┼─────────────┼────────────┼────────────┼───────────────┼─────────────┼──────────────┤\n",
       "│ with-casted… │ zstd        │ nocdc       │   26.6 MiB │   13.6 MiB │      13.7 MiB │         51% │          51% │\n",
       "└──────────────┴─────────────┴─────────────┴────────────┴────────────┴───────────────┴─────────────┴──────────────┘\n",
       "</pre>\n"
      ],
      "text/plain": [
       "┏━━━━━━━━━━━━━━┳━━━━━━━━━━━━━┳━━━━━━━━━━━━━┳━━━━━━━━━━━━┳━━━━━━━━━━━━┳━━━━━━━━━━━━━━━┳━━━━━━━━━━━━━┳━━━━━━━━━━━━━━┓\n",
       "┃\u001b[1;35m              \u001b[0m┃\u001b[1;35m             \u001b[0m┃\u001b[1;35m             \u001b[0m┃\u001b[1;35m            \u001b[0m┃\u001b[1;35m            \u001b[0m┃\u001b[1;35m \u001b[0m\u001b[1;35m   Compressed\u001b[0m\u001b[1;35m \u001b[0m┃\u001b[1;35m             \u001b[0m┃\u001b[1;35m \u001b[0m\u001b[1;35m  Compressed\u001b[0m\u001b[1;35m \u001b[0m┃\n",
       "┃\u001b[1;35m \u001b[0m\u001b[1;35mTitle       \u001b[0m\u001b[1;35m \u001b[0m┃\u001b[1;35m \u001b[0m\u001b[1;35mCompression\u001b[0m\u001b[1;35m \u001b[0m┃\u001b[1;35m \u001b[0m\u001b[1;35mParquet CDC\u001b[0m\u001b[1;35m \u001b[0m┃\u001b[1;35m \u001b[0m\u001b[1;35mTotal Size\u001b[0m\u001b[1;35m \u001b[0m┃\u001b[1;35m \u001b[0m\u001b[1;35mChunk Size\u001b[0m\u001b[1;35m \u001b[0m┃\u001b[1;35m \u001b[0m\u001b[1;35m   Chunk Size\u001b[0m\u001b[1;35m \u001b[0m┃\u001b[1;35m \u001b[0m\u001b[1;35mDedup Ratio\u001b[0m\u001b[1;35m \u001b[0m┃\u001b[1;35m \u001b[0m\u001b[1;35m Dedup Ratio\u001b[0m\u001b[1;35m \u001b[0m┃\n",
       "┡━━━━━━━━━━━━━━╇━━━━━━━━━━━━━╇━━━━━━━━━━━━━╇━━━━━━━━━━━━╇━━━━━━━━━━━━╇━━━━━━━━━━━━━━━╇━━━━━━━━━━━━━╇━━━━━━━━━━━━━━┩\n",
       "│ with-casted… │ none        │ nocdc       │   64.9 MiB │   32.6 MiB │      20.4 MiB │         50% │          31% │\n",
       "├──────────────┼─────────────┼─────────────┼────────────┼────────────┼───────────────┼─────────────┼──────────────┤\n",
       "│ with-casted… │ snappy      │ nocdc       │   39.3 MiB │   19.8 MiB │      19.9 MiB │         50% │          51% │\n",
       "├──────────────┼─────────────┼─────────────┼────────────┼────────────┼───────────────┼─────────────┼──────────────┤\n",
       "│ with-casted… │ zstd        │ nocdc       │   26.6 MiB │   13.6 MiB │      13.7 MiB │         51% │          51% │\n",
       "└──────────────┴─────────────┴─────────────┴────────────┴────────────┴───────────────┴─────────────┴──────────────┘\n"
      ]
     },
     "metadata": {},
     "output_type": "display_data"
    }
   ],
   "source": [
    "visualize(table_without_text, {\"with-casted-column1\": table_with_casted_column})"
   ]
  },
  {
   "cell_type": "markdown",
   "id": "c733f327",
   "metadata": {},
   "source": [
    "The first red block indicates the new column that was added, while the second red block indicates the updated metadata in the footer. The rest of the data remains unchanged and is not transferred again."
   ]
  },
  {
   "cell_type": "markdown",
   "id": "8eb37a7e",
   "metadata": {},
   "source": [
    "### 4. Appending New Rows and Concatenating Tables\n",
    "\n",
    "We are going to append new rows by concatenating another slice of the original dataset to the table. "
   ]
  },
  {
   "cell_type": "code",
   "execution_count": 36,
   "id": "4b15a087",
   "metadata": {},
   "outputs": [],
   "source": [
    "# ds = load_dataset(\"HuggingFaceTB/finemath\", \"finemath-4plus\", split=\"train[:110_000]\")\n",
    "# table = ds.data.table[:100_000]\n",
    "# next_10k_rows = ds.data.table[100_000:110_000]\n",
    "\n",
    "import pyarrow as pa\n",
    "\n",
    "original = table[:300_000]\n",
    "next_20k_rows = table[300_000:320_000]\n",
    "appended = pa.concat_tables([original, next_20k_rows])\n",
    "\n",
    "assert len(appended) == 320_000"
   ]
  },
  {
   "cell_type": "markdown",
   "id": "94c8ae18",
   "metadata": {},
   "source": [
    "Now check that only the new rows are being uploaded since the original data is already known to the Xet storage layer:"
   ]
  },
  {
   "cell_type": "code",
   "execution_count": null,
   "id": "e7886c66",
   "metadata": {},
   "outputs": [
    {
     "data": {
      "application/vnd.jupyter.widget-view+json": {
       "model_id": "c7a0e457c4e3430499c3e1815988c3b8",
       "version_major": 2,
       "version_minor": 0
      },
      "text/plain": [
       "Processing Files (0 / 0)                : |          |  0.00B /  0.00B            "
      ]
     },
     "metadata": {},
     "output_type": "display_data"
    },
    {
     "data": {
      "application/vnd.jupyter.widget-view+json": {
       "model_id": "dc10e87a33ca4f458ea41a4ecb2ad731",
       "version_major": 2,
       "version_minor": 0
      },
      "text/plain": [
       "New Data Upload                         : |          |  0.00B /  0.00B            "
      ]
     },
     "metadata": {},
     "output_type": "display_data"
    },
    {
     "data": {
      "application/vnd.jupyter.widget-view+json": {
       "model_id": "bd9d65b67857496b8e4959e24a83bbed",
       "version_major": 2,
       "version_minor": 0
      },
      "text/plain": [
       "  ..._mlhlq2kgrd_m0000gn/T/hffs-lzvp9gvu:  70%|######9   |  210MB /  300MB            "
      ]
     },
     "metadata": {},
     "output_type": "display_data"
    }
   ],
   "source": [
    "# pq.write_table(table_with_appended_rows, \"hf://datasets/kszucs/pq/finemath-110k.parquet\")"
   ]
  },
  {
   "cell_type": "code",
   "execution_count": 37,
   "id": "3ebc9823",
   "metadata": {},
   "outputs": [
    {
     "data": {
      "text/markdown": [
       "\n",
       "#### Parquet Deduplication for With-appended-rows\n",
       "    \n",
       "| Variant | No Compression | Zstd Compression  | Snappy Compression |\n",
       "|---------|----------------|-------------------|--------------------|\n",
       "| Vanilla Parquet | ![with-appended-rows Vanilla](temp-none-with-appended-rows-nocdc.parquet.png) | ![with-appended-rows Vanilla](temp-zstd-with-appended-rows-nocdc.parquet.png) | ![with-appended-rows Vanilla](temp-snappy-with-appended-rows-nocdc.parquet.png) |\n",
       "\n"
      ],
      "text/plain": [
       "<IPython.core.display.Markdown object>"
      ]
     },
     "metadata": {},
     "output_type": "display_data"
    },
    {
     "data": {
      "text/html": [
       "<pre style=\"white-space:pre;overflow-x:auto;line-height:normal;font-family:Menlo,'DejaVu Sans Mono',consolas,'Courier New',monospace\">┏━━━━━━━━━━━━━━┳━━━━━━━━━━━━━┳━━━━━━━━━━━━━┳━━━━━━━━━━━━┳━━━━━━━━━━━━┳━━━━━━━━━━━━━━┳━━━━━━━━━━━━━┳━━━━━━━━━━━━━━━┓\n",
       "┃<span style=\"color: #800080; text-decoration-color: #800080; font-weight: bold\">              </span>┃<span style=\"color: #800080; text-decoration-color: #800080; font-weight: bold\">             </span>┃<span style=\"color: #800080; text-decoration-color: #800080; font-weight: bold\">             </span>┃<span style=\"color: #800080; text-decoration-color: #800080; font-weight: bold\">            </span>┃<span style=\"color: #800080; text-decoration-color: #800080; font-weight: bold\">            </span>┃<span style=\"color: #800080; text-decoration-color: #800080; font-weight: bold\">   Compressed </span>┃<span style=\"color: #800080; text-decoration-color: #800080; font-weight: bold\">             </span>┃<span style=\"color: #800080; text-decoration-color: #800080; font-weight: bold\">    Compressed </span>┃\n",
       "┃<span style=\"color: #800080; text-decoration-color: #800080; font-weight: bold\"> Title        </span>┃<span style=\"color: #800080; text-decoration-color: #800080; font-weight: bold\"> Compression </span>┃<span style=\"color: #800080; text-decoration-color: #800080; font-weight: bold\"> Parquet CDC </span>┃<span style=\"color: #800080; text-decoration-color: #800080; font-weight: bold\"> Total Size </span>┃<span style=\"color: #800080; text-decoration-color: #800080; font-weight: bold\"> Chunk Size </span>┃<span style=\"color: #800080; text-decoration-color: #800080; font-weight: bold\">   Chunk Size </span>┃<span style=\"color: #800080; text-decoration-color: #800080; font-weight: bold\"> Dedup Ratio </span>┃<span style=\"color: #800080; text-decoration-color: #800080; font-weight: bold\">   Dedup Ratio </span>┃\n",
       "┡━━━━━━━━━━━━━━╇━━━━━━━━━━━━━╇━━━━━━━━━━━━━╇━━━━━━━━━━━━╇━━━━━━━━━━━━╇━━━━━━━━━━━━━━╇━━━━━━━━━━━━━╇━━━━━━━━━━━━━━━┩\n",
       "│ with-append… │ none        │ nocdc       │  920.9 MiB │  476.1 MiB │    301.9 MiB │         52% │           33% │\n",
       "├──────────────┼─────────────┼─────────────┼────────────┼────────────┼──────────────┼─────────────┼───────────────┤\n",
       "│ with-append… │ snappy      │ nocdc       │  564.1 MiB │  291.6 MiB │    292.6 MiB │         52% │           52% │\n",
       "├──────────────┼─────────────┼─────────────┼────────────┼────────────┼──────────────┼─────────────┼───────────────┤\n",
       "│ with-append… │ zstd        │ nocdc       │  390.5 MiB │  202.1 MiB │    202.9 MiB │         52% │           52% │\n",
       "└──────────────┴─────────────┴─────────────┴────────────┴────────────┴──────────────┴─────────────┴───────────────┘\n",
       "</pre>\n"
      ],
      "text/plain": [
       "┏━━━━━━━━━━━━━━┳━━━━━━━━━━━━━┳━━━━━━━━━━━━━┳━━━━━━━━━━━━┳━━━━━━━━━━━━┳━━━━━━━━━━━━━━┳━━━━━━━━━━━━━┳━━━━━━━━━━━━━━━┓\n",
       "┃\u001b[1;35m              \u001b[0m┃\u001b[1;35m             \u001b[0m┃\u001b[1;35m             \u001b[0m┃\u001b[1;35m            \u001b[0m┃\u001b[1;35m            \u001b[0m┃\u001b[1;35m \u001b[0m\u001b[1;35m  Compressed\u001b[0m\u001b[1;35m \u001b[0m┃\u001b[1;35m             \u001b[0m┃\u001b[1;35m \u001b[0m\u001b[1;35m   Compressed\u001b[0m\u001b[1;35m \u001b[0m┃\n",
       "┃\u001b[1;35m \u001b[0m\u001b[1;35mTitle       \u001b[0m\u001b[1;35m \u001b[0m┃\u001b[1;35m \u001b[0m\u001b[1;35mCompression\u001b[0m\u001b[1;35m \u001b[0m┃\u001b[1;35m \u001b[0m\u001b[1;35mParquet CDC\u001b[0m\u001b[1;35m \u001b[0m┃\u001b[1;35m \u001b[0m\u001b[1;35mTotal Size\u001b[0m\u001b[1;35m \u001b[0m┃\u001b[1;35m \u001b[0m\u001b[1;35mChunk Size\u001b[0m\u001b[1;35m \u001b[0m┃\u001b[1;35m \u001b[0m\u001b[1;35m  Chunk Size\u001b[0m\u001b[1;35m \u001b[0m┃\u001b[1;35m \u001b[0m\u001b[1;35mDedup Ratio\u001b[0m\u001b[1;35m \u001b[0m┃\u001b[1;35m \u001b[0m\u001b[1;35m  Dedup Ratio\u001b[0m\u001b[1;35m \u001b[0m┃\n",
       "┡━━━━━━━━━━━━━━╇━━━━━━━━━━━━━╇━━━━━━━━━━━━━╇━━━━━━━━━━━━╇━━━━━━━━━━━━╇━━━━━━━━━━━━━━╇━━━━━━━━━━━━━╇━━━━━━━━━━━━━━━┩\n",
       "│ with-append… │ none        │ nocdc       │  920.9 MiB │  476.1 MiB │    301.9 MiB │         52% │           33% │\n",
       "├──────────────┼─────────────┼─────────────┼────────────┼────────────┼──────────────┼─────────────┼───────────────┤\n",
       "│ with-append… │ snappy      │ nocdc       │  564.1 MiB │  291.6 MiB │    292.6 MiB │         52% │           52% │\n",
       "├──────────────┼─────────────┼─────────────┼────────────┼────────────┼──────────────┼─────────────┼───────────────┤\n",
       "│ with-append… │ zstd        │ nocdc       │  390.5 MiB │  202.1 MiB │    202.9 MiB │         52% │           52% │\n",
       "└──────────────┴─────────────┴─────────────┴────────────┴────────────┴──────────────┴─────────────┴───────────────┘\n"
      ]
     },
     "metadata": {},
     "output_type": "display_data"
    }
   ],
   "source": [
    "visualize(original, {\"with-appended-rows\": appended})"
   ]
  },
  {
   "cell_type": "markdown",
   "id": "bc6ea95c",
   "metadata": {},
   "source": [
    "Since each column gets new data, we can see multiple red strides. This is due to the actual parquet file specification where whole columns are layed out after each other (within each row group). Note the large read area at the bottom which is the new data for the `text` column. "
   ]
  },
  {
   "cell_type": "markdown",
   "id": "66b3eb8d",
   "metadata": {},
   "source": [
    "### 5. Inserting / Deleting Rows in the Table\n",
    "\n",
    "Here comes the difficult part as insertions and deletions are shifting the existing rows which lead to different columns chunks or data pages in the parquet nomenclature. Since each data page is compressed separately, even a single row insertion or deletion can lead to a completely different byte-level representation starting from the edited row(s) to the end of the parquet file. \n",
    "\n",
    "This parquet specific problem cannot be solved by the Xet storage layer alone, the parquet file itself needs to be written in a way that minimizes the data page differences even if there are inserted or deleted rows. \n",
    "\n",
    "Let's try to use the existing mechanism and see how it performs."
   ]
  },
  {
   "cell_type": "code",
   "execution_count": 121,
   "id": "504014a1",
   "metadata": {},
   "outputs": [
    {
     "data": {
      "application/vnd.jupyter.widget-view+json": {
       "model_id": "416d2931dd984da888e83c15a19fca93",
       "version_major": 2,
       "version_minor": 0
      },
      "text/plain": [
       "Resolving data files:   0%|          | 0/128 [00:00<?, ?it/s]"
      ]
     },
     "metadata": {},
     "output_type": "display_data"
    },
    {
     "data": {
      "application/vnd.jupyter.widget-view+json": {
       "model_id": "9527802e7022424ca915890463206a06",
       "version_major": 2,
       "version_minor": 0
      },
      "text/plain": [
       "Resolving data files:   0%|          | 0/64 [00:00<?, ?it/s]"
      ]
     },
     "metadata": {},
     "output_type": "display_data"
    }
   ],
   "source": [
    "ds = load_dataset(\"HuggingFaceTB/finemath\", \"finemath-4plus\", split=\"train[:110_000]\")\n",
    "\n",
    "table_source = ds.data.table\n",
    "table_original = table_source[:100_000]\n",
    "\n",
    "# remove 10k rows from the middle\n",
    "table_with_deleted_rows = pa.concat_tables([\n",
    "    table_source[:50_001], \n",
    "    table_source[60_000:100_000]\n",
    "])\n",
    "\n",
    "# add 10k rows to the middle from the end of `table`\n",
    "table_with_inserted_rows = pa.concat_tables([\n",
    "    table_source[:50_000], \n",
    "    table_source[100_000:110_000], \n",
    "    table_source[50_000:100_000]\n",
    "])\n",
    "\n",
    "# assert len(table_original) == 100_000\n",
    "# assert len(table_with_deleted_rows) == 90_000\n",
    "# assert len(table_with_inserted_rows) == 110_000"
   ]
  },
  {
   "cell_type": "code",
   "execution_count": 113,
   "id": "eeac1f1c",
   "metadata": {},
   "outputs": [
    {
     "data": {
      "application/vnd.jupyter.widget-view+json": {
       "model_id": "22d9f059aa9d45f4b2b02ae02adfa7f8",
       "version_major": 2,
       "version_minor": 0
      },
      "text/plain": [
       "Processing Files (0 / 0)                : |          |  0.00B /  0.00B            "
      ]
     },
     "metadata": {},
     "output_type": "display_data"
    },
    {
     "data": {
      "application/vnd.jupyter.widget-view+json": {
       "model_id": "3d0d5374a2b840cebb7c05d281658d4e",
       "version_major": 2,
       "version_minor": 0
      },
      "text/plain": [
       "New Data Upload                         : |          |  0.00B /  0.00B            "
      ]
     },
     "metadata": {},
     "output_type": "display_data"
    },
    {
     "data": {
      "application/vnd.jupyter.widget-view+json": {
       "model_id": "da1e8ce918644960aec59f9fb17be776",
       "version_major": 2,
       "version_minor": 0
      },
      "text/plain": [
       "  ..._mlhlq2kgrd_m0000gn/T/hffs-hktgiian:  95%|#########5| 6.00MB / 6.31MB            "
      ]
     },
     "metadata": {},
     "output_type": "display_data"
    }
   ],
   "source": [
    "pq.write_table(table_original, \"hf://datasets/kszucs/pq/finemath-200k-original.parquet\")"
   ]
  },
  {
   "cell_type": "code",
   "execution_count": 114,
   "id": "53057b25",
   "metadata": {},
   "outputs": [
    {
     "data": {
      "application/vnd.jupyter.widget-view+json": {
       "model_id": "5f7128db08c342ac96a246e9fb34f074",
       "version_major": 2,
       "version_minor": 0
      },
      "text/plain": [
       "Processing Files (0 / 0)                : |          |  0.00B /  0.00B            "
      ]
     },
     "metadata": {},
     "output_type": "display_data"
    },
    {
     "data": {
      "application/vnd.jupyter.widget-view+json": {
       "model_id": "c402a77b336f4733bfdb5189d0a55c90",
       "version_major": 2,
       "version_minor": 0
      },
      "text/plain": [
       "New Data Upload                         : |          |  0.00B /  0.00B            "
      ]
     },
     "metadata": {},
     "output_type": "display_data"
    },
    {
     "data": {
      "application/vnd.jupyter.widget-view+json": {
       "model_id": "5d14acd267f64b78b013b27050634ce6",
       "version_major": 2,
       "version_minor": 0
      },
      "text/plain": [
       "  ..._mlhlq2kgrd_m0000gn/T/hffs-cd_zush_:  50%|####9     | 2.82MB / 5.68MB            "
      ]
     },
     "metadata": {},
     "output_type": "display_data"
    }
   ],
   "source": [
    "pq.write_table(table_with_deleted_rows, \"hf://datasets/kszucs/pq/finemath-190k-with-deleted-rows.parquet\")"
   ]
  },
  {
   "cell_type": "code",
   "execution_count": 122,
   "id": "18561660",
   "metadata": {},
   "outputs": [
    {
     "data": {
      "text/markdown": [
       "\n",
       "#### Parquet Deduplication for With-deleted-rows\n",
       "    \n",
       "| Variant | No Compression | Zstd Compression  | Snappy Compression |\n",
       "|---------|----------------|-------------------|--------------------|\n",
       "| Vanilla Parquet | ![with-deleted-rows Vanilla](temp-none-with-deleted-rows-nocdc.parquet.png) | ![with-deleted-rows Vanilla](temp-zstd-with-deleted-rows-nocdc.parquet.png) | ![with-deleted-rows Vanilla](temp-snappy-with-deleted-rows-nocdc.parquet.png) |\n",
       "| CDC Parquet | ![with-deleted-rows CDC](temp-none-with-deleted-rows-cdc.parquet.png) | ![with-deleted-rows CDC](temp-zstd-with-deleted-rows-cdc.parquet.png) | ![with-deleted-rows CDC](temp-snappy-with-deleted-rows-cdc.parquet.png) |\n",
       "\n"
      ],
      "text/plain": [
       "<IPython.core.display.Markdown object>"
      ]
     },
     "metadata": {},
     "output_type": "display_data"
    },
    {
     "data": {
      "text/markdown": [
       "\n",
       "#### Parquet Deduplication for With-inserted-rows\n",
       "    \n",
       "| Variant | No Compression | Zstd Compression  | Snappy Compression |\n",
       "|---------|----------------|-------------------|--------------------|\n",
       "| Vanilla Parquet | ![with-inserted-rows Vanilla](temp-none-with-inserted-rows-nocdc.parquet.png) | ![with-inserted-rows Vanilla](temp-zstd-with-inserted-rows-nocdc.parquet.png) | ![with-inserted-rows Vanilla](temp-snappy-with-inserted-rows-nocdc.parquet.png) |\n",
       "| CDC Parquet | ![with-inserted-rows CDC](temp-none-with-inserted-rows-cdc.parquet.png) | ![with-inserted-rows CDC](temp-zstd-with-inserted-rows-cdc.parquet.png) | ![with-inserted-rows CDC](temp-snappy-with-inserted-rows-cdc.parquet.png) |\n",
       "\n"
      ],
      "text/plain": [
       "<IPython.core.display.Markdown object>"
      ]
     },
     "metadata": {},
     "output_type": "display_data"
    },
    {
     "data": {
      "text/html": [
       "<pre style=\"white-space:pre;overflow-x:auto;line-height:normal;font-family:Menlo,'DejaVu Sans Mono',consolas,'Courier New',monospace\">┏━━━━━━━━━━━━━━┳━━━━━━━━━━━━━┳━━━━━━━━━━━━━┳━━━━━━━━━━━━┳━━━━━━━━━━━━┳━━━━━━━━━━━━━━┳━━━━━━━━━━━━━┳━━━━━━━━━━━━━━━┓\n",
       "┃<span style=\"color: #800080; text-decoration-color: #800080; font-weight: bold\">              </span>┃<span style=\"color: #800080; text-decoration-color: #800080; font-weight: bold\">             </span>┃<span style=\"color: #800080; text-decoration-color: #800080; font-weight: bold\">             </span>┃<span style=\"color: #800080; text-decoration-color: #800080; font-weight: bold\">            </span>┃<span style=\"color: #800080; text-decoration-color: #800080; font-weight: bold\">            </span>┃<span style=\"color: #800080; text-decoration-color: #800080; font-weight: bold\">   Compressed </span>┃<span style=\"color: #800080; text-decoration-color: #800080; font-weight: bold\">             </span>┃<span style=\"color: #800080; text-decoration-color: #800080; font-weight: bold\">    Compressed </span>┃\n",
       "┃<span style=\"color: #800080; text-decoration-color: #800080; font-weight: bold\"> Title        </span>┃<span style=\"color: #800080; text-decoration-color: #800080; font-weight: bold\"> Compression </span>┃<span style=\"color: #800080; text-decoration-color: #800080; font-weight: bold\"> Parquet CDC </span>┃<span style=\"color: #800080; text-decoration-color: #800080; font-weight: bold\"> Total Size </span>┃<span style=\"color: #800080; text-decoration-color: #800080; font-weight: bold\"> Chunk Size </span>┃<span style=\"color: #800080; text-decoration-color: #800080; font-weight: bold\">   Chunk Size </span>┃<span style=\"color: #800080; text-decoration-color: #800080; font-weight: bold\"> Dedup Ratio </span>┃<span style=\"color: #800080; text-decoration-color: #800080; font-weight: bold\">   Dedup Ratio </span>┃\n",
       "┡━━━━━━━━━━━━━━╇━━━━━━━━━━━━━╇━━━━━━━━━━━━━╇━━━━━━━━━━━━╇━━━━━━━━━━━━╇━━━━━━━━━━━━━━╇━━━━━━━━━━━━━╇━━━━━━━━━━━━━━━┩\n",
       "│ with-delete… │ none        │ cdc         │  982.8 MiB │  530.6 MiB │    270.6 MiB │         54% │           28% │\n",
       "│ with-delete… │ none        │ nocdc       │  979.1 MiB │  526.1 MiB │    268.6 MiB │         54% │           27% │\n",
       "├──────────────┼─────────────┼─────────────┼────────────┼────────────┼──────────────┼─────────────┼───────────────┤\n",
       "│ with-delete… │ snappy      │ cdc         │  498.0 MiB │  269.6 MiB │    269.4 MiB │         54% │           54% │\n",
       "│ with-delete… │ snappy      │ nocdc       │  494.4 MiB │  268.5 MiB │    268.8 MiB │         54% │           54% │\n",
       "├──────────────┼─────────────┼─────────────┼────────────┼────────────┼──────────────┼─────────────┼───────────────┤\n",
       "│ with-delete… │ zstd        │ cdc         │  363.8 MiB │  196.6 MiB │    197.0 MiB │         54% │           54% │\n",
       "│ with-delete… │ zstd        │ nocdc       │  358.9 MiB │  195.1 MiB │    195.8 MiB │         54% │           55% │\n",
       "├──────────────┼─────────────┼─────────────┼────────────┼────────────┼──────────────┼─────────────┼───────────────┤\n",
       "│ with-insert… │ none        │ cdc         │    1.1 GiB │  589.9 MiB │    297.2 MiB │         54% │           27% │\n",
       "│ with-insert… │ none        │ nocdc       │    1.1 GiB │  587.7 MiB │    296.1 MiB │         54% │           27% │\n",
       "├──────────────┼─────────────┼─────────────┼────────────┼────────────┼──────────────┼─────────────┼───────────────┤\n",
       "│ with-insert… │ snappy      │ cdc         │  550.9 MiB │  296.0 MiB │    295.5 MiB │         54% │           54% │\n",
       "│ with-insert… │ snappy      │ nocdc       │  546.8 MiB │  294.6 MiB │    294.6 MiB │         54% │           54% │\n",
       "├──────────────┼─────────────┼─────────────┼────────────┼────────────┼──────────────┼─────────────┼───────────────┤\n",
       "│ with-insert… │ zstd        │ cdc         │  402.1 MiB │  216.0 MiB │    216.4 MiB │         54% │           54% │\n",
       "│ with-insert… │ zstd        │ nocdc       │  396.8 MiB │  213.4 MiB │    214.2 MiB │         54% │           54% │\n",
       "└──────────────┴─────────────┴─────────────┴────────────┴────────────┴──────────────┴─────────────┴───────────────┘\n",
       "</pre>\n"
      ],
      "text/plain": [
       "┏━━━━━━━━━━━━━━┳━━━━━━━━━━━━━┳━━━━━━━━━━━━━┳━━━━━━━━━━━━┳━━━━━━━━━━━━┳━━━━━━━━━━━━━━┳━━━━━━━━━━━━━┳━━━━━━━━━━━━━━━┓\n",
       "┃\u001b[1;35m              \u001b[0m┃\u001b[1;35m             \u001b[0m┃\u001b[1;35m             \u001b[0m┃\u001b[1;35m            \u001b[0m┃\u001b[1;35m            \u001b[0m┃\u001b[1;35m \u001b[0m\u001b[1;35m  Compressed\u001b[0m\u001b[1;35m \u001b[0m┃\u001b[1;35m             \u001b[0m┃\u001b[1;35m \u001b[0m\u001b[1;35m   Compressed\u001b[0m\u001b[1;35m \u001b[0m┃\n",
       "┃\u001b[1;35m \u001b[0m\u001b[1;35mTitle       \u001b[0m\u001b[1;35m \u001b[0m┃\u001b[1;35m \u001b[0m\u001b[1;35mCompression\u001b[0m\u001b[1;35m \u001b[0m┃\u001b[1;35m \u001b[0m\u001b[1;35mParquet CDC\u001b[0m\u001b[1;35m \u001b[0m┃\u001b[1;35m \u001b[0m\u001b[1;35mTotal Size\u001b[0m\u001b[1;35m \u001b[0m┃\u001b[1;35m \u001b[0m\u001b[1;35mChunk Size\u001b[0m\u001b[1;35m \u001b[0m┃\u001b[1;35m \u001b[0m\u001b[1;35m  Chunk Size\u001b[0m\u001b[1;35m \u001b[0m┃\u001b[1;35m \u001b[0m\u001b[1;35mDedup Ratio\u001b[0m\u001b[1;35m \u001b[0m┃\u001b[1;35m \u001b[0m\u001b[1;35m  Dedup Ratio\u001b[0m\u001b[1;35m \u001b[0m┃\n",
       "┡━━━━━━━━━━━━━━╇━━━━━━━━━━━━━╇━━━━━━━━━━━━━╇━━━━━━━━━━━━╇━━━━━━━━━━━━╇━━━━━━━━━━━━━━╇━━━━━━━━━━━━━╇━━━━━━━━━━━━━━━┩\n",
       "│ with-delete… │ none        │ cdc         │  982.8 MiB │  530.6 MiB │    270.6 MiB │         54% │           28% │\n",
       "│ with-delete… │ none        │ nocdc       │  979.1 MiB │  526.1 MiB │    268.6 MiB │         54% │           27% │\n",
       "├──────────────┼─────────────┼─────────────┼────────────┼────────────┼──────────────┼─────────────┼───────────────┤\n",
       "│ with-delete… │ snappy      │ cdc         │  498.0 MiB │  269.6 MiB │    269.4 MiB │         54% │           54% │\n",
       "│ with-delete… │ snappy      │ nocdc       │  494.4 MiB │  268.5 MiB │    268.8 MiB │         54% │           54% │\n",
       "├──────────────┼─────────────┼─────────────┼────────────┼────────────┼──────────────┼─────────────┼───────────────┤\n",
       "│ with-delete… │ zstd        │ cdc         │  363.8 MiB │  196.6 MiB │    197.0 MiB │         54% │           54% │\n",
       "│ with-delete… │ zstd        │ nocdc       │  358.9 MiB │  195.1 MiB │    195.8 MiB │         54% │           55% │\n",
       "├──────────────┼─────────────┼─────────────┼────────────┼────────────┼──────────────┼─────────────┼───────────────┤\n",
       "│ with-insert… │ none        │ cdc         │    1.1 GiB │  589.9 MiB │    297.2 MiB │         54% │           27% │\n",
       "│ with-insert… │ none        │ nocdc       │    1.1 GiB │  587.7 MiB │    296.1 MiB │         54% │           27% │\n",
       "├──────────────┼─────────────┼─────────────┼────────────┼────────────┼──────────────┼─────────────┼───────────────┤\n",
       "│ with-insert… │ snappy      │ cdc         │  550.9 MiB │  296.0 MiB │    295.5 MiB │         54% │           54% │\n",
       "│ with-insert… │ snappy      │ nocdc       │  546.8 MiB │  294.6 MiB │    294.6 MiB │         54% │           54% │\n",
       "├──────────────┼─────────────┼─────────────┼────────────┼────────────┼──────────────┼─────────────┼───────────────┤\n",
       "│ with-insert… │ zstd        │ cdc         │  402.1 MiB │  216.0 MiB │    216.4 MiB │         54% │           54% │\n",
       "│ with-insert… │ zstd        │ nocdc       │  396.8 MiB │  213.4 MiB │    214.2 MiB │         54% │           54% │\n",
       "└──────────────┴─────────────┴─────────────┴────────────┴────────────┴──────────────┴─────────────┴───────────────┘\n"
      ]
     },
     "metadata": {},
     "output_type": "display_data"
    }
   ],
   "source": [
    "visualize(\n",
    "    table_original, \n",
    "    {\n",
    "        \"with-deleted-rows\": table_with_deleted_rows,\n",
    "        \"with-inserted-rows\": table_with_inserted_rows\n",
    "    }, \n",
    "    with_content_defined_chunking=True\n",
    ")"
   ]
  },
  {
   "cell_type": "markdown",
   "id": "ce017879",
   "metadata": {},
   "source": []
  },
  {
   "cell_type": "markdown",
   "id": "fa72c60d",
   "metadata": {},
   "source": []
  },
  {
   "cell_type": "code",
   "execution_count": null,
   "id": "d016b5cf",
   "metadata": {},
   "outputs": [],
   "source": []
  },
  {
   "cell_type": "code",
   "execution_count": 82,
   "id": "4a4e001b",
   "metadata": {},
   "outputs": [
    {
     "data": {
      "text/html": [
       "<div>\n",
       "<style scoped>\n",
       "    .dataframe tbody tr th:only-of-type {\n",
       "        vertical-align: middle;\n",
       "    }\n",
       "\n",
       "    .dataframe tbody tr th {\n",
       "        vertical-align: top;\n",
       "    }\n",
       "\n",
       "    .dataframe thead th {\n",
       "        text-align: right;\n",
       "    }\n",
       "</style>\n",
       "<table border=\"1\" class=\"dataframe\">\n",
       "  <thead>\n",
       "    <tr style=\"text-align: right;\">\n",
       "      <th></th>\n",
       "      <th>url</th>\n",
       "      <th>fetch_time</th>\n",
       "      <th>content_mime_type</th>\n",
       "      <th>warc_filename</th>\n",
       "      <th>warc_record_offset</th>\n",
       "      <th>warc_record_length</th>\n",
       "      <th>text</th>\n",
       "      <th>token_count</th>\n",
       "      <th>char_count</th>\n",
       "      <th>metadata</th>\n",
       "      <th>score</th>\n",
       "      <th>int_score</th>\n",
       "      <th>crawl</th>\n",
       "      <th>snapshot_type</th>\n",
       "      <th>language</th>\n",
       "      <th>language_score</th>\n",
       "    </tr>\n",
       "  </thead>\n",
       "  <tbody>\n",
       "    <tr>\n",
       "      <th>0</th>\n",
       "      <td>https://ex.burnettmediagroup.com/what-is-the-p...</td>\n",
       "      <td>1627454305000000000</td>\n",
       "      <td>text/html</td>\n",
       "      <td>crawl-data/CC-MAIN-2021-31/segments/1627046153...</td>\n",
       "      <td>265657037</td>\n",
       "      <td>7750</td>\n",
       "      <td># What is the term”exclamation mark” in mathem...</td>\n",
       "      <td>509</td>\n",
       "      <td>1930</td>\n",
       "      <td>{\"found_math\": false, \"script_math_tex\": 0, \"s...</td>\n",
       "      <td>4.531250</td>\n",
       "      <td>5</td>\n",
       "      <td>CC-MAIN-2021-31</td>\n",
       "      <td>longest</td>\n",
       "      <td>en</td>\n",
       "      <td>0.901994</td>\n",
       "    </tr>\n",
       "    <tr>\n",
       "      <th>1</th>\n",
       "      <td>https://esingaporemath.com/program-grade-3</td>\n",
       "      <td>1638473770000000000</td>\n",
       "      <td>text/html</td>\n",
       "      <td>crawl-data/CC-MAIN-2021-49/segments/1637964362...</td>\n",
       "      <td>305205293</td>\n",
       "      <td>13865</td>\n",
       "      <td>Our curriculum is spiral\\n\\nPlease note that o...</td>\n",
       "      <td>1234</td>\n",
       "      <td>6132</td>\n",
       "      <td>{\"found_math\": false, \"script_math_tex\": 0, \"s...</td>\n",
       "      <td>4.093750</td>\n",
       "      <td>4</td>\n",
       "      <td>CC-MAIN-2021-49</td>\n",
       "      <td>latest</td>\n",
       "      <td>en</td>\n",
       "      <td>0.914701</td>\n",
       "    </tr>\n",
       "    <tr>\n",
       "      <th>2</th>\n",
       "      <td>https://www.teacherspayteachers.com/Product/Fr...</td>\n",
       "      <td>1537662858000000000</td>\n",
       "      <td>text/html</td>\n",
       "      <td>crawl-data/CC-MAIN-2018-39/segments/1537267158...</td>\n",
       "      <td>874532398</td>\n",
       "      <td>19691</td>\n",
       "      <td># Fractions Bundle \"Twist\" 12 Worksheets\\n\\nSu...</td>\n",
       "      <td>709</td>\n",
       "      <td>3141</td>\n",
       "      <td>{\"found_math\": false, \"script_math_tex\": 0, \"s...</td>\n",
       "      <td>3.921875</td>\n",
       "      <td>4</td>\n",
       "      <td>CC-MAIN-2018-39</td>\n",
       "      <td>latest</td>\n",
       "      <td>en</td>\n",
       "      <td>0.764651</td>\n",
       "    </tr>\n",
       "    <tr>\n",
       "      <th>3</th>\n",
       "      <td>https://www.hackmath.net/en/math-problem/8311</td>\n",
       "      <td>1611170840000000000</td>\n",
       "      <td>text/html</td>\n",
       "      <td>crawl-data/CC-MAIN-2021-04/segments/1610703521...</td>\n",
       "      <td>835761036</td>\n",
       "      <td>13306</td>\n",
       "      <td># Height of the room\\n\\nGiven the floor area o...</td>\n",
       "      <td>641</td>\n",
       "      <td>2490</td>\n",
       "      <td>{\"found_math\": false, \"script_math_tex\": 0, \"s...</td>\n",
       "      <td>4.187500</td>\n",
       "      <td>4</td>\n",
       "      <td>CC-MAIN-2021-04</td>\n",
       "      <td>longest</td>\n",
       "      <td>en</td>\n",
       "      <td>0.920097</td>\n",
       "    </tr>\n",
       "    <tr>\n",
       "      <th>4</th>\n",
       "      <td>https://www.jiskha.com/questions/838764/solve-...</td>\n",
       "      <td>1540044392000000000</td>\n",
       "      <td>text/html</td>\n",
       "      <td>crawl-data/CC-MAIN-2018-43/segments/1539583512...</td>\n",
       "      <td>980654936</td>\n",
       "      <td>3697</td>\n",
       "      <td>math\\n\\nsolve by using subsitution:\\n\\n4x+y=2\\...</td>\n",
       "      <td>316</td>\n",
       "      <td>731</td>\n",
       "      <td>{\"found_math\": false, \"script_math_tex\": 0, \"s...</td>\n",
       "      <td>3.671875</td>\n",
       "      <td>4</td>\n",
       "      <td>CC-MAIN-2018-43</td>\n",
       "      <td>latest</td>\n",
       "      <td>en</td>\n",
       "      <td>0.822756</td>\n",
       "    </tr>\n",
       "  </tbody>\n",
       "</table>\n",
       "</div>"
      ],
      "text/plain": [
       "                                                 url           fetch_time  \\\n",
       "0  https://ex.burnettmediagroup.com/what-is-the-p...  1627454305000000000   \n",
       "1         https://esingaporemath.com/program-grade-3  1638473770000000000   \n",
       "2  https://www.teacherspayteachers.com/Product/Fr...  1537662858000000000   \n",
       "3      https://www.hackmath.net/en/math-problem/8311  1611170840000000000   \n",
       "4  https://www.jiskha.com/questions/838764/solve-...  1540044392000000000   \n",
       "\n",
       "  content_mime_type                                      warc_filename  \\\n",
       "0         text/html  crawl-data/CC-MAIN-2021-31/segments/1627046153...   \n",
       "1         text/html  crawl-data/CC-MAIN-2021-49/segments/1637964362...   \n",
       "2         text/html  crawl-data/CC-MAIN-2018-39/segments/1537267158...   \n",
       "3         text/html  crawl-data/CC-MAIN-2021-04/segments/1610703521...   \n",
       "4         text/html  crawl-data/CC-MAIN-2018-43/segments/1539583512...   \n",
       "\n",
       "   warc_record_offset  warc_record_length  \\\n",
       "0           265657037                7750   \n",
       "1           305205293               13865   \n",
       "2           874532398               19691   \n",
       "3           835761036               13306   \n",
       "4           980654936                3697   \n",
       "\n",
       "                                                text  token_count  char_count  \\\n",
       "0  # What is the term”exclamation mark” in mathem...          509        1930   \n",
       "1  Our curriculum is spiral\\n\\nPlease note that o...         1234        6132   \n",
       "2  # Fractions Bundle \"Twist\" 12 Worksheets\\n\\nSu...          709        3141   \n",
       "3  # Height of the room\\n\\nGiven the floor area o...          641        2490   \n",
       "4  math\\n\\nsolve by using subsitution:\\n\\n4x+y=2\\...          316         731   \n",
       "\n",
       "                                            metadata     score  int_score  \\\n",
       "0  {\"found_math\": false, \"script_math_tex\": 0, \"s...  4.531250          5   \n",
       "1  {\"found_math\": false, \"script_math_tex\": 0, \"s...  4.093750          4   \n",
       "2  {\"found_math\": false, \"script_math_tex\": 0, \"s...  3.921875          4   \n",
       "3  {\"found_math\": false, \"script_math_tex\": 0, \"s...  4.187500          4   \n",
       "4  {\"found_math\": false, \"script_math_tex\": 0, \"s...  3.671875          4   \n",
       "\n",
       "             crawl snapshot_type language  language_score  \n",
       "0  CC-MAIN-2021-31       longest       en        0.901994  \n",
       "1  CC-MAIN-2021-49        latest       en        0.914701  \n",
       "2  CC-MAIN-2018-39        latest       en        0.764651  \n",
       "3  CC-MAIN-2021-04       longest       en        0.920097  \n",
       "4  CC-MAIN-2018-43        latest       en        0.822756  "
      ]
     },
     "execution_count": 82,
     "metadata": {},
     "output_type": "execute_result"
    }
   ],
   "source": [
    "table.to_pandas().head()"
   ]
  },
  {
   "cell_type": "markdown",
   "id": "17e67ba1",
   "metadata": {},
   "source": []
  },
  {
   "cell_type": "markdown",
   "id": "0e418e8b",
   "metadata": {},
   "source": [
    "According to the deduplication estimator, we expect to upload approximately 0.5GB of data to Hugging Face Hub."
   ]
  },
  {
   "cell_type": "markdown",
   "id": "d9498273",
   "metadata": {},
   "source": []
  },
  {
   "cell_type": "code",
   "execution_count": 83,
   "id": "d081b285",
   "metadata": {},
   "outputs": [
    {
     "data": {
      "application/vnd.jupyter.widget-view+json": {
       "model_id": "6c9408450c844900b3a0b5c8ae4f1efa",
       "version_major": 2,
       "version_minor": 0
      },
      "text/plain": [
       "Processing Files (0 / 0)                : |          |  0.00B /  0.00B            "
      ]
     },
     "metadata": {},
     "output_type": "display_data"
    },
    {
     "data": {
      "application/vnd.jupyter.widget-view+json": {
       "model_id": "a0b5485bc4be4f54a96aa5ba8531548d",
       "version_major": 2,
       "version_minor": 0
      },
      "text/plain": [
       "New Data Upload                         : |          |  0.00B /  0.00B            "
      ]
     },
     "metadata": {},
     "output_type": "display_data"
    },
    {
     "data": {
      "application/vnd.jupyter.widget-view+json": {
       "model_id": "3acda7dfe0c843ef9d2a7b110c87f60d",
       "version_major": 2,
       "version_minor": 0
      },
      "text/plain": [
       "  ..._mlhlq2kgrd_m0000gn/T/hffs-hqxs945m:  80%|#######9  |  218MB /  273MB            "
      ]
     },
     "metadata": {},
     "output_type": "display_data"
    }
   ],
   "source": [
    "pq.write_table(table, \"hf://datasets/kszucs/pq/finemath-1m.parquet\")"
   ]
  },
  {
   "cell_type": "code",
   "execution_count": 84,
   "id": "7d7bee55",
   "metadata": {},
   "outputs": [
    {
     "data": {
      "application/vnd.jupyter.widget-view+json": {
       "model_id": "300e46c0540b404384c89c3dc5144e50",
       "version_major": 2,
       "version_minor": 0
      },
      "text/plain": [
       "Processing Files (0 / 0)                : |          |  0.00B /  0.00B            "
      ]
     },
     "metadata": {},
     "output_type": "display_data"
    },
    {
     "data": {
      "application/vnd.jupyter.widget-view+json": {
       "model_id": "55d0f2a379874aad91b5dba7de1e8551",
       "version_major": 2,
       "version_minor": 0
      },
      "text/plain": [
       "New Data Upload                         : |          |  0.00B /  0.00B            "
      ]
     },
     "metadata": {},
     "output_type": "display_data"
    },
    {
     "data": {
      "application/vnd.jupyter.widget-view+json": {
       "model_id": "575f2e19976248a5ae8a840ca483288c",
       "version_major": 2,
       "version_minor": 0
      },
      "text/plain": [
       "  ..._mlhlq2kgrd_m0000gn/T/hffs-6jeszd21:  80%|#######9  |  218MB /  273MB            "
      ]
     },
     "metadata": {},
     "output_type": "display_data"
    }
   ],
   "source": [
    "pq.write_table(table[:100_000], \"hf://datasets/kszucs/pq/finemath-sample.parquet\")"
   ]
  },
  {
   "cell_type": "markdown",
   "id": "959da6b8",
   "metadata": {},
   "source": [
    "- reordering columns?"
   ]
  },
  {
   "cell_type": "markdown",
   "id": "1dfc2777",
   "metadata": {},
   "source": []
  }
 ],
 "metadata": {
  "kernelspec": {
   "display_name": "arrow13",
   "language": "python",
   "name": "python3"
  },
  "language_info": {
   "codemirror_mode": {
    "name": "ipython",
    "version": 3
   },
   "file_extension": ".py",
   "mimetype": "text/x-python",
   "name": "python",
   "nbconvert_exporter": "python",
   "pygments_lexer": "ipython3",
   "version": "3.13.5"
  }
 },
 "nbformat": 4,
 "nbformat_minor": 5
}
